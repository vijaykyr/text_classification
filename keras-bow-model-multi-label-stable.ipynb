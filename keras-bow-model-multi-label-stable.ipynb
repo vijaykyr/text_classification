{
 "cells": [
  {
   "cell_type": "code",
   "execution_count": 1,
   "metadata": {
    "colab": {
     "autoexec": {
      "startup": false,
      "wait_interval": 0
     }
    },
    "colab_type": "code",
    "collapsed": true,
    "id": "frTMl3sShA3P"
   },
   "outputs": [],
   "source": [
    "from __future__ import absolute_import\n",
    "from __future__ import division\n",
    "from __future__ import print_function"
   ]
  },
  {
   "cell_type": "code",
   "execution_count": 2,
   "metadata": {
    "colab": {
     "autoexec": {
      "startup": false,
      "wait_interval": 0
     },
     "height": 321,
     "output_extras": [
      {
       "item_id": 1
      }
     ]
    },
    "colab_type": "code",
    "executionInfo": {
     "elapsed": 2880,
     "status": "error",
     "timestamp": 1505781339378,
     "user": {
      "displayName": "Sara Robinson",
      "photoUrl": "//lh4.googleusercontent.com/-RR9n0dvbwgI/AAAAAAAAAAI/AAAAAAAAMYM/SOr5ZExpvXE/s50-c-k-no/photo.jpg",
      "userId": "112510032804989247452"
     },
     "user_tz": 240
    },
    "id": "783h64rGhA3T",
    "outputId": "d447b2ab-e321-4ee5-abd4-de2c0116302f"
   },
   "outputs": [
    {
     "name": "stdout",
     "output_type": "stream",
     "text": [
      "You have TensorFlow version 1.3.0\n"
     ]
    }
   ],
   "source": [
    "import itertools\n",
    "import os\n",
    "\n",
    "%matplotlib inline\n",
    "import matplotlib.pyplot as plt\n",
    "import numpy as np\n",
    "import pandas as pd\n",
    "import tensorflow as tf\n",
    "\n",
    "from sklearn.preprocessing import LabelBinarizer, LabelEncoder\n",
    "from sklearn.metrics import confusion_matrix\n",
    "\n",
    "from tensorflow.contrib.keras.python import keras\n",
    "from tensorflow.contrib.keras.python.keras.models import Sequential\n",
    "from tensorflow.contrib.keras.python.keras.layers import Dense, Activation, Dropout\n",
    "from tensorflow.contrib.keras.python.keras.preprocessing import text, sequence\n",
    "from tensorflow.contrib.keras.python.keras import utils\n",
    "\n",
    "from collections import Counter\n",
    "\n",
    "# This code was tested with TensorFlow v1.3\n",
    "print(\"You have TensorFlow version\", tf.__version__)"
   ]
  },
  {
   "cell_type": "code",
   "execution_count": 44,
   "metadata": {
    "colab": {
     "autoexec": {
      "startup": false,
      "wait_interval": 0
     }
    },
    "colab_type": "code",
    "id": "c7te21f7hA3V"
   },
   "outputs": [
    {
     "name": "stdout",
     "output_type": "stream",
     "text": [
      "Loaded 1000 rows\n"
     ]
    }
   ],
   "source": [
    "# The CSV was generated from this query: https://bigquery.cloud.google.com/savedquery/513927984416:c494494324be4a80b1fc55f613abb39c\n",
    "# The data is also publicly available at this Cloud Storage URL: https://storage.googleapis.com/tensorflow-workshop-examples/stack-overflow-data.csv\n",
    "\n",
    "data = pd.read_csv(\"results-1000.csv\")\n",
    "NUM_ROWS = data.shape[0]\n",
    "print(\"Loaded {} rows\".format(NUM_ROWS))"
   ]
  },
  {
   "cell_type": "code",
   "execution_count": 45,
   "metadata": {
    "colab": {
     "autoexec": {
      "startup": false,
      "wait_interval": 0
     },
     "output_extras": [
      {}
     ]
    },
    "colab_type": "code",
    "id": "chAbp3ryhA3X",
    "outputId": "3a16921d-a3be-4c43-a5e2-6012220ee13a"
   },
   "outputs": [
    {
     "data": {
      "text/html": [
       "<div>\n",
       "<style>\n",
       "    .dataframe thead tr:only-child th {\n",
       "        text-align: right;\n",
       "    }\n",
       "\n",
       "    .dataframe thead th {\n",
       "        text-align: left;\n",
       "    }\n",
       "\n",
       "    .dataframe tbody tr th {\n",
       "        vertical-align: top;\n",
       "    }\n",
       "</style>\n",
       "<table border=\"1\" class=\"dataframe\">\n",
       "  <thead>\n",
       "    <tr style=\"text-align: right;\">\n",
       "      <th></th>\n",
       "      <th>post</th>\n",
       "      <th>tags</th>\n",
       "    </tr>\n",
       "  </thead>\n",
       "  <tbody>\n",
       "    <tr>\n",
       "      <th>0</th>\n",
       "      <td>i have table of 8x8 i want to show images or v...</td>\n",
       "      <td>java|html|sql|oracle|jsp</td>\n",
       "    </tr>\n",
       "    <tr>\n",
       "      <th>1</th>\n",
       "      <td>putting the comment on a fb page  i am using j...</td>\n",
       "      <td>javascript|facebook-graph-api|facebook-javascr...</td>\n",
       "    </tr>\n",
       "    <tr>\n",
       "      <th>2</th>\n",
       "      <td>multiple transactions in hibernate  is there a...</td>\n",
       "      <td>java|hibernate</td>\n",
       "    </tr>\n",
       "    <tr>\n",
       "      <th>3</th>\n",
       "      <td>receiving fake path while uploading  whenever ...</td>\n",
       "      <td>javascript|html|file-upload</td>\n",
       "    </tr>\n",
       "    <tr>\n",
       "      <th>4</th>\n",
       "      <td>replace the visual studio find results  i m wa...</td>\n",
       "      <td>c#|.net|visual-studio-2010|visual-studio|visua...</td>\n",
       "    </tr>\n",
       "  </tbody>\n",
       "</table>\n",
       "</div>"
      ],
      "text/plain": [
       "                                                post  \\\n",
       "0  i have table of 8x8 i want to show images or v...   \n",
       "1  putting the comment on a fb page  i am using j...   \n",
       "2  multiple transactions in hibernate  is there a...   \n",
       "3  receiving fake path while uploading  whenever ...   \n",
       "4  replace the visual studio find results  i m wa...   \n",
       "\n",
       "                                                tags  \n",
       "0                           java|html|sql|oracle|jsp  \n",
       "1  javascript|facebook-graph-api|facebook-javascr...  \n",
       "2                                     java|hibernate  \n",
       "3                        javascript|html|file-upload  \n",
       "4  c#|.net|visual-studio-2010|visual-studio|visua...  "
      ]
     },
     "execution_count": 45,
     "metadata": {},
     "output_type": "execute_result"
    }
   ],
   "source": [
    "#Preview Data\n",
    "data.head()"
   ]
  },
  {
   "cell_type": "code",
   "execution_count": 69,
   "metadata": {},
   "outputs": [
    {
     "name": "stdout",
     "output_type": "stream",
     "text": [
      "5 most common classes:\n"
     ]
    },
    {
     "data": {
      "text/plain": [
       "[('javascript', 376),\n",
       " ('java', 334),\n",
       " ('jquery', 133),\n",
       " ('c#', 100),\n",
       " ('html', 82)]"
      ]
     },
     "execution_count": 69,
     "metadata": {},
     "output_type": "execute_result"
    }
   ],
   "source": [
    "#Generate list of N most common labels\n",
    "NUM_CLASSES = 5\n",
    "labels_list = []\n",
    "\n",
    "counts = Counter('|'.join(data['tags'].tolist()).split('|'))\n",
    "classes = counts.most_common(NUM_CLASSES)\n",
    "\n",
    "for i in range(0,NUM_CLASSES):\n",
    "    labels_list.append(classes[i][0])\n",
    "    \n",
    "print (\"{} most common classes:\".format(NUM_CLASSES))\n",
    "classes"
   ]
  },
  {
   "cell_type": "code",
   "execution_count": 47,
   "metadata": {},
   "outputs": [],
   "source": [
    "#utility functions to extract classes and translate between \n",
    "#human friendly (string) labels and machine friendly (array) labels\n",
    "\n",
    "#labels_list: A list of the valid classes\n",
    "#tags: A list of tags for a post\n",
    "#returns an ndarray with ones for the active classes\n",
    "def labels_to_array(tags,labels_list=labels_list):\n",
    "    array = np.zeros(len(labels_list),dtype=np.int8)\n",
    "    tags = tags.split('|') #split tags from pipe separated string into list\n",
    "    for tag in tags:\n",
    "        try:\n",
    "            array[labels_list.index(tag)] = 1\n",
    "        except ValueError: \n",
    "            None\n",
    "    return array\n",
    "\n",
    "#translate machine readable array back to human labels\n",
    "def array_to_labels(array, labels_list=labels_list, threshold = 1):\n",
    "    labels = []\n",
    "    i=0\n",
    "    for flag in array:\n",
    "        if flag >= threshold: \n",
    "            labels.append(labels_list[i])\n",
    "        i=i+1\n",
    "    return labels"
   ]
  },
  {
   "cell_type": "code",
   "execution_count": 50,
   "metadata": {},
   "outputs": [
    {
     "data": {
      "image/png": "[encoded data removed]",
      "text/plain": [
       "<matplotlib.figure.Figure at 0x121b574d0>"
      ]
     },
     "metadata": {},
     "output_type": "display_data"
    }
   ],
   "source": [
    "#Find label density\n",
    "label_counts = np.zeros(NUM_ROWS)\n",
    "for i in range(len(label_counts)):\n",
    "    label_counts[i] = labels_to_array(data['tags'][i]).sum()\n",
    "    \n",
    "plt.xlabel('Number of Labels')\n",
    "plt.ylabel('Number of Posts')\n",
    "plt.title('Sparsity of Dataset')\n",
    "plt.hist(label_counts)\n",
    "plt.show()"
   ]
  },
  {
   "cell_type": "code",
   "execution_count": 53,
   "metadata": {},
   "outputs": [
    {
     "name": "stdout",
     "output_type": "stream",
     "text": [
      "c#|.net|visual-studio-2010|visual-studio|visual-studio-addins\n",
      "[0 0 0 1 0]\n"
     ]
    },
    {
     "data": {
      "text/plain": [
       "['c#']"
      ]
     },
     "execution_count": 53,
     "metadata": {},
     "output_type": "execute_result"
    }
   ],
   "source": [
    "#test utility functions\n",
    "print(data['tags'][4])\n",
    "array = labels_to_array(data['tags'][4])\n",
    "print(array)\n",
    "array_to_labels(array)"
   ]
  },
  {
   "cell_type": "code",
   "execution_count": 54,
   "metadata": {
    "colab": {
     "autoexec": {
      "startup": false,
      "wait_interval": 0
     },
     "output_extras": [
      {}
     ]
    },
    "colab_type": "code",
    "id": "h_SDal0khA3n",
    "outputId": "e6c311e5-c674-4cf2-f2dc-d6ceabfa6f83"
   },
   "outputs": [
    {
     "name": "stdout",
     "output_type": "stream",
     "text": [
      "Train size: 800\n",
      "Test size: 200\n"
     ]
    }
   ],
   "source": [
    "# Split data into train and test\n",
    "train_size = int(len(data) * .8)\n",
    "test_size = len(data)-train_size\n",
    "print (\"Train size: %d\" % train_size)\n",
    "print (\"Test size: %d\" % test_size)"
   ]
  },
  {
   "cell_type": "code",
   "execution_count": 55,
   "metadata": {
    "colab": {
     "autoexec": {
      "startup": false,
      "wait_interval": 0
     }
    },
    "colab_type": "code",
    "collapsed": true,
    "id": "anD38iilhA3r"
   },
   "outputs": [],
   "source": [
    "train_posts = data['post'][:train_size]\n",
    "train_tags = data['tags'][:train_size]\n",
    "\n",
    "test_posts = data['post'][train_size:]\n",
    "test_tags = data['tags'][train_size:]"
   ]
  },
  {
   "cell_type": "code",
   "execution_count": 56,
   "metadata": {
    "colab": {
     "autoexec": {
      "startup": false,
      "wait_interval": 0
     }
    },
    "colab_type": "code",
    "collapsed": true,
    "id": "z4GblctFhA3u"
   },
   "outputs": [],
   "source": [
    "max_words = 1000\n",
    "tokenize = text.Tokenizer(num_words=max_words, char_level=False)"
   ]
  },
  {
   "cell_type": "code",
   "execution_count": 57,
   "metadata": {
    "colab": {
     "autoexec": {
      "startup": false,
      "wait_interval": 0
     }
    },
    "colab_type": "code",
    "collapsed": true,
    "id": "YatMLCKXhA3x"
   },
   "outputs": [],
   "source": [
    "tokenize.fit_on_texts(train_posts) # only fit on train\n",
    "x_train = tokenize.texts_to_matrix(train_posts)\n",
    "x_test = tokenize.texts_to_matrix(test_posts)"
   ]
  },
  {
   "cell_type": "code",
   "execution_count": 58,
   "metadata": {
    "colab": {
     "autoexec": {
      "startup": false,
      "wait_interval": 0
     }
    },
    "colab_type": "code",
    "id": "8quTsErLhA3z"
   },
   "outputs": [
    {
     "data": {
      "text/plain": [
       "array([ 1.,  0.,  0.,  1.,  0.])"
      ]
     },
     "execution_count": 58,
     "metadata": {},
     "output_type": "execute_result"
    }
   ],
   "source": [
    "# generate multi-label arrays\n",
    "y_train = np.zeros([train_size,NUM_CLASSES])\n",
    "for i in range(0,train_size):\n",
    "    y_train[i] = labels_to_array(data['tags'][i])\n",
    "\n",
    "y_test = np.zeros([test_size,NUM_CLASSES])\n",
    "for i in range(0,test_size):\n",
    "    y_test[i] = labels_to_array(data['tags'][i+train_size-1])\n",
    "y_test[0]"
   ]
  },
  {
   "cell_type": "code",
   "execution_count": 59,
   "metadata": {
    "colab": {
     "autoexec": {
      "startup": false,
      "wait_interval": 0
     },
     "output_extras": [
      {}
     ]
    },
    "colab_type": "code",
    "id": "XZFsdLYVhA33",
    "outputId": "882923f3-6705-46b5-be88-3d4fec2965f2"
   },
   "outputs": [
    {
     "name": "stdout",
     "output_type": "stream",
     "text": [
      "x_train shape: (800, 1000)\n",
      "x_test shape: (200, 1000)\n",
      "y_train shape: (800, 5)\n",
      "y_test shape: (200, 5)\n"
     ]
    }
   ],
   "source": [
    "# Inspect the dimenstions of our training and test data (this is helpful to debug)\n",
    "print('x_train shape:', x_train.shape)\n",
    "print('x_test shape:', x_test.shape)\n",
    "print('y_train shape:', y_train.shape)\n",
    "print('y_test shape:', y_test.shape)"
   ]
  },
  {
   "cell_type": "code",
   "execution_count": 75,
   "metadata": {
    "colab": {
     "autoexec": {
      "startup": false,
      "wait_interval": 0
     }
    },
    "colab_type": "code",
    "collapsed": true,
    "id": "cBIkzTOZhA36"
   },
   "outputs": [],
   "source": [
    "# This model trains very quickly and 2 epochs are already more than enough\n",
    "# Training for more epochs will likely lead to overfitting on this dataset\n",
    "# You can try tweaking these hyperparamaters when using this model with your own data\n",
    "batch_size = 32\n",
    "epochs = 20"
   ]
  },
  {
   "cell_type": "code",
   "execution_count": 76,
   "metadata": {
    "colab": {
     "autoexec": {
      "startup": false,
      "wait_interval": 0
     },
     "output_extras": [
      {}
     ]
    },
    "colab_type": "code",
    "collapsed": true,
    "id": "XdrFuwx4hA39",
    "outputId": "4b002559-2f06-4681-8f02-2e76e62d7a57"
   },
   "outputs": [],
   "source": [
    "# Build the model\n",
    "model = Sequential()\n",
    "model.add(Dense(512, input_shape=(max_words,)))\n",
    "model.add(Activation('relu'))\n",
    "model.add(Dropout(0.5))\n",
    "model.add(Dense(NUM_CLASSES))\n",
    "model.add(Activation('sigmoid')) #changed from softmax\n",
    "\n",
    "model.compile(loss='binary_crossentropy',\n",
    "              optimizer='adam',\n",
    "              metrics=['accuracy']) #changed from categorical_crossentropy"
   ]
  },
  {
   "cell_type": "code",
   "execution_count": 79,
   "metadata": {
    "colab": {
     "autoexec": {
      "startup": false,
      "wait_interval": 0
     },
     "output_extras": [
      {}
     ]
    },
    "colab_type": "code",
    "id": "rzi-9GaBhA4A",
    "outputId": "9a56a130-8804-4ce0-ad47-38c4f40c81fa"
   },
   "outputs": [
    {
     "name": "stdout",
     "output_type": "stream",
     "text": [
      "Train on 720 samples, validate on 80 samples\n",
      "Epoch 1/20\n",
      "720/720 [==============================] - 0s - loss: 0.0082 - acc: 1.0000 - val_loss: 0.3092 - val_acc: 0.9225\n",
      "Epoch 2/20\n",
      "720/720 [==============================] - 0s - loss: 0.0072 - acc: 0.9997 - val_loss: 0.3120 - val_acc: 0.9250\n",
      "Epoch 3/20\n",
      "720/720 [==============================] - 0s - loss: 0.0064 - acc: 1.0000 - val_loss: 0.3184 - val_acc: 0.9225\n",
      "Epoch 4/20\n",
      "720/720 [==============================] - 0s - loss: 0.0053 - acc: 1.0000 - val_loss: 0.3306 - val_acc: 0.9225\n",
      "Epoch 5/20\n",
      "720/720 [==============================] - 0s - loss: 0.0058 - acc: 1.0000 - val_loss: 0.3239 - val_acc: 0.9200\n",
      "Epoch 6/20\n",
      "720/720 [==============================] - 0s - loss: 0.0048 - acc: 1.0000 - val_loss: 0.3311 - val_acc: 0.9250\n",
      "Epoch 7/20\n",
      "720/720 [==============================] - 0s - loss: 0.0045 - acc: 1.0000 - val_loss: 0.3303 - val_acc: 0.9200\n",
      "Epoch 8/20\n",
      "720/720 [==============================] - 0s - loss: 0.0042 - acc: 1.0000 - val_loss: 0.3414 - val_acc: 0.9200\n",
      "Epoch 9/20\n",
      "720/720 [==============================] - 0s - loss: 0.0039 - acc: 1.0000 - val_loss: 0.3346 - val_acc: 0.9175\n",
      "Epoch 10/20\n",
      "720/720 [==============================] - 0s - loss: 0.0038 - acc: 1.0000 - val_loss: 0.3369 - val_acc: 0.9200\n",
      "Epoch 11/20\n",
      "720/720 [==============================] - 0s - loss: 0.0033 - acc: 1.0000 - val_loss: 0.3421 - val_acc: 0.9200\n",
      "Epoch 12/20\n",
      "720/720 [==============================] - 0s - loss: 0.0034 - acc: 1.0000 - val_loss: 0.3381 - val_acc: 0.9225\n",
      "Epoch 13/20\n",
      "720/720 [==============================] - 0s - loss: 0.0030 - acc: 1.0000 - val_loss: 0.3451 - val_acc: 0.9200\n",
      "Epoch 14/20\n",
      "720/720 [==============================] - 0s - loss: 0.0029 - acc: 1.0000 - val_loss: 0.3419 - val_acc: 0.9225\n",
      "Epoch 15/20\n",
      "720/720 [==============================] - 0s - loss: 0.0027 - acc: 1.0000 - val_loss: 0.3483 - val_acc: 0.9200\n",
      "Epoch 16/20\n",
      "720/720 [==============================] - 0s - loss: 0.0024 - acc: 1.0000 - val_loss: 0.3580 - val_acc: 0.9200\n",
      "Epoch 17/20\n",
      "720/720 [==============================] - 0s - loss: 0.0023 - acc: 1.0000 - val_loss: 0.3618 - val_acc: 0.9200\n",
      "Epoch 18/20\n",
      "720/720 [==============================] - 0s - loss: 0.0027 - acc: 1.0000 - val_loss: 0.3612 - val_acc: 0.9200\n",
      "Epoch 19/20\n",
      "720/720 [==============================] - 0s - loss: 0.0023 - acc: 1.0000 - val_loss: 0.3489 - val_acc: 0.9200\n",
      "Epoch 20/20\n",
      "720/720 [==============================] - 0s - loss: 0.0019 - acc: 1.0000 - val_loss: 0.3628 - val_acc: 0.9200\n"
     ]
    }
   ],
   "source": [
    "# model.fit trains the model\n",
    "# The validation_split param tells Keras what % of our training data should be used in the validation set\n",
    "# You can see the validation loss decreasing slowly when you run this\n",
    "# Because val_loss is no longer decreasing we stop training to prevent overfitting\n",
    "history = model.fit(x_train, y_train,\n",
    "                    batch_size=batch_size,\n",
    "                    epochs=epochs,\n",
    "                    verbose=1,\n",
    "                    validation_split=0.1)"
   ]
  },
  {
   "cell_type": "code",
   "execution_count": 80,
   "metadata": {
    "colab": {
     "autoexec": {
      "startup": false,
      "wait_interval": 0
     },
     "output_extras": [
      {}
     ]
    },
    "colab_type": "code",
    "id": "zjwBD8qFhA4D",
    "outputId": "0dda5da5-44c4-4fbc-f2ad-01d642ca1914"
   },
   "outputs": [
    {
     "name": "stdout",
     "output_type": "stream",
     "text": [
      " 32/200 [===>..........................] - ETA: 0sTest score: 2.11866283417\n",
      "Test accuracy: 0.723000013828\n"
     ]
    }
   ],
   "source": [
    "# Evaluate the accuracy of our trained model\n",
    "score = model.evaluate(x_test, y_test,\n",
    "                       batch_size=batch_size, verbose=1)\n",
    "print('Test score:', score[0])\n",
    "print('Test accuracy:', score[1])"
   ]
  },
  {
   "cell_type": "code",
   "execution_count": 72,
   "metadata": {
    "colab": {
     "autoexec": {
      "startup": false,
      "wait_interval": 0
     },
     "output_extras": [
      {}
     ]
    },
    "colab_type": "code",
    "id": "f000lYoxhA4F",
    "outputId": "21cd198f-1979-4b40-a2fd-891a1c0248db"
   },
   "outputs": [
    {
     "name": "stdout",
     "output_type": "stream",
     "text": [
      "[  6.56057894e-01   2.53366834e-05   2.87820280e-01   1.10452510e-02\n",
      "   1.33582959e-02]\n",
      "[ 1.  0.  0.  1.  0.]\n",
      "update single record with an array of results  a query leads to a list of results (@invoice_results - - also the name of the controller action) with two specific columns in the view (formatting remove ...\n",
      "Actual label:javascript|c#\n",
      "Predicted label: javascript\n",
      "\n",
      "[  9.58396077e-01   5.00160619e-04   3.98896396e-01   1.92869891e-04\n",
      "   4.05181851e-03]\n",
      "[ 0.  0.  0.  0.  0.]\n",
      "jquery and mouseevents  i have a question regarding mouse events in the jquery library. i have a simple javascript function as following:   <pre><code>$(function() {     var xpos;     var ypos;     $( ...\n",
      "Actual label:\n",
      "Predicted label: javascript\n",
      "\n",
      "[  9.99997854e-01   1.17824595e-06   9.70770240e-01   1.46852912e-07\n",
      "   6.00521713e-02]\n",
      "[ 1.  0.  1.  0.  1.]\n",
      "drag and drop using raphael.js has laggy performance with more than 10 draggable elements  i m making a simple html5 app  that will be wrapped to be used on android  ios and web browsers. in my app i  ...\n",
      "Actual label:javascript|jquery|html\n",
      "Predicted label: javascript|jquery\n",
      "\n",
      "[  1.32467549e-05   3.20647098e-02   2.64033355e-04   2.16118515e-01\n",
      "   8.09147514e-06]\n",
      "[ 1.  0.  0.  0.  0.]\n",
      "event logging in asp.net  i am using vs2005 c# .net 2.0 and sql server 2005.    are there any websites that provide step by step instructions to implement event logging for my web application     <str ...\n",
      "Actual label:javascript\n",
      "Predicted label: \n",
      "\n",
      "[ 0.75739235  0.02490002  0.00974031  0.00871393  0.00450834]\n",
      "[ 0.  0.  0.  1.  0.]\n",
      "why chrome maintains scrolltop from previous page  chrome maintains the <code>scrolltop</code> from previous page. eg: i am in list page and scroll down to end of the page and clicked on a record to v ...\n",
      "Actual label:c#\n",
      "Predicted label: javascript\n",
      "\n",
      "[  4.06149626e-01   1.10960463e-02   1.38642732e-04   3.67175904e-04\n",
      "   1.13159628e-03]\n",
      "[ 1.  0.  1.  0.  0.]\n",
      "rails to php - how to determine a logged in user  i have a rails app on a domain of <code>example.com</code> this domain runs a rails app that when you log in  would share your cookie and the apps sec ...\n",
      "Actual label:javascript|jquery\n",
      "Predicted label: \n",
      "\n",
      "[  1.97694153e-02   8.17280889e-01   4.97470435e-04   7.03737605e-04\n",
      "   1.24598620e-03]\n",
      "[ 0.  0.  0.  0.  0.]\n",
      "why there is a local variable referencing value array in string#hashcode   what is the purpose of copying <code>value</code> reference into <code>val</code> variable  as oppose to using it directly    ...\n",
      "Actual label:\n",
      "Predicted label: java\n",
      "\n",
      "[  9.99992371e-01   1.39516899e-07   4.50057015e-02   4.07290628e-07\n",
      "   6.65821644e-05]\n",
      "[ 0.  1.  0.  0.  0.]\n",
      "how to align highcharts datetime x-axis with data i pass to it   here is jsfiddle     <a href= https://jsfiddle.net/lp3tjpuv/  rel= nofollow >https://jsfiddle.net/lp3tjpuv/</a>    if you move your cur ...\n",
      "Actual label:java\n",
      "Predicted label: javascript\n",
      "\n",
      "[ 0.00543531  0.23255891  0.00116008  0.00078024  0.00033944]\n",
      "[ 1.  0.  0.  0.  0.]\n",
      "optional reference in dot net  i hope it may be a advanced concept in .net <br /> my question is <br/>    <b>how to setup a program with optional reference </b>    for example: consider this case  i v ...\n",
      "Actual label:javascript\n",
      "Predicted label: \n",
      "\n",
      "[  9.99991775e-01   1.26120369e-06   9.97828901e-01   4.97733879e-07\n",
      "   9.80978489e-01]\n",
      "[ 0.  0.  0.  1.  0.]\n",
      "displaying options selected in checkbox tree  <a href= https://i.stack.imgur.com/hxd8d.png  rel= nofollow noreferrer ><img src= https://i.stack.imgur.com/hxd8d.png  alt= i want the final output to be  ...\n",
      "Actual label:c#\n",
      "Predicted label: javascript|jquery|html\n",
      "\n"
     ]
    }
   ],
   "source": [
    "# Here's how to generate a prediction on individual examples\n",
    "for i in range(10):\n",
    "    prediction = model.predict(np.array([x_test[i]]))\n",
    "    print(prediction[0])\n",
    "    print(y_test[i])\n",
    "    predicted_label = array_to_labels(prediction[0],threshold=.5)\n",
    "    print(test_posts.iloc[i][:200], \"...\")\n",
    "    print('Actual label:' + '|'.join(array_to_labels(y_test[i])))\n",
    "    print(\"Predicted label: \" + '|'.join(predicted_label) + '\\n')  "
   ]
  },
  {
   "cell_type": "code",
   "execution_count": 37,
   "metadata": {
    "colab": {
     "autoexec": {
      "startup": false,
      "wait_interval": 0
     },
     "output_extras": [
      {},
      {},
      {}
     ]
    },
    "colab_type": "code",
    "id": "8nWz6EFqhA4L",
    "outputId": "9d7fa550-66f8-4b4d-bc11-2cee0cd96ace"
   },
   "outputs": [
    {
     "ename": "NameError",
     "evalue": "name 'y_test_1d' is not defined",
     "output_type": "error",
     "traceback": [
      "\u001b[0;31m---------------------------------------------------------------------------\u001b[0m",
      "\u001b[0;31mNameError\u001b[0m                                 Traceback (most recent call last)",
      "\u001b[0;32m<ipython-input-37-18faac22df8c>\u001b[0m in \u001b[0;36m<module>\u001b[0;34m()\u001b[0m\n\u001b[0;32m----> 1\u001b[0;31m \u001b[0mcnf_matrix\u001b[0m \u001b[0;34m=\u001b[0m \u001b[0mconfusion_matrix\u001b[0m\u001b[0;34m(\u001b[0m\u001b[0my_test_1d\u001b[0m\u001b[0;34m,\u001b[0m \u001b[0my_pred_1d\u001b[0m\u001b[0;34m)\u001b[0m\u001b[0;34m\u001b[0m\u001b[0m\n\u001b[0m\u001b[1;32m      2\u001b[0m \u001b[0mplt\u001b[0m\u001b[0;34m.\u001b[0m\u001b[0mfigure\u001b[0m\u001b[0;34m(\u001b[0m\u001b[0mfigsize\u001b[0m\u001b[0;34m=\u001b[0m\u001b[0;34m(\u001b[0m\u001b[0;36m24\u001b[0m\u001b[0;34m,\u001b[0m\u001b[0;36m20\u001b[0m\u001b[0;34m)\u001b[0m\u001b[0;34m)\u001b[0m\u001b[0;34m\u001b[0m\u001b[0m\n\u001b[1;32m      3\u001b[0m \u001b[0mplot_confusion_matrix\u001b[0m\u001b[0;34m(\u001b[0m\u001b[0mcnf_matrix\u001b[0m\u001b[0;34m,\u001b[0m \u001b[0mclasses\u001b[0m\u001b[0;34m=\u001b[0m\u001b[0mlabels_list\u001b[0m\u001b[0;34m,\u001b[0m \u001b[0mtitle\u001b[0m\u001b[0;34m=\u001b[0m\u001b[0;34m\"Confusion matrix\"\u001b[0m\u001b[0;34m)\u001b[0m\u001b[0;34m\u001b[0m\u001b[0m\n\u001b[1;32m      4\u001b[0m \u001b[0mplt\u001b[0m\u001b[0;34m.\u001b[0m\u001b[0mshow\u001b[0m\u001b[0;34m(\u001b[0m\u001b[0;34m)\u001b[0m\u001b[0;34m\u001b[0m\u001b[0m\n",
      "\u001b[0;31mNameError\u001b[0m: name 'y_test_1d' is not defined"
     ]
    }
   ],
   "source": [
    "cnf_matrix = confusion_matrix(y_test_1d, y_pred_1d)\n",
    "plt.figure(figsize=(24,20))\n",
    "plot_confusion_matrix(cnf_matrix, classes=labels_list, title=\"Confusion matrix\")\n",
    "plt.show()"
   ]
  },
  {
   "cell_type": "code",
   "execution_count": null,
   "metadata": {
    "colab": {
     "autoexec": {
      "startup": false,
      "wait_interval": 0
     }
    },
    "colab_type": "code",
    "collapsed": true,
    "id": "rqqIG5KnhA4K"
   },
   "outputs": [],
   "source": [
    "# This utility function is from the sklearn docs: http://scikit-learn.org/stable/auto_examples/model_selection/plot_confusion_matrix.html\n",
    "def plot_confusion_matrix(cm, classes,\n",
    "                          title='Confusion matrix',\n",
    "                          cmap=plt.cm.Blues):\n",
    "    \"\"\"\n",
    "    This function prints and plots the confusion matrix.\n",
    "    Normalization can be applied by setting `normalize=True`.\n",
    "    \"\"\"\n",
    "\n",
    "    cm = cm.astype('float') / cm.sum(axis=1)[:, np.newaxis]\n",
    "\n",
    "    plt.imshow(cm, interpolation='nearest', cmap=cmap)\n",
    "    plt.title(title, fontsize=30)\n",
    "    plt.colorbar()\n",
    "    tick_marks = np.arange(len(classes))\n",
    "    plt.xticks(tick_marks, classes, rotation=45, fontsize=22)\n",
    "    plt.yticks(tick_marks, classes, fontsize=22)\n",
    "\n",
    "    fmt = '.2f'\n",
    "    thresh = cm.max() / 2.\n",
    "    for i, j in itertools.product(range(cm.shape[0]), range(cm.shape[1])):\n",
    "        plt.text(j, i, format(cm[i, j], fmt),\n",
    "                 horizontalalignment=\"center\",\n",
    "                 color=\"white\" if cm[i, j] > thresh else \"black\")\n",
    "\n",
    "    plt.ylabel('True label', fontsize=25)\n",
    "    plt.xlabel('Predicted label', fontsize=25)"
   ]
  },
  {
   "cell_type": "code",
   "execution_count": null,
   "metadata": {
    "colab": {
     "autoexec": {
      "startup": false,
      "wait_interval": 0
     }
    },
    "colab_type": "code",
    "collapsed": true,
    "id": "HKUgUHLAhA4I"
   },
   "outputs": [],
   "source": [
    "y_softmax = model.predict(x_test)\n",
    "\n",
    "y_test_1d = []\n",
    "y_pred_1d = []\n",
    "\n",
    "for i in range(len(y_test)):\n",
    "    probs = y_test[i]\n",
    "    index_arr = np.nonzero(probs)\n",
    "    one_hot_index = index_arr[0].item(0)\n",
    "    y_test_1d.append(one_hot_index)\n",
    "\n",
    "for i in range(0, len(y_softmax)):\n",
    "    probs = y_softmax[i]\n",
    "    predicted_index = np.argmax(probs)\n",
    "    y_pred_1d.append(predicted_index)"
   ]
  },
  {
   "cell_type": "code",
   "execution_count": 35,
   "metadata": {
    "collapsed": true
   },
   "outputs": [],
   "source": [
    "#cross entropy function\n",
    "\n",
    "def cross_entropy(y_target,y_pred):\n",
    "    loss_sum = 0\n",
    "    for i in range(len(y_target)):\n",
    "        if y_target[i]==1: loss_sum += -np.log(y_pred[i])\n",
    "        else: loss_sum += -np.log(1-y_pred[i])\n",
    "    return loss_sum/len(y_target)"
   ]
  }
 ],
 "metadata": {
  "colab": {
   "default_view": {},
   "name": "josh3.ipynb",
   "provenance": [],
   "version": "0.3.2",
   "views": {}
  },
  "kernelspec": {
   "display_name": "Python 2",
   "language": "python",
   "name": "python2"
  },
  "language_info": {
   "codemirror_mode": {
    "name": "ipython",
    "version": 2
   },
   "file_extension": ".py",
   "mimetype": "text/x-python",
   "name": "python",
   "nbconvert_exporter": "python",
   "pygments_lexer": "ipython2",
   "version": "2.7.13"
  }
 },
 "nbformat": 4,
 "nbformat_minor": 1
}
