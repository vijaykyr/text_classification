{
 "cells": [
  {
   "cell_type": "markdown",
   "metadata": {
    "colab": {
     "autoexec": {
      "startup": false,
      "wait_interval": 0
     }
    },
    "colab_type": "code",
    "collapsed": true,
    "id": "frTMl3sShA3P"
   },
   "source": [
    "# Multi Label Text Classification Using Keras + Cloud ML Engine \n",
    "\n",
    "<img src=\"assets/stackoverflow.jpg\" style=\"width: 600px;\">\n",
    "\n",
    "#### This notebook will demonstrate the following steps:\n",
    "\n",
    "1. Load Raw Data\n",
    "2. Explore Data\n",
    "3. Preprocess Data\n",
    "4. Construct a model that learns to tag Stack Overflow posts\n",
    "5. Use Cloud ML Engine's automatic hyperparameter tuning feature to refine the model\n",
    "6. Inspect the results using tensorboard\n",
    "7. And deploy the final model to production using Cloud ML Engine's online prediction service\n",
    "\n",
    "This notebook is intended to be run on Google Cloud Datalab: https://cloud.google.com/datalab/docs/quickstarts\n",
    "Datalab will have the required libraries installed by default for this code to work. If you choose to run this code outside of Datalab you may run in to version and dependency issues which you will need to resolve."
   ]
  },
  {
   "cell_type": "code",
   "execution_count": 111,
   "metadata": {
    "collapsed": false
   },
   "outputs": [
    {
     "data": {
      "text/html": [
       "\n",
       "          <script src=\"/static/components/requirejs/require.js\"></script>\n",
       "          <script>\n",
       "            requirejs.config({\n",
       "              paths: {\n",
       "                base: '/static/base',\n",
       "              },\n",
       "            });\n",
       "          </script>\n",
       "          "
      ],
      "text/plain": [
       "<IPython.core.display.HTML object>"
      ]
     },
     "metadata": {},
     "output_type": "display_data"
    },
    {
     "name": "stdout",
     "output_type": "stream",
     "text": [
      "Requirement already up-to-date: tensorflow==1.4 in /usr/local/lib/python2.7/dist-packages\n",
      "Requirement already up-to-date: mock>=2.0.0 in /usr/local/lib/python2.7/dist-packages (from tensorflow==1.4)\n",
      "Requirement already up-to-date: tensorflow-tensorboard<0.5.0,>=0.4.0rc1 in /usr/local/lib/python2.7/dist-packages (from tensorflow==1.4)\n",
      "Requirement already up-to-date: numpy>=1.12.1 in /usr/local/lib/python2.7/dist-packages (from tensorflow==1.4)\n",
      "Requirement already up-to-date: backports.weakref>=1.0rc1 in /usr/local/lib/python2.7/dist-packages (from tensorflow==1.4)\n",
      "Requirement already up-to-date: wheel in /usr/local/lib/python2.7/dist-packages (from tensorflow==1.4)\n",
      "Requirement already up-to-date: six>=1.10.0 in /usr/local/lib/python2.7/dist-packages (from tensorflow==1.4)\n",
      "Requirement already up-to-date: protobuf>=3.3.0 in /usr/local/lib/python2.7/dist-packages (from tensorflow==1.4)\n",
      "Requirement already up-to-date: enum34>=1.1.6 in /usr/local/lib/python2.7/dist-packages (from tensorflow==1.4)\n",
      "Requirement already up-to-date: funcsigs>=1; python_version < \"3.3\" in /usr/local/lib/python2.7/dist-packages (from mock>=2.0.0->tensorflow==1.4)\n",
      "Requirement already up-to-date: pbr>=0.11 in /usr/local/lib/python2.7/dist-packages (from mock>=2.0.0->tensorflow==1.4)\n",
      "Requirement already up-to-date: bleach==1.5.0 in /usr/local/lib/python2.7/dist-packages (from tensorflow-tensorboard<0.5.0,>=0.4.0rc1->tensorflow==1.4)\n",
      "Requirement already up-to-date: markdown>=2.6.8 in /usr/local/lib/python2.7/dist-packages (from tensorflow-tensorboard<0.5.0,>=0.4.0rc1->tensorflow==1.4)\n",
      "Requirement already up-to-date: futures>=3.1.1; python_version < \"3.2\" in /usr/local/lib/python2.7/dist-packages (from tensorflow-tensorboard<0.5.0,>=0.4.0rc1->tensorflow==1.4)\n",
      "Requirement already up-to-date: html5lib==0.9999999 in /usr/local/lib/python2.7/dist-packages (from tensorflow-tensorboard<0.5.0,>=0.4.0rc1->tensorflow==1.4)\n",
      "Requirement already up-to-date: werkzeug>=0.11.10 in /usr/local/lib/python2.7/dist-packages (from tensorflow-tensorboard<0.5.0,>=0.4.0rc1->tensorflow==1.4)\n",
      "Collecting setuptools (from protobuf>=3.3.0->tensorflow==1.4)\n",
      "  Downloading setuptools-36.7.2-py2.py3-none-any.whl (482kB)\n",
      "\u001b[K    100% |████████████████████████████████| 491kB 2.0MB/s \n",
      "\u001b[?25hInstalling collected packages: setuptools\n",
      "  Found existing installation: setuptools 36.7.1\n",
      "    Uninstalling setuptools-36.7.1:\n",
      "      Successfully uninstalled setuptools-36.7.1\n",
      "Successfully installed setuptools-36.7.2\n"
     ]
    }
   ],
   "source": [
    "# This code was tested with TensorFlow v1.4\n",
    "# The import statements will not work with earlier versions, because Keras is in tf.contrib in those versions\n",
    "!pip install --upgrade tensorflow==1.4"
   ]
  },
  {
   "cell_type": "code",
   "execution_count": 112,
   "metadata": {
    "colab": {
     "autoexec": {
      "startup": false,
      "wait_interval": 0
     },
     "height": 321,
     "output_extras": [
      {
       "item_id": 1
      }
     ]
    },
    "colab_type": "code",
    "collapsed": false,
    "executionInfo": {
     "elapsed": 2880,
     "status": "error",
     "timestamp": 1505781339378,
     "user": {
      "displayName": "Sara Robinson",
      "photoUrl": "//lh4.googleusercontent.com/-RR9n0dvbwgI/AAAAAAAAAAI/AAAAAAAAMYM/SOr5ZExpvXE/s50-c-k-no/photo.jpg",
      "userId": "112510032804989247452"
     },
     "user_tz": 240
    },
    "id": "783h64rGhA3T",
    "outputId": "d447b2ab-e321-4ee5-abd4-de2c0116302f"
   },
   "outputs": [
    {
     "data": {
      "text/html": [
       "\n",
       "          <script src=\"/static/components/requirejs/require.js\"></script>\n",
       "          <script>\n",
       "            requirejs.config({\n",
       "              paths: {\n",
       "                base: '/static/base',\n",
       "              },\n",
       "            });\n",
       "          </script>\n",
       "          "
      ],
      "text/plain": [
       "<IPython.core.display.HTML object>"
      ]
     },
     "metadata": {},
     "output_type": "display_data"
    },
    {
     "name": "stdout",
     "output_type": "stream",
     "text": [
      "You have TensorFlow version 1.4.0\n"
     ]
    }
   ],
   "source": [
    "from __future__ import absolute_import\n",
    "from __future__ import division\n",
    "from __future__ import print_function\n",
    "\n",
    "import itertools\n",
    "import os\n",
    "\n",
    "%matplotlib inline\n",
    "import matplotlib.pyplot as plt\n",
    "import numpy as np\n",
    "import pandas as pd\n",
    "import tensorflow as tf\n",
    "import googleapiclient.discovery\n",
    "\n",
    "from sklearn.preprocessing import LabelBinarizer, LabelEncoder\n",
    "from sklearn.metrics import confusion_matrix\n",
    "\n",
    "from tensorflow.python.keras.models import Sequential\n",
    "from tensorflow.python.keras.layers import Dense, Activation, Dropout\n",
    "from tensorflow.python.keras.preprocessing import text, sequence\n",
    "from tensorflow.python.keras import utils\n",
    "from tensorflow.contrib.saved_model.python.saved_model.utils import simple_save\n",
    "\n",
    "from collections import Counter\n",
    "\n",
    "print(\"You have TensorFlow version\", tf.__version__)"
   ]
  },
  {
   "cell_type": "markdown",
   "metadata": {},
   "source": [
    "### 1) Load Raw Data\n",
    "\n",
    "We will use a publically available dataset of Stack Overflow posts. It is hosted for free on Google's Big Query platform [here](https://bigquery.cloud.google.com/table/bigquery-public-data:stackoverflow.posts_questions?pli=1&tab=details).\n",
    "\n",
    "We will extract a subset of this data using [this](https://bigquery.cloud.google.com/savedquery/38969729279:919b6f9f680b4cc6ace82632eeb357fd) query.\n",
    "\n",
    "Datalab has a built-in library to easily load data from Big Query which we will use below."
   ]
  },
  {
   "cell_type": "code",
   "execution_count": 114,
   "metadata": {
    "collapsed": false
   },
   "outputs": [
    {
     "data": {
      "text/html": [
       "\n",
       "          <script src=\"/static/components/requirejs/require.js\"></script>\n",
       "          <script>\n",
       "            requirejs.config({\n",
       "              paths: {\n",
       "                base: '/static/base',\n",
       "              },\n",
       "            });\n",
       "          </script>\n",
       "          "
      ],
      "text/plain": [
       "<IPython.core.display.HTML object>"
      ]
     },
     "metadata": {},
     "output_type": "display_data"
    },
    {
     "name": "stdout",
     "output_type": "stream",
     "text": [
      "Loaded 1000 rows\n"
     ]
    },
    {
     "data": {
      "text/html": [
       "<div>\n",
       "<table border=\"1\" class=\"dataframe\">\n",
       "  <thead>\n",
       "    <tr style=\"text-align: right;\">\n",
       "      <th></th>\n",
       "      <th>tags</th>\n",
       "      <th>post</th>\n",
       "    </tr>\n",
       "  </thead>\n",
       "  <tbody>\n",
       "    <tr>\n",
       "      <th>0</th>\n",
       "      <td>c#</td>\n",
       "      <td>how to speed up port scanner c#   i created ve...</td>\n",
       "    </tr>\n",
       "    <tr>\n",
       "      <th>1</th>\n",
       "      <td>c#</td>\n",
       "      <td>program does not contain a static ‘main’ metho...</td>\n",
       "    </tr>\n",
       "    <tr>\n",
       "      <th>2</th>\n",
       "      <td>c#</td>\n",
       "      <td>c# default value before generic  i have one ol...</td>\n",
       "    </tr>\n",
       "    <tr>\n",
       "      <th>3</th>\n",
       "      <td>c#</td>\n",
       "      <td>unable to cast object of type  htmlagilitypack...</td>\n",
       "    </tr>\n",
       "    <tr>\n",
       "      <th>4</th>\n",
       "      <td>php</td>\n",
       "      <td>how to match non-keyboard characters using php...</td>\n",
       "    </tr>\n",
       "    <tr>\n",
       "      <th>5</th>\n",
       "      <td>php</td>\n",
       "      <td>php script for inserting images  i ve got thes...</td>\n",
       "    </tr>\n",
       "    <tr>\n",
       "      <th>6</th>\n",
       "      <td>php</td>\n",
       "      <td>php list structure  let s say i have an array ...</td>\n",
       "    </tr>\n",
       "    <tr>\n",
       "      <th>7</th>\n",
       "      <td>php</td>\n",
       "      <td>reverse a string in php without using any stri...</td>\n",
       "    </tr>\n",
       "    <tr>\n",
       "      <th>8</th>\n",
       "      <td>php</td>\n",
       "      <td>when would empty() return false and $var ==   ...</td>\n",
       "    </tr>\n",
       "    <tr>\n",
       "      <th>9</th>\n",
       "      <td>php</td>\n",
       "      <td>proper way of using output of one class in ano...</td>\n",
       "    </tr>\n",
       "  </tbody>\n",
       "</table>\n",
       "</div>"
      ],
      "text/plain": [
       "  tags                                               post\n",
       "0   c#  how to speed up port scanner c#   i created ve...\n",
       "1   c#  program does not contain a static ‘main’ metho...\n",
       "2   c#  c# default value before generic  i have one ol...\n",
       "3   c#  unable to cast object of type  htmlagilitypack...\n",
       "4  php  how to match non-keyboard characters using php...\n",
       "5  php  php script for inserting images  i ve got thes...\n",
       "6  php  php list structure  let s say i have an array ...\n",
       "7  php  reverse a string in php without using any stri...\n",
       "8  php  when would empty() return false and $var ==   ...\n",
       "9  php  proper way of using output of one class in ano..."
      ]
     },
     "execution_count": 114,
     "metadata": {},
     "output_type": "execute_result"
    }
   ],
   "source": [
    "import google.datalab.bigquery as bq\n",
    "\n",
    "query = \"\"\"\n",
    "SELECT tags, TRIM(LOWER(REGEXP_REPLACE(CONCAT(title, \\' \\', body), r\\'[\\\"\\\\n\\\\\\'?,]|<p>|</p>\\',\\\" \\\"))) as post \n",
    "FROM `bigquery-public-data.stackoverflow.posts_questions`\n",
    "WHERE REGEXP_CONTAINS(tags, r\\\"javascript|java|c#|php|android|jquery|python\\\") \n",
    "LIMIT 1000\n",
    "\"\"\"\n",
    "\n",
    "data = bq.Query(query).execute(output_options=bq.QueryOutput.dataframe()).result()\n",
    "NUM_ROWS = data.shape[0]\n",
    "print(\"Loaded {} rows\".format(NUM_ROWS))\n",
    "data.head(10)"
   ]
  },
  {
   "cell_type": "markdown",
   "metadata": {},
   "source": [
    "If you're running from a jupyter notebook on your laptop/workstation (as opposed to datalab) I've hosted the data as a static .CSV file in a publically accessible URL for convencience."
   ]
  },
  {
   "cell_type": "code",
   "execution_count": 115,
   "metadata": {
    "colab": {
     "autoexec": {
      "startup": false,
      "wait_interval": 0
     }
    },
    "colab_type": "code",
    "collapsed": false,
    "id": "c7te21f7hA3V"
   },
   "outputs": [
    {
     "data": {
      "text/html": [
       "\n",
       "          <script src=\"/static/components/requirejs/require.js\"></script>\n",
       "          <script>\n",
       "            requirejs.config({\n",
       "              paths: {\n",
       "                base: '/static/base',\n",
       "              },\n",
       "            });\n",
       "          </script>\n",
       "          "
      ],
      "text/plain": [
       "<IPython.core.display.HTML object>"
      ]
     },
     "metadata": {},
     "output_type": "display_data"
    }
   ],
   "source": [
    "# alternative way to download data for non-datalab users\n",
    "# uncomment below lines to run\n",
    "\n",
    "#data = pd.read_csv(\"https://storage.googleapis.com/vijay-public/text_classification/results-1000.csv\")\n",
    "#NUM_ROWS = data.shape[0]\n",
    "#print(\"Loaded {} rows\".format(NUM_ROWS))\n",
    "#data.head()"
   ]
  },
  {
   "cell_type": "markdown",
   "metadata": {},
   "source": [
    "### 2) Data Exploration \n",
    "\n",
    "For multi-label exploration it's useful to get an idea of the distribution of our labels. Here we will count the number of occurences of each of most common labels. "
   ]
  },
  {
   "cell_type": "code",
   "execution_count": 116,
   "metadata": {
    "collapsed": false
   },
   "outputs": [
    {
     "data": {
      "text/html": [
       "\n",
       "          <script src=\"/static/components/requirejs/require.js\"></script>\n",
       "          <script>\n",
       "            requirejs.config({\n",
       "              paths: {\n",
       "                base: '/static/base',\n",
       "              },\n",
       "            });\n",
       "          </script>\n",
       "          "
      ],
      "text/plain": [
       "<IPython.core.display.HTML object>"
      ]
     },
     "metadata": {},
     "output_type": "display_data"
    },
    {
     "name": "stdout",
     "output_type": "stream",
     "text": [
      "5 most common classes:\n"
     ]
    },
    {
     "data": {
      "text/plain": [
       "[(u'javascript', 214),\n",
       " (u'php', 176),\n",
       " (u'java', 166),\n",
       " (u'c#', 163),\n",
       " (u'android', 148)]"
      ]
     },
     "execution_count": 116,
     "metadata": {},
     "output_type": "execute_result"
    }
   ],
   "source": [
    "#Generate list of N most common labels\n",
    "NUM_CLASSES = 5\n",
    "labels_list = []\n",
    "\n",
    "counts = Counter('|'.join(data['tags'].tolist()).split('|'))\n",
    "classes = counts.most_common(NUM_CLASSES)\n",
    "\n",
    "for i in range(0,NUM_CLASSES):\n",
    "    labels_list.append(classes[i][0])\n",
    "    \n",
    "print (\"{} most common classes:\".format(NUM_CLASSES))\n",
    "classes"
   ]
  },
  {
   "cell_type": "markdown",
   "metadata": {},
   "source": [
    "Since our ML algorithm will expect numbers as labels, not words, we define utility function to switch back and forth between the human-friendly text and machine-friendly vector representation of the labels. "
   ]
  },
  {
   "cell_type": "code",
   "execution_count": 117,
   "metadata": {
    "collapsed": false
   },
   "outputs": [
    {
     "data": {
      "text/html": [
       "\n",
       "          <script src=\"/static/components/requirejs/require.js\"></script>\n",
       "          <script>\n",
       "            requirejs.config({\n",
       "              paths: {\n",
       "                base: '/static/base',\n",
       "              },\n",
       "            });\n",
       "          </script>\n",
       "          "
      ],
      "text/plain": [
       "<IPython.core.display.HTML object>"
      ]
     },
     "metadata": {},
     "output_type": "display_data"
    },
    {
     "name": "stdout",
     "output_type": "stream",
     "text": [
      "php\n",
      "[0 1 0 0 0]\n"
     ]
    },
    {
     "data": {
      "text/plain": [
       "[u'php']"
      ]
     },
     "execution_count": 117,
     "metadata": {},
     "output_type": "execute_result"
    }
   ],
   "source": [
    "#labels_list: A list of the valid classes\n",
    "#tags: A list of tags for a post\n",
    "#returns an ndarray with ones for the active classes\n",
    "def labels_to_array(tags,labels_list=labels_list):\n",
    "    array = np.zeros(len(labels_list),dtype=np.int8)\n",
    "    tags = tags.split('|') #split tags from pipe separated string into list\n",
    "    for tag in tags:\n",
    "        try:\n",
    "            array[labels_list.index(tag)] = 1\n",
    "        except ValueError: \n",
    "            None\n",
    "    return array\n",
    "\n",
    "#translate machine readable array back to human labels\n",
    "def array_to_labels(array, labels_list=labels_list, threshold = 1):\n",
    "    labels = []\n",
    "    i=0\n",
    "    for flag in array:\n",
    "        if flag >= threshold: \n",
    "            labels.append(labels_list[i])\n",
    "        i=i+1\n",
    "    return labels\n",
    "\n",
    "#test utility functions\n",
    "print(data['tags'][4])\n",
    "array = labels_to_array(data['tags'][4])\n",
    "print(array)\n",
    "array_to_labels(array)"
   ]
  },
  {
   "cell_type": "code",
   "execution_count": 119,
   "metadata": {
    "collapsed": false
   },
   "outputs": [
    {
     "data": {
      "text/html": [
       "\n",
       "          <script src=\"/static/components/requirejs/require.js\"></script>\n",
       "          <script>\n",
       "            requirejs.config({\n",
       "              paths: {\n",
       "                base: '/static/base',\n",
       "              },\n",
       "            });\n",
       "          </script>\n",
       "          "
      ],
      "text/plain": [
       "<IPython.core.display.HTML object>"
      ]
     },
     "metadata": {},
     "output_type": "display_data"
    },
    {
     "data": {
      "image/png": "[encoded data removed]",
      "text/plain": [
       "<matplotlib.figure.Figure at 0x7f590426e490>"
      ]
     },
     "metadata": {},
     "output_type": "display_data"
    }
   ],
   "source": [
    "#Find label density\n",
    "label_counts = np.zeros(NUM_ROWS)\n",
    "for i in range(len(label_counts)):\n",
    "    label_counts[i] = labels_to_array(data['tags'][i]).sum()\n",
    "    \n",
    "plt.xlabel('Number of Labels')\n",
    "plt.ylabel('Number of Posts')\n",
    "plt.title('Sparsity of Dataset')\n",
    "plt.hist(label_counts)\n",
    "plt.show()"
   ]
  },
  {
   "cell_type": "markdown",
   "metadata": {},
   "source": [
    "### 3) Data Preprocessing\n",
    "\n",
    "We will pre-process the data in the following ways\n",
    "\n",
    "1. Split it into train and test sets\n",
    "2. Generate a bag of words embedding from the 1000 most common words in the corpus\n",
    "3. Store the features and labels in their machine-friendly format"
   ]
  },
  {
   "cell_type": "code",
   "execution_count": 120,
   "metadata": {
    "colab": {
     "autoexec": {
      "startup": false,
      "wait_interval": 0
     },
     "output_extras": [
      {}
     ]
    },
    "colab_type": "code",
    "collapsed": false,
    "id": "h_SDal0khA3n",
    "outputId": "e6c311e5-c674-4cf2-f2dc-d6ceabfa6f83"
   },
   "outputs": [
    {
     "data": {
      "text/html": [
       "\n",
       "          <script src=\"/static/components/requirejs/require.js\"></script>\n",
       "          <script>\n",
       "            requirejs.config({\n",
       "              paths: {\n",
       "                base: '/static/base',\n",
       "              },\n",
       "            });\n",
       "          </script>\n",
       "          "
      ],
      "text/plain": [
       "<IPython.core.display.HTML object>"
      ]
     },
     "metadata": {},
     "output_type": "display_data"
    },
    {
     "name": "stdout",
     "output_type": "stream",
     "text": [
      "Train size: 800\n",
      "Test size: 200\n"
     ]
    }
   ],
   "source": [
    "# Split data into train and test\n",
    "train_size = int(len(data) * .8)\n",
    "test_size = len(data)-train_size\n",
    "print (\"Train size: %d\" % train_size)\n",
    "print (\"Test size: %d\" % test_size)"
   ]
  },
  {
   "cell_type": "code",
   "execution_count": 121,
   "metadata": {
    "colab": {
     "autoexec": {
      "startup": false,
      "wait_interval": 0
     }
    },
    "colab_type": "code",
    "collapsed": false,
    "id": "anD38iilhA3r"
   },
   "outputs": [
    {
     "data": {
      "text/html": [
       "\n",
       "          <script src=\"/static/components/requirejs/require.js\"></script>\n",
       "          <script>\n",
       "            requirejs.config({\n",
       "              paths: {\n",
       "                base: '/static/base',\n",
       "              },\n",
       "            });\n",
       "          </script>\n",
       "          "
      ],
      "text/plain": [
       "<IPython.core.display.HTML object>"
      ]
     },
     "metadata": {},
     "output_type": "display_data"
    }
   ],
   "source": [
    "train_posts = data['post'][:train_size]\n",
    "train_tags = data['tags'][:train_size]\n",
    "\n",
    "test_posts = data['post'][train_size:]\n",
    "test_tags = data['tags'][train_size:]"
   ]
  },
  {
   "cell_type": "code",
   "execution_count": 122,
   "metadata": {
    "colab": {
     "autoexec": {
      "startup": false,
      "wait_interval": 0
     }
    },
    "colab_type": "code",
    "collapsed": false,
    "id": "z4GblctFhA3u"
   },
   "outputs": [
    {
     "data": {
      "text/html": [
       "\n",
       "          <script src=\"/static/components/requirejs/require.js\"></script>\n",
       "          <script>\n",
       "            requirejs.config({\n",
       "              paths: {\n",
       "                base: '/static/base',\n",
       "              },\n",
       "            });\n",
       "          </script>\n",
       "          "
      ],
      "text/plain": [
       "<IPython.core.display.HTML object>"
      ]
     },
     "metadata": {},
     "output_type": "display_data"
    }
   ],
   "source": [
    "max_words = 1000\n",
    "tokenize = text.Tokenizer(num_words=max_words, char_level=False)"
   ]
  },
  {
   "cell_type": "code",
   "execution_count": 123,
   "metadata": {
    "colab": {
     "autoexec": {
      "startup": false,
      "wait_interval": 0
     }
    },
    "colab_type": "code",
    "collapsed": false,
    "id": "YatMLCKXhA3x"
   },
   "outputs": [
    {
     "data": {
      "text/html": [
       "\n",
       "          <script src=\"/static/components/requirejs/require.js\"></script>\n",
       "          <script>\n",
       "            requirejs.config({\n",
       "              paths: {\n",
       "                base: '/static/base',\n",
       "              },\n",
       "            });\n",
       "          </script>\n",
       "          "
      ],
      "text/plain": [
       "<IPython.core.display.HTML object>"
      ]
     },
     "metadata": {},
     "output_type": "display_data"
    }
   ],
   "source": [
    "tokenize.fit_on_texts(train_posts) # only fit on train\n",
    "x_train = tokenize.texts_to_matrix(train_posts)\n",
    "x_test = tokenize.texts_to_matrix(test_posts)"
   ]
  },
  {
   "cell_type": "code",
   "execution_count": 124,
   "metadata": {
    "colab": {
     "autoexec": {
      "startup": false,
      "wait_interval": 0
     }
    },
    "colab_type": "code",
    "collapsed": false,
    "id": "8quTsErLhA3z"
   },
   "outputs": [
    {
     "data": {
      "text/html": [
       "\n",
       "          <script src=\"/static/components/requirejs/require.js\"></script>\n",
       "          <script>\n",
       "            requirejs.config({\n",
       "              paths: {\n",
       "                base: '/static/base',\n",
       "              },\n",
       "            });\n",
       "          </script>\n",
       "          "
      ],
      "text/plain": [
       "<IPython.core.display.HTML object>"
      ]
     },
     "metadata": {},
     "output_type": "display_data"
    },
    {
     "data": {
      "text/plain": [
       "array([ 0.,  0.,  0.,  0.,  1.])"
      ]
     },
     "execution_count": 124,
     "metadata": {},
     "output_type": "execute_result"
    }
   ],
   "source": [
    "# generate multi-label arrays\n",
    "y_train = np.zeros([train_size,NUM_CLASSES])\n",
    "for i in range(0,train_size):\n",
    "    y_train[i] = labels_to_array(data['tags'][i])\n",
    "\n",
    "y_test = np.zeros([test_size,NUM_CLASSES])\n",
    "for i in range(0,test_size):\n",
    "    y_test[i] = labels_to_array(data['tags'][i+train_size-1])\n",
    "y_test[0]"
   ]
  },
  {
   "cell_type": "code",
   "execution_count": 125,
   "metadata": {
    "colab": {
     "autoexec": {
      "startup": false,
      "wait_interval": 0
     },
     "output_extras": [
      {}
     ]
    },
    "colab_type": "code",
    "collapsed": false,
    "id": "XZFsdLYVhA33",
    "outputId": "882923f3-6705-46b5-be88-3d4fec2965f2"
   },
   "outputs": [
    {
     "data": {
      "text/html": [
       "\n",
       "          <script src=\"/static/components/requirejs/require.js\"></script>\n",
       "          <script>\n",
       "            requirejs.config({\n",
       "              paths: {\n",
       "                base: '/static/base',\n",
       "              },\n",
       "            });\n",
       "          </script>\n",
       "          "
      ],
      "text/plain": [
       "<IPython.core.display.HTML object>"
      ]
     },
     "metadata": {},
     "output_type": "display_data"
    },
    {
     "name": "stdout",
     "output_type": "stream",
     "text": [
      "x_train shape: (800, 1000)\n",
      "x_test shape: (200, 1000)\n",
      "y_train shape: (800, 5)\n",
      "y_test shape: (200, 5)\n"
     ]
    }
   ],
   "source": [
    "# Inspect the dimenstions of our training and test data (this is helpful to debug)\n",
    "print('x_train shape:', x_train.shape)\n",
    "print('x_test shape:', x_test.shape)\n",
    "print('y_train shape:', y_train.shape)\n",
    "print('y_test shape:', y_test.shape)"
   ]
  },
  {
   "cell_type": "markdown",
   "metadata": {},
   "source": [
    "### 4) Model Code"
   ]
  },
  {
   "cell_type": "code",
   "execution_count": 126,
   "metadata": {
    "colab": {
     "autoexec": {
      "startup": false,
      "wait_interval": 0
     }
    },
    "colab_type": "code",
    "collapsed": false,
    "id": "cBIkzTOZhA36"
   },
   "outputs": [
    {
     "data": {
      "text/html": [
       "\n",
       "          <script src=\"/static/components/requirejs/require.js\"></script>\n",
       "          <script>\n",
       "            requirejs.config({\n",
       "              paths: {\n",
       "                base: '/static/base',\n",
       "              },\n",
       "            });\n",
       "          </script>\n",
       "          "
      ],
      "text/plain": [
       "<IPython.core.display.HTML object>"
      ]
     },
     "metadata": {},
     "output_type": "display_data"
    }
   ],
   "source": [
    "# This model trains very quickly and 2 epochs are already more than enough\n",
    "# Training for more epochs will likely lead to overfitting on this dataset\n",
    "# You can try tweaking these hyperparamaters when using this model with your own data\n",
    "batch_size = 32\n",
    "epochs = 2"
   ]
  },
  {
   "cell_type": "code",
   "execution_count": 127,
   "metadata": {
    "colab": {
     "autoexec": {
      "startup": false,
      "wait_interval": 0
     },
     "output_extras": [
      {}
     ]
    },
    "colab_type": "code",
    "collapsed": false,
    "id": "XdrFuwx4hA39",
    "outputId": "4b002559-2f06-4681-8f02-2e76e62d7a57"
   },
   "outputs": [
    {
     "data": {
      "text/html": [
       "\n",
       "          <script src=\"/static/components/requirejs/require.js\"></script>\n",
       "          <script>\n",
       "            requirejs.config({\n",
       "              paths: {\n",
       "                base: '/static/base',\n",
       "              },\n",
       "            });\n",
       "          </script>\n",
       "          "
      ],
      "text/plain": [
       "<IPython.core.display.HTML object>"
      ]
     },
     "metadata": {},
     "output_type": "display_data"
    }
   ],
   "source": [
    "# Build the model\n",
    "model = Sequential()\n",
    "model.add(Dense(512, input_shape=(max_words,)))\n",
    "model.add(Activation('relu'))\n",
    "model.add(Dropout(0.5))\n",
    "model.add(Dense(NUM_CLASSES))\n",
    "model.add(Activation('sigmoid')) #changed from softmax\n",
    "\n",
    "model.compile(loss='binary_crossentropy',\n",
    "              optimizer='adam',\n",
    "              metrics=['accuracy']) #changed from categorical_crossentropy"
   ]
  },
  {
   "cell_type": "code",
   "execution_count": 128,
   "metadata": {
    "colab": {
     "autoexec": {
      "startup": false,
      "wait_interval": 0
     },
     "output_extras": [
      {}
     ]
    },
    "colab_type": "code",
    "collapsed": false,
    "id": "rzi-9GaBhA4A",
    "outputId": "9a56a130-8804-4ce0-ad47-38c4f40c81fa"
   },
   "outputs": [
    {
     "data": {
      "text/html": [
       "\n",
       "          <script src=\"/static/components/requirejs/require.js\"></script>\n",
       "          <script>\n",
       "            requirejs.config({\n",
       "              paths: {\n",
       "                base: '/static/base',\n",
       "              },\n",
       "            });\n",
       "          </script>\n",
       "          "
      ],
      "text/plain": [
       "<IPython.core.display.HTML object>"
      ]
     },
     "metadata": {},
     "output_type": "display_data"
    },
    {
     "name": "stdout",
     "output_type": "stream",
     "text": [
      "Train on 720 samples, validate on 80 samples\n",
      "Epoch 1/2\n",
      "720/720 [==============================] - 1s - loss: 0.4711 - acc: 0.8122 - val_loss: 0.4311 - val_acc: 0.8125\n",
      "Epoch 2/2\n",
      "720/720 [==============================] - 0s - loss: 0.3171 - acc: 0.8653 - val_loss: 0.3765 - val_acc: 0.8300\n"
     ]
    }
   ],
   "source": [
    "# model.fit trains the model\n",
    "# The validation_split param tells Keras what % of our training data should be used in the validation set\n",
    "# You can see the validation loss decreasing slowly when you run this\n",
    "# Because val_loss is no longer decreasing we stop training to prevent overfitting\n",
    "history = model.fit(x_train, y_train,\n",
    "                    batch_size=batch_size,\n",
    "                    epochs=epochs,\n",
    "                    verbose=1,\n",
    "                    validation_split=0.1)"
   ]
  },
  {
   "cell_type": "code",
   "execution_count": 129,
   "metadata": {
    "colab": {
     "autoexec": {
      "startup": false,
      "wait_interval": 0
     },
     "output_extras": [
      {}
     ]
    },
    "colab_type": "code",
    "collapsed": false,
    "id": "zjwBD8qFhA4D",
    "outputId": "0dda5da5-44c4-4fbc-f2ad-01d642ca1914"
   },
   "outputs": [
    {
     "data": {
      "text/html": [
       "\n",
       "          <script src=\"/static/components/requirejs/require.js\"></script>\n",
       "          <script>\n",
       "            requirejs.config({\n",
       "              paths: {\n",
       "                base: '/static/base',\n",
       "              },\n",
       "            });\n",
       "          </script>\n",
       "          "
      ],
      "text/plain": [
       "<IPython.core.display.HTML object>"
      ]
     },
     "metadata": {},
     "output_type": "display_data"
    },
    {
     "name": "stdout",
     "output_type": "stream",
     "text": [
      " 32/200 [===>..........................] - ETA: 0sTest score: 0.530333137512\n",
      "Test accuracy: 0.807000041008\n"
     ]
    }
   ],
   "source": [
    "# Evaluate the accuracy of our trained model\n",
    "score = model.evaluate(x_test, y_test,\n",
    "                       batch_size=batch_size, verbose=1)\n",
    "print('Test score:', score[0])\n",
    "print('Test accuracy:', score[1])"
   ]
  },
  {
   "cell_type": "code",
   "execution_count": 130,
   "metadata": {
    "colab": {
     "autoexec": {
      "startup": false,
      "wait_interval": 0
     },
     "output_extras": [
      {}
     ]
    },
    "colab_type": "code",
    "collapsed": false,
    "id": "f000lYoxhA4F",
    "outputId": "21cd198f-1979-4b40-a2fd-891a1c0248db"
   },
   "outputs": [
    {
     "data": {
      "text/html": [
       "\n",
       "          <script src=\"/static/components/requirejs/require.js\"></script>\n",
       "          <script>\n",
       "            requirejs.config({\n",
       "              paths: {\n",
       "                base: '/static/base',\n",
       "              },\n",
       "            });\n",
       "          </script>\n",
       "          "
      ],
      "text/plain": [
       "<IPython.core.display.HTML object>"
      ]
     },
     "metadata": {},
     "output_type": "display_data"
    },
    {
     "name": "stdout",
     "output_type": "stream",
     "text": [
      "cannot cast from fragment to supportmapfragment <pre><code>public class outdoorfragment extends fragment  { private googlemap googlemap; double latitude = 1.31039; double longitude = 103.7784;  public ...\n",
      "Actual label:android\n",
      "Predicted label: android\n",
      "\n",
      "bullet list (or similar to) in a linear view between textviews  i try to build a bullet list with listview and use it in my scrollable linearlayout but it doesn t expand the list (i have to scroll the ...\n",
      "Actual label:android\n",
      "Predicted label: android\n",
      "\n",
      "android slide up view panel like sms  i m new to android and i want to create a chat application in android. so far i have designed bottom of the edit text with submit button.  like blow link    <a hr ...\n",
      "Actual label:android\n",
      "Predicted label: \n",
      "\n",
      "ef databinding  editing  modifying  saving records  i need a ef sample code to fill my customer form controls based on a value put in a search field. take into account that the combos on this form are ...\n",
      "Actual label:android\n",
      "Predicted label: \n",
      "\n",
      "dropdown marker info/window/bubble selector for google maps  i m trying to add a dropdown to an existing php mysql google map based on this:    i want to be able to select a [bar_name] and for the map ...\n",
      "Actual label:c#\n",
      "Predicted label: javascript\n",
      "\n"
     ]
    }
   ],
   "source": [
    "# Here's how to generate a prediction on individual examples locally\n",
    "for i in range(5):\n",
    "    prediction = model.predict(np.array([x_test[i]]))\n",
    "    predicted_label = array_to_labels(prediction[0],threshold=.5)\n",
    "    print(test_posts.iloc[i][:200], \"...\")\n",
    "    print('Actual label:' + '|'.join(array_to_labels(y_test[i])))\n",
    "    print(\"Predicted label: \" + '|'.join(predicted_label) + '\\n')  "
   ]
  },
  {
   "cell_type": "markdown",
   "metadata": {},
   "source": [
    "### 5) Package for ML Engine\n",
    "\n",
    "In order to train your model using the Cloud ML Engine Service, you need to package it as a python module and make a few additions to the code. The additions will be called out in the code comments.\n",
    "\n",
    "There are two main reasons why you'd want to train using Cloud ML Engine\n",
    "\n",
    "1. Automatic Hyperparameter tuning\n",
    "2. Access to faster training hardware\n",
    "\n",
    "We will demonstrate the first of these reasons"
   ]
  },
  {
   "cell_type": "code",
   "execution_count": 131,
   "metadata": {
    "collapsed": false
   },
   "outputs": [
    {
     "data": {
      "text/html": [
       "\n",
       "          <script src=\"/static/components/requirejs/require.js\"></script>\n",
       "          <script>\n",
       "            requirejs.config({\n",
       "              paths: {\n",
       "                base: '/static/base',\n",
       "              },\n",
       "            });\n",
       "          </script>\n",
       "          "
      ],
      "text/plain": [
       "<IPython.core.display.HTML object>"
      ]
     },
     "metadata": {},
     "output_type": "display_data"
    },
    {
     "name": "stderr",
     "output_type": "stream",
     "text": [
      "mkdir: cannot create directory ‘trainer’: File exists\n"
     ]
    }
   ],
   "source": [
    "%%bash\n",
    "mkdir trainer\n",
    "touch trainer/__init__.py"
   ]
  },
  {
   "cell_type": "code",
   "execution_count": 144,
   "metadata": {
    "collapsed": false
   },
   "outputs": [
    {
     "data": {
      "text/html": [
       "\n",
       "          <script src=\"/static/components/requirejs/require.js\"></script>\n",
       "          <script>\n",
       "            requirejs.config({\n",
       "              paths: {\n",
       "                base: '/static/base',\n",
       "              },\n",
       "            });\n",
       "          </script>\n",
       "          "
      ],
      "text/plain": [
       "<IPython.core.display.HTML object>"
      ]
     },
     "metadata": {},
     "output_type": "display_data"
    },
    {
     "name": "stdout",
     "output_type": "stream",
     "text": [
      "Overwriting trainer/task.py\n"
     ]
    }
   ],
   "source": [
    "%%writefile trainer/task.py\n",
    "\n",
    "from __future__ import absolute_import\n",
    "from __future__ import division\n",
    "from __future__ import print_function\n",
    "\n",
    "import itertools\n",
    "import argparse\n",
    "import json\n",
    "import time\n",
    "import os\n",
    "\n",
    "import numpy as np\n",
    "import pandas as pd\n",
    "import tensorflow as tf\n",
    "import google.datalab.bigquery as bq\n",
    "\n",
    "from sklearn.preprocessing import LabelBinarizer, LabelEncoder\n",
    "from sklearn.metrics import confusion_matrix\n",
    "\n",
    "from tensorflow.python.keras.models import Sequential\n",
    "from tensorflow.python.keras.layers import Dense, Activation, Dropout\n",
    "from tensorflow.python.keras.preprocessing import text, sequence\n",
    "from tensorflow.python.keras import utils\n",
    "\n",
    "from collections import Counter\n",
    "\n",
    "print(\"You have TensorFlow version\", tf.__version__)\n",
    "\n",
    "if __name__ == '__main__':\n",
    "### COMMAND LINE ARGUMENTS ###\n",
    "  parser = argparse.ArgumentParser()\n",
    "  \n",
    "  parser.add_argument(\n",
    "    '--train_batch_size', #hyperparameter\n",
    "    help='Batch size for training steps',\n",
    "    type=int,\n",
    "    default=32\n",
    "  )\n",
    "  parser.add_argument(\n",
    "    '--epochs', #hyperparamter\n",
    "    help='Number of epochs to train for',\n",
    "    type=int,\n",
    "    default=2\n",
    "  )\n",
    "  parser.add_argument(\n",
    "    '--neurons', #hyperparamter\n",
    "    help='Number of neurons in hidden layer',\n",
    "    type=int,\n",
    "    default=512\n",
    "  )\n",
    "  parser.add_argument(\n",
    "        '--output_dir',\n",
    "        help='GCS location to write checkpoints and export models',\n",
    "        required=True\n",
    "  )\n",
    "  parser.add_argument(\n",
    "          '--job-dir',\n",
    "          help='this model ignores this field, but it is required by gcloud',\n",
    "          default='junk'\n",
    "  )\n",
    "  args = parser.parse_args()\n",
    "  \n",
    "### DOWNLOAD DATA ###\n",
    "  query = \"\"\"\n",
    "  SELECT tags, TRIM(LOWER(REGEXP_REPLACE(CONCAT(title, \\' \\', body), r\\'[\\\"\\\\n\\\\\\'?,]|<p>|</p>\\',\\\" \\\"))) as post \n",
    "  FROM `bigquery-public-data.stackoverflow.posts_questions`\n",
    "  WHERE REGEXP_CONTAINS(tags, r\\\"javascript|java|c#|php|android|jquery|python\\\") \n",
    "  LIMIT 1000\n",
    "  \"\"\"\n",
    "\n",
    "  #data = bq.Query(query).execute(output_options=bq.QueryOutput.dataframe()).result() #issues with ML Engine service account authentication\n",
    "  data = pd.read_csv(\"https://storage.googleapis.com/vijay-public/text_classification/results-1000.csv\")\n",
    "  NUM_ROWS = data.shape[0]\n",
    "  print(\"Loaded {} rows\".format(NUM_ROWS))\n",
    "  \n",
    "### DATA PREPROCESSING ###\n",
    "  #Generate list of N most common labels\n",
    "  NUM_CLASSES = 5\n",
    "  labels_list = []\n",
    "\n",
    "  counts = Counter('|'.join(data['tags'].tolist()).split('|'))\n",
    "  classes = counts.most_common(NUM_CLASSES)\n",
    "\n",
    "  for i in range(0,NUM_CLASSES):\n",
    "      labels_list.append(classes[i][0])\n",
    "\n",
    "  print (\"{} most common classes:\".format(NUM_CLASSES))\n",
    "  print(classes)\n",
    "\n",
    "  #utility functions to extract classes and translate between \n",
    "  #human friendly (string) labels and machine friendly (array) labels\n",
    "\n",
    "  #labels_list: A list of the valid classes\n",
    "  #tags: A list of tags for a post\n",
    "  #returns an ndarray with ones for the active classes\n",
    "  def labels_to_array(tags,labels_list=labels_list):\n",
    "      array = np.zeros(len(labels_list),dtype=np.int8)\n",
    "      tags = tags.split('|') #split tags from pipe separated string into list\n",
    "      for tag in tags:\n",
    "          try:\n",
    "              array[labels_list.index(tag)] = 1\n",
    "          except ValueError: \n",
    "              None\n",
    "      return array\n",
    "\n",
    "  #translate machine readable array back to human labels\n",
    "  def array_to_labels(array, labels_list=labels_list, threshold = 1):\n",
    "      labels = []\n",
    "      i=0\n",
    "      for flag in array:\n",
    "          if flag >= threshold: \n",
    "              labels.append(labels_list[i])\n",
    "          i=i+1\n",
    "      return labels\n",
    "\n",
    "  #split into training/test set \n",
    "  train_size = int(len(data) * .8)\n",
    "  test_size = len(data)-train_size\n",
    "  print (\"Train size: %d\" % train_size)\n",
    "  print (\"Test size: %d\" % test_size)\n",
    "\n",
    "  train_posts = data['post'][:train_size]\n",
    "  train_tags = data['tags'][:train_size]\n",
    "\n",
    "  test_posts = data['post'][train_size:]\n",
    "  test_tags = data['tags'][train_size:]\n",
    "\n",
    "  #generate bag of words embedding\n",
    "  max_words = 1000\n",
    "  tokenize = text.Tokenizer(num_words=max_words, char_level=False)\n",
    "\n",
    "  tokenize.fit_on_texts(train_posts) # only fit on train\n",
    "  x_train = tokenize.texts_to_matrix(train_posts)\n",
    "  x_test = tokenize.texts_to_matrix(test_posts)\n",
    "\n",
    "  # generate multi-label arrays\n",
    "  y_train = np.zeros([train_size,NUM_CLASSES])\n",
    "  for i in range(0,train_size):\n",
    "      y_train[i] = labels_to_array(data['tags'][i])\n",
    "\n",
    "  y_test = np.zeros([test_size,NUM_CLASSES])\n",
    "  for i in range(0,test_size):\n",
    "      y_test[i] = labels_to_array(data['tags'][i+train_size-1])\n",
    "  y_test[0]\n",
    "\n",
    "  # Inspect the dimenstions of our training and test data (this is helpful to debug)\n",
    "  print('x_train shape:', x_train.shape)\n",
    "  print('x_test shape:', x_test.shape)\n",
    "  print('y_train shape:', y_train.shape)\n",
    "  print('y_test shape:', y_test.shape)\n",
    "\n",
    "### BUILD MODEL ###\n",
    "  #Set hyperparameters\n",
    "  batch_size = args.train_batch_size\n",
    "  epochs = args.epochs\n",
    "\n",
    "\n",
    "  model = Sequential()\n",
    "  model.add(Dense(args.neurons, input_shape=(max_words,)))\n",
    "  model.add(Activation('relu'))\n",
    "  #model.add(Dropout(0.5)) #this breaks SavedModel prediction\n",
    "  model.add(Dense(NUM_CLASSES))\n",
    "  model.add(Activation('sigmoid')) #changed from softmax\n",
    "\n",
    "  model.compile(loss='binary_crossentropy',\n",
    "                optimizer='adam',\n",
    "                metrics=['accuracy']) #changed from categorical_crossentropy\n",
    "\n",
    "  # model.fit trains the model\n",
    "  # The validation_split param tells Keras what % of our training data should be used in the validation set\n",
    "  # You can see the validation loss decreasing slowly when you run this\n",
    "  # Because val_loss is no longer decreasing we stop training to prevent overfitting\n",
    "\n",
    "\n",
    "  #Enable Tensorboard logging\n",
    "  Tensorboard = tf.keras.callbacks.TensorBoard(log_dir=args.output_dir + \"/tensorboard\")\n",
    "\n",
    "  history = model.fit(x_train, y_train,\n",
    "                      batch_size=batch_size,\n",
    "                      epochs=epochs,\n",
    "                      verbose=1,\n",
    "                      validation_split=0.1,\n",
    "                      callbacks=[Tensorboard]) #callback for Tensorboard\n",
    "\n",
    "  # Evaluate the accuracy of our trained model\n",
    "  score = model.evaluate(x_test, y_test,\n",
    "                         batch_size=batch_size, verbose=1)\n",
    "  print('Test score:', score[0])\n",
    "\n",
    "\n",
    "  # Here's how to generate a prediction on individual examples\n",
    "  for i in range(5):\n",
    "      prediction = model.predict(np.array([x_test[i]]))\n",
    "      #print(prediction[0])\n",
    "      #print(y_test[i])\n",
    "      predicted_label = array_to_labels(prediction[0],threshold=.5)\n",
    "      print(test_posts.iloc[i][:200], \"...\")\n",
    "      print('Actual label:' + '|'.join(array_to_labels(y_test[i])))\n",
    "      print(\"Predicted label: \" + '|'.join(predicted_label) + '\\n') \n",
    "\n",
    "### EXPORT MODEL ### \n",
    "  model_builder = tf.saved_model.builder.SavedModelBuilder(args.output_dir+\"/export/\"+time.strftime(\"%Y%m%d-%H%M%S\"))\n",
    "\n",
    "  inputs = {'input': tf.saved_model.utils.build_tensor_info(model.input)}\n",
    "  outputs = {'output': tf.saved_model.utils.build_tensor_info(model.output)}\n",
    "\n",
    "  signature_def = tf.saved_model.signature_def_utils.build_signature_def(\n",
    "      inputs=inputs,\n",
    "      outputs=outputs,\n",
    "      method_name=tf.saved_model.signature_constants.PREDICT_METHOD_NAME\n",
    "  )\n",
    "\n",
    "  model_builder.add_meta_graph_and_variables(\n",
    "      tf.keras.backend.get_session(),\n",
    "      tags=[tf.saved_model.tag_constants.SERVING],\n",
    "      signature_def_map={\n",
    "          tf.saved_model.signature_constants.DEFAULT_SERVING_SIGNATURE_DEF_KEY: signature_def\n",
    "      }\n",
    "  )\n",
    "\n",
    "  model_builder.save()\n"
   ]
  },
  {
   "cell_type": "code",
   "execution_count": 145,
   "metadata": {
    "collapsed": false,
    "scrolled": false
   },
   "outputs": [
    {
     "data": {
      "text/html": [
       "\n",
       "          <script src=\"/static/components/requirejs/require.js\"></script>\n",
       "          <script>\n",
       "            requirejs.config({\n",
       "              paths: {\n",
       "                base: '/static/base',\n",
       "              },\n",
       "            });\n",
       "          </script>\n",
       "          "
      ],
      "text/plain": [
       "<IPython.core.display.HTML object>"
      ]
     },
     "metadata": {},
     "output_type": "display_data"
    },
    {
     "name": "stdout",
     "output_type": "stream",
     "text": [
      "You have TensorFlow version 1.4.0\n",
      "Loaded 1000 rows\n",
      "5 most common classes:\n",
      "[('javascript', 376), ('java', 334), ('jquery', 133), ('c#', 100), ('html', 82)]\n",
      "Train size: 800\n",
      "Test size: 200\n",
      "x_train shape: (800, 1000)\n",
      "x_test shape: (200, 1000)\n",
      "y_train shape: (800, 5)\n",
      "y_test shape: (200, 5)\n",
      "Train on 720 samples, validate on 80 samples\n",
      "Epoch 1/2\n",
      "\r",
      " 32/720 [>.............................] - ETA: 0s - loss: 0.6860 - acc: 0.5625\b\b\b\b\b\b\b\b\b\b\b\b\b\b\b\b\b\b\b\b\b\b\b\b\b\b\b\b\b\b\b\b\b\b\b\b\b\b\b\b\b\b\b\b\b\b\b\b\b\b\b\b\b\b\b\b\b\b\b\b\b\b\b\b\b\b\b\b\b\b\b\b\b\b\b\b\b\b\b\r",
      "192/720 [=======>......................] - ETA: 0s - loss: 0.5539 - acc: 0.7594\b\b\b\b\b\b\b\b\b\b\b\b\b\b\b\b\b\b\b\b\b\b\b\b\b\b\b\b\b\b\b\b\b\b\b\b\b\b\b\b\b\b\b\b\b\b\b\b\b\b\b\b\b\b\b\b\b\b\b\b\b\b\b\b\b\b\b\b\b\b\b\b\b\b\b\b\b\b\b\r",
      "352/720 [=============>................] - ETA: 0s - loss: 0.4947 - acc: 0.7915\b\b\b\b\b\b\b\b\b\b\b\b\b\b\b\b\b\b\b\b\b\b\b\b\b\b\b\b\b\b\b\b\b\b\b\b\b\b\b\b\b\b\b\b\b\b\b\b\b\b\b\b\b\b\b\b\b\b\b\b\b\b\b\b\b\b\b\b\b\b\b\b\b\b\b\b\b\b\b\r",
      "512/720 [====================>.........] - ETA: 0s - loss: 0.4687 - acc: 0.8105\b\b\b\b\b\b\b\b\b\b\b\b\b\b\b\b\b\b\b\b\b\b\b\b\b\b\b\b\b\b\b\b\b\b\b\b\b\b\b\b\b\b\b\b\b\b\b\b\b\b\b\b\b\b\b\b\b\b\b\b\b\b\b\b\b\b\b\b\b\b\b\b\b\b\b\b\b\b\b\r",
      "672/720 [===========================>..] - ETA: 0s - loss: 0.4466 - acc: 0.8280\b\b\b\b\b\b\b\b\b\b\b\b\b\b\b\b\b\b\b\b\b\b\b\b\b\b\b\b\b\b\b\b\b\b\b\b\b\b\b\b\b\b\b\b\b\b\b\b\b\b\b\b\b\b\b\b\b\b\b\b\b\b\b\b\b\b\b\b\b\b\b\b\b\b\b\b\b\b\b\r",
      "720/720 [==============================] - 0s - loss: 0.4436 - acc: 0.8303 - val_loss: 0.3341 - val_acc: 0.8700\n",
      "Epoch 2/2\n",
      "\r",
      " 32/720 [>.............................] - ETA: 0s - loss: 0.2374 - acc: 0.9313\b\b\b\b\b\b\b\b\b\b\b\b\b\b\b\b\b\b\b\b\b\b\b\b\b\b\b\b\b\b\b\b\b\b\b\b\b\b\b\b\b\b\b\b\b\b\b\b\b\b\b\b\b\b\b\b\b\b\b\b\b\b\b\b\b\b\b\b\b\b\b\b\b\b\b\b\b\b\b\r",
      "192/720 [=======>......................] - ETA: 0s - loss: 0.2978 - acc: 0.8906\b\b\b\b\b\b\b\b\b\b\b\b\b\b\b\b\b\b\b\b\b\b\b\b\b\b\b\b\b\b\b\b\b\b\b\b\b\b\b\b\b\b\b\b\b\b\b\b\b\b\b\b\b\b\b\b\b\b\b\b\b\b\b\b\b\b\b\b\b\b\b\b\b\b\b\b\b\b\b\r",
      "352/720 [=============>................] - ETA: 0s - loss: 0.2764 - acc: 0.9034\b\b\b\b\b\b\b\b\b\b\b\b\b\b\b\b\b\b\b\b\b\b\b\b\b\b\b\b\b\b\b\b\b\b\b\b\b\b\b\b\b\b\b\b\b\b\b\b\b\b\b\b\b\b\b\b\b\b\b\b\b\b\b\b\b\b\b\b\b\b\b\b\b\b\b\b\b\b\b\r",
      "512/720 [====================>.........] - ETA: 0s - loss: 0.2657 - acc: 0.9047\b\b\b\b\b\b\b\b\b\b\b\b\b\b\b\b\b\b\b\b\b\b\b\b\b\b\b\b\b\b\b\b\b\b\b\b\b\b\b\b\b\b\b\b\b\b\b\b\b\b\b\b\b\b\b\b\b\b\b\b\b\b\b\b\b\b\b\b\b\b\b\b\b\b\b\b\b\b\b\r",
      "672/720 [===========================>..] - ETA: 0s - loss: 0.2544 - acc: 0.9086\b\b\b\b\b\b\b\b\b\b\b\b\b\b\b\b\b\b\b\b\b\b\b\b\b\b\b\b\b\b\b\b\b\b\b\b\b\b\b\b\b\b\b\b\b\b\b\b\b\b\b\b\b\b\b\b\b\b\b\b\b\b\b\b\b\b\b\b\b\b\b\b\b\b\b\b\b\b\b\r",
      "720/720 [==============================] - 0s - loss: 0.2514 - acc: 0.9097 - val_loss: 0.2677 - val_acc: 0.9075\n",
      "\r",
      " 32/200 [===>..........................] - ETA: 0sTest score: 0.693889396191\n",
      "update single record with an array of results  a query leads to a list of results (@invoice_results - - also the name of the controller action) with two specific columns in the view (formatting remove ...\n",
      "Actual label:javascript|c#\n",
      "Predicted label: javascript\n",
      "\n",
      "jquery and mouseevents  i have a question regarding mouse events in the jquery library. i have a simple javascript function as following:   <pre><code>$(function() {     var xpos;     var ypos;     $( ...\n",
      "Actual label:\n",
      "Predicted label: javascript\n",
      "\n",
      "drag and drop using raphael.js has laggy performance with more than 10 draggable elements  i m making a simple html5 app  that will be wrapped to be used on android  ios and web browsers. in my app i  ...\n",
      "Actual label:javascript|jquery|html\n",
      "Predicted label: javascript|jquery\n",
      "\n",
      "event logging in asp.net  i am using vs2005 c# .net 2.0 and sql server 2005.    are there any websites that provide step by step instructions to implement event logging for my web application     <str ...\n",
      "Actual label:javascript\n",
      "Predicted label: \n",
      "\n",
      "why chrome maintains scrolltop from previous page  chrome maintains the <code>scrolltop</code> from previous page. eg: i am in list page and scroll down to end of the page and clicked on a record to v ...\n",
      "Actual label:c#\n",
      "Predicted label: javascript\n",
      "\n"
     ]
    },
    {
     "name": "stderr",
     "output_type": "stream",
     "text": [
      "2017-11-14 19:55:03.220977: I tensorflow/core/platform/cpu_feature_guard.cc:137] Your CPU supports instructions that this TensorFlow binary was not compiled to use: SSE4.1 SSE4.2 AVX AVX2 FMA\n"
     ]
    }
   ],
   "source": [
    "%%bash\n",
    "gcloud ml-engine local train \\\n",
    "   --module-name=trainer.task \\\n",
    "   --package-path=trainer \\\n",
    "   -- \\\n",
    "   --output_dir='./output'"
   ]
  },
  {
   "cell_type": "code",
   "execution_count": 133,
   "metadata": {
    "collapsed": false
   },
   "outputs": [
    {
     "data": {
      "text/html": [
       "\n",
       "          <script src=\"/static/components/requirejs/require.js\"></script>\n",
       "          <script>\n",
       "            requirejs.config({\n",
       "              paths: {\n",
       "                base: '/static/base',\n",
       "              },\n",
       "            });\n",
       "          </script>\n",
       "          "
      ],
      "text/plain": [
       "<IPython.core.display.HTML object>"
      ]
     },
     "metadata": {},
     "output_type": "display_data"
    }
   ],
   "source": [
    "GCS_BUCKET = 'gs://vijays-sandbox-ml' #CHANGE THIS TO YOUR BUCKET\n",
    "PROJECT = 'vijays-sandbox' #CHANGE THIS TO YOUR PROJECT ID\n",
    "REGION = 'us-central1' #OPTIONALLY CHANGE THIS"
   ]
  },
  {
   "cell_type": "code",
   "execution_count": 134,
   "metadata": {
    "collapsed": false
   },
   "outputs": [
    {
     "data": {
      "text/html": [
       "\n",
       "          <script src=\"/static/components/requirejs/require.js\"></script>\n",
       "          <script>\n",
       "            requirejs.config({\n",
       "              paths: {\n",
       "                base: '/static/base',\n",
       "              },\n",
       "            });\n",
       "          </script>\n",
       "          "
      ],
      "text/plain": [
       "<IPython.core.display.HTML object>"
      ]
     },
     "metadata": {},
     "output_type": "display_data"
    }
   ],
   "source": [
    "import os\n",
    "os.environ['GCS_BUCKET'] = GCS_BUCKET\n",
    "os.environ['PROJECT'] = PROJECT\n",
    "os.environ['REGION'] = REGION"
   ]
  },
  {
   "cell_type": "markdown",
   "metadata": {},
   "source": [
    "#### Configuration file for hyperparameter tuning\n",
    "\n",
    "Here I specify\n",
    "\n",
    "1. Which hyperparamters i wish to tune\n",
    "2. What min and max range I want to tune between\n",
    "3. What success metric i want to evaluate against\n",
    "\n",
    "Note that the hyperparameter tuner passes values to tensorflow via the command line, so any hyperparameter I wish to tune must be exposed as a command line argument in my code"
   ]
  },
  {
   "cell_type": "code",
   "execution_count": 148,
   "metadata": {
    "collapsed": false
   },
   "outputs": [
    {
     "data": {
      "text/html": [
       "\n",
       "          <script src=\"/static/components/requirejs/require.js\"></script>\n",
       "          <script>\n",
       "            requirejs.config({\n",
       "              paths: {\n",
       "                base: '/static/base',\n",
       "              },\n",
       "            });\n",
       "          </script>\n",
       "          "
      ],
      "text/plain": [
       "<IPython.core.display.HTML object>"
      ]
     },
     "metadata": {},
     "output_type": "display_data"
    },
    {
     "name": "stdout",
     "output_type": "stream",
     "text": [
      "Overwriting config.yaml\n"
     ]
    }
   ],
   "source": [
    "%%writefile config.yaml\n",
    "trainingInput:\n",
    "  hyperparameters:\n",
    "    goal: MAXIMIZE\n",
    "    hyperparameterMetricTag: val_acc\n",
    "    maxTrials: 5\n",
    "    maxParallelTrials: 1\n",
    "    params:\n",
    "    - parameterName: neurons\n",
    "      type: INTEGER\n",
    "      minValue: 10\n",
    "      maxValue: 1000\n",
    "      scaleType: UNIT_LINEAR_SCALE"
   ]
  },
  {
   "cell_type": "markdown",
   "metadata": {},
   "source": [
    "#### Upgrade ML Engine Tensorflow Version\n",
    "\n",
    "Our code requires TF 1.4, however TF 1.4 is not yet a pre-packaged runtime for ML Engine. However we can force the installation of TF 1.4 by specifying it as a PyPi dependency as documented [here](https://cloud.google.com/ml-engine/docs/versioning#specifying_custom_versions_of_tensorflow_for_training)"
   ]
  },
  {
   "cell_type": "code",
   "execution_count": 136,
   "metadata": {
    "collapsed": false
   },
   "outputs": [
    {
     "data": {
      "text/html": [
       "\n",
       "          <script src=\"/static/components/requirejs/require.js\"></script>\n",
       "          <script>\n",
       "            requirejs.config({\n",
       "              paths: {\n",
       "                base: '/static/base',\n",
       "              },\n",
       "            });\n",
       "          </script>\n",
       "          "
      ],
      "text/plain": [
       "<IPython.core.display.HTML object>"
      ]
     },
     "metadata": {},
     "output_type": "display_data"
    },
    {
     "name": "stdout",
     "output_type": "stream",
     "text": [
      "Overwriting setup.py\n"
     ]
    }
   ],
   "source": [
    "%%writefile setup.py\n",
    "from setuptools import find_packages\n",
    "from setuptools import setup\n",
    "\n",
    "REQUIRED_PACKAGES = ['tensorflow==1.4','datalab']\n",
    "\n",
    "setup(\n",
    "    name='trainer',\n",
    "    version='0.1',\n",
    "    install_requires=REQUIRED_PACKAGES,\n",
    "    packages=find_packages(),\n",
    "    include_package_data=True,\n",
    "    description='Text Classification Trainer Application')"
   ]
  },
  {
   "cell_type": "markdown",
   "metadata": {},
   "source": [
    "#### Queue ML Engine Training Job\n",
    "\n",
    "We use the gcloud command line tool to do so"
   ]
  },
  {
   "cell_type": "code",
   "execution_count": 147,
   "metadata": {
    "collapsed": false
   },
   "outputs": [
    {
     "data": {
      "text/html": [
       "\n",
       "          <script src=\"/static/components/requirejs/require.js\"></script>\n",
       "          <script>\n",
       "            requirejs.config({\n",
       "              paths: {\n",
       "                base: '/static/base',\n",
       "              },\n",
       "            });\n",
       "          </script>\n",
       "          "
      ],
      "text/plain": [
       "<IPython.core.display.HTML object>"
      ]
     },
     "metadata": {},
     "output_type": "display_data"
    },
    {
     "name": "stdout",
     "output_type": "stream",
     "text": [
      "jobId: text_classification_171114_195631\n",
      "state: QUEUED\n"
     ]
    },
    {
     "name": "stderr",
     "output_type": "stream",
     "text": [
      "Job [text_classification_171114_195631] submitted successfully.\n",
      "Your job is still active. You may view the status of your job with the command\n",
      "\n",
      "  $ gcloud ml-engine jobs describe text_classification_171114_195631\n",
      "\n",
      "or continue streaming the logs with the command\n",
      "\n",
      "  $ gcloud ml-engine jobs stream-logs text_classification_171114_195631\n"
     ]
    }
   ],
   "source": [
    "%%bash\n",
    "JOBNAME=text_classification_$(date -u +%y%m%d_%H%M%S)\n",
    "\n",
    "gcloud ml-engine jobs submit training $JOBNAME \\\n",
    "   --region=$REGION \\\n",
    "   --runtime-version=1.2 \\\n",
    "   --module-name=trainer.task \\\n",
    "   --package-path=trainer \\\n",
    "   --job-dir=$GCS_BUCKET/$JOBNAME/ \\\n",
    "   --config config.yaml \\\n",
    "   -- \\\n",
    "   --output_dir=$GCS_BUCKET/$JOBNAME/output"
   ]
  },
  {
   "cell_type": "markdown",
   "metadata": {
    "collapsed": true
   },
   "source": [
    "### 7) Inspect Results Using TensorBoard"
   ]
  },
  {
   "cell_type": "code",
   "execution_count": 89,
   "metadata": {
    "collapsed": false
   },
   "outputs": [
    {
     "data": {
      "text/html": [
       "\n",
       "          <script src=\"/static/components/requirejs/require.js\"></script>\n",
       "          <script>\n",
       "            requirejs.config({\n",
       "              paths: {\n",
       "                base: '/static/base',\n",
       "              },\n",
       "            });\n",
       "          </script>\n",
       "          "
      ],
      "text/plain": [
       "<IPython.core.display.HTML object>"
      ]
     },
     "metadata": {},
     "output_type": "display_data"
    },
    {
     "data": {
      "text/html": [
       "<p>TensorBoard was started successfully with pid 7530. Click <a href=\"/_proxy/45932/\" target=\"_blank\">here</a> to access it.</p>"
      ]
     },
     "metadata": {},
     "output_type": "display_data"
    },
    {
     "data": {
      "text/plain": [
       "7530"
      ]
     },
     "execution_count": 89,
     "metadata": {},
     "output_type": "execute_result"
    }
   ],
   "source": [
    "from google.datalab.ml import TensorBoard\n",
    "TensorBoard().start('output')"
   ]
  },
  {
   "cell_type": "markdown",
   "metadata": {},
   "source": [
    "If you're running from a jupyter notebook on your laptop/workstation (as opposed to datalab) you can use the below command instead to launch tensorboard\n",
    "\n",
    "When you're done with tensorboard interrupt the kernel (using the Jupyter menu bar) to quit"
   ]
  },
  {
   "cell_type": "code",
   "execution_count": null,
   "metadata": {
    "collapsed": false
   },
   "outputs": [],
   "source": [
    "#alternative tensorboard command for outside datalab\n",
    "\n",
    "#!tensorboard --logdir=output/"
   ]
  },
  {
   "cell_type": "markdown",
   "metadata": {
    "collapsed": true
   },
   "source": [
    "### 8) Deploy For Prediction\n",
    "\n",
    "Cloud ML Engine has a prediction service that will wrap our tensorflow model with a REST API and allow remote clients to get predictions.\n",
    "\n",
    "You can deploy the model from the Google Cloud Console GUI, or you can use the gcloud command line tool. We will use the latter method."
   ]
  },
  {
   "cell_type": "code",
   "execution_count": null,
   "metadata": {
    "collapsed": false
   },
   "outputs": [],
   "source": [
    "%%bash\n",
    "MODEL_NAME=\"text_classification\"\n",
    "MODEL_VERSION=\"v1_1000_word_embedding\"\n",
    "MODEL_LOCATION=\"output/export/20171110-135219\" #REPLACE this with the location of your model\n",
    "\n",
    "#gcloud ml-engine versions delete ${MODEL_VERSION} --model ${MODEL_NAME} #Uncomment to overwrite existing version\n",
    "#gcloud ml-engine models delete ${MODEL_NAME} #Uncomment to overwrite existing model\n",
    "gcloud ml-engine models create ${MODEL_NAME} --regions $REGION\n",
    "gcloud ml-engine versions create ${MODEL_VERSION} --model ${MODEL_NAME} --origin ${MODEL_LOCATION} --staging-bucket=$GCS_BUCKET"
   ]
  },
  {
   "cell_type": "markdown",
   "metadata": {},
   "source": [
    "### 9) Get Predictions\n",
    "There are two flavors of the ML Engine Prediction Service: Batch and online.\n",
    "\n",
    "Online prediction is more appropriate for latency sensitive requests as results are returned quickly and synchronously.\n",
    "\n",
    "Batch prediction is more appropriate for large prediction requests that you only need to run a few times a day.\n",
    "\n",
    "Below we define a function that takes care of\n",
    "1. Authenticating to the Google Cloud API\n",
    "2. Converting our post text to the vector embedding the model was trained on\n",
    "3. Passes this embedding in JSON format, which is what the API expects"
   ]
  },
  {
   "cell_type": "code",
   "execution_count": null,
   "metadata": {
    "collapsed": true
   },
   "outputs": [],
   "source": [
    "def predict_json(project, model, post, version=None):\n",
    "    \"\"\"Send json data to a deployed model for prediction.\n",
    "\n",
    "    Args:\n",
    "        project (str): project where the Cloud ML Engine Model is deployed.\n",
    "        model (str): model name.\n",
    "        post: str, the text you want to classify.\n",
    "        version: str, version of the model to target.\n",
    "    Returns:\n",
    "        Mapping[str: any]: dictionary of prediction results defined by the\n",
    "            model.\n",
    "    \"\"\"\n",
    "\n",
    "    # Convert post to vector embedding\n",
    "    instances = tokenize.texts_to_matrix([post]).tolist()\n",
    "    # Authenticate\n",
    "    # GOOGLE_APPLICATION_CREDENTIALS=<path_to_service_account_file>\n",
    "    # OR: gcloud auth application-default login\n",
    "    service = googleapiclient.discovery.build('ml', 'v1')\n",
    "    \n",
    "    name = 'projects/{}/models/{}'.format(project, model)\n",
    "\n",
    "    if version is not None:\n",
    "        name += '/versions/{}'.format(version)\n",
    "\n",
    "    response = service.projects().predict(\n",
    "        name=name,\n",
    "        body={'instances': instances}\n",
    "    ).execute()\n",
    "\n",
    "    if 'error' in response:\n",
    "        raise RuntimeError(response['error'])\n",
    "\n",
    "    return response['predictions']"
   ]
  },
  {
   "cell_type": "markdown",
   "metadata": {},
   "source": [
    "Now we'll call the prediction function and get results! Try modifying the post text to see how it affects the label scores. Does it behave how you would expect?"
   ]
  },
  {
   "cell_type": "code",
   "execution_count": null,
   "metadata": {
    "collapsed": false
   },
   "outputs": [],
   "source": [
    "POST = \"java is my world\"\n",
    "MODEL = \"text_classification\"\n",
    "VERSION = \"v1_1000_word_embedding\"\n",
    "\n",
    "response = predict_json(PROJECT,MODEL,POST,VERSION)[0].get('output')\n",
    "\n",
    "print(\"Post: {} \\nLabel Scores: {} \\nLabels:{} \\nLabels above threshold:{}\".format(\n",
    "    POST,response,labels_list,array_to_labels(response,threshold=0.5)))"
   ]
  },
  {
   "cell_type": "code",
   "execution_count": null,
   "metadata": {
    "collapsed": true
   },
   "outputs": [],
   "source": []
  }
 ],
 "metadata": {
  "colab": {
   "default_view": {},
   "name": "josh3.ipynb",
   "provenance": [],
   "version": "0.3.2",
   "views": {}
  },
  "kernelspec": {
   "display_name": "Python 2",
   "language": "python",
   "name": "python2"
  },
  "language_info": {
   "codemirror_mode": {
    "name": "ipython",
    "version": 2
   },
   "file_extension": ".py",
   "mimetype": "text/x-python",
   "name": "python",
   "nbconvert_exporter": "python",
   "pygments_lexer": "ipython2",
   "version": "2.7.12"
  }
 },
 "nbformat": 4,
 "nbformat_minor": 1
}
