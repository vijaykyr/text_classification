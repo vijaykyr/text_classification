{
 "cells": [
  {
   "cell_type": "code",
   "execution_count": 1,
   "metadata": {
    "colab": {
     "autoexec": {
      "startup": false,
      "wait_interval": 0
     }
    },
    "colab_type": "code",
    "collapsed": true,
    "id": "frTMl3sShA3P"
   },
   "outputs": [],
   "source": [
    "from __future__ import absolute_import\n",
    "from __future__ import division\n",
    "from __future__ import print_function"
   ]
  },
  {
   "cell_type": "code",
   "execution_count": 2,
   "metadata": {
    "colab": {
     "autoexec": {
      "startup": false,
      "wait_interval": 0
     },
     "height": 321,
     "output_extras": [
      {
       "item_id": 1
      }
     ]
    },
    "colab_type": "code",
    "executionInfo": {
     "elapsed": 2880,
     "status": "error",
     "timestamp": 1505781339378,
     "user": {
      "displayName": "Sara Robinson",
      "photoUrl": "//lh4.googleusercontent.com/-RR9n0dvbwgI/AAAAAAAAAAI/AAAAAAAAMYM/SOr5ZExpvXE/s50-c-k-no/photo.jpg",
      "userId": "112510032804989247452"
     },
     "user_tz": 240
    },
    "id": "783h64rGhA3T",
    "outputId": "d447b2ab-e321-4ee5-abd4-de2c0116302f"
   },
   "outputs": [
    {
     "name": "stdout",
     "output_type": "stream",
     "text": [
      "You have TensorFlow version 1.3.0\n"
     ]
    }
   ],
   "source": [
    "import itertools\n",
    "import os\n",
    "\n",
    "%matplotlib inline\n",
    "import matplotlib.pyplot as plt\n",
    "import numpy as np\n",
    "import pandas as pd\n",
    "import tensorflow as tf\n",
    "\n",
    "from sklearn.preprocessing import LabelBinarizer, LabelEncoder\n",
    "from sklearn.metrics import confusion_matrix\n",
    "\n",
    "from tensorflow.contrib.keras.python import keras\n",
    "from tensorflow.contrib.keras.python.keras.models import Sequential\n",
    "from tensorflow.contrib.keras.python.keras.layers import Dense, Activation, Dropout\n",
    "from tensorflow.contrib.keras.python.keras.preprocessing import text, sequence\n",
    "from tensorflow.contrib.keras.python.keras import utils\n",
    "\n",
    "from collections import Counter\n",
    "\n",
    "# This code was tested with TensorFlow v1.3\n",
    "print(\"You have TensorFlow version\", tf.__version__)"
   ]
  },
  {
   "cell_type": "code",
   "execution_count": 3,
   "metadata": {
    "colab": {
     "autoexec": {
      "startup": false,
      "wait_interval": 0
     }
    },
    "colab_type": "code",
    "id": "c7te21f7hA3V"
   },
   "outputs": [
    {
     "name": "stdout",
     "output_type": "stream",
     "text": [
      "Loaded 1000 rows\n"
     ]
    }
   ],
   "source": [
    "# The CSV was generated from this query: https://bigquery.cloud.google.com/savedquery/513927984416:c494494324be4a80b1fc55f613abb39c\n",
    "# The data is also publicly available at this Cloud Storage URL: https://storage.googleapis.com/tensorflow-workshop-examples/stack-overflow-data.csv\n",
    "\n",
    "data = pd.read_csv(\"https://storage.googleapis.com/vijay-public/text_classification/results-1000.csv\")\n",
    "NUM_ROWS = data.shape[0]\n",
    "print(\"Loaded {} rows\".format(NUM_ROWS))"
   ]
  },
  {
   "cell_type": "code",
   "execution_count": 4,
   "metadata": {
    "colab": {
     "autoexec": {
      "startup": false,
      "wait_interval": 0
     },
     "output_extras": [
      {}
     ]
    },
    "colab_type": "code",
    "id": "chAbp3ryhA3X",
    "outputId": "3a16921d-a3be-4c43-a5e2-6012220ee13a"
   },
   "outputs": [
    {
     "data": {
      "text/html": [
       "<div>\n",
       "<style>\n",
       "    .dataframe thead tr:only-child th {\n",
       "        text-align: right;\n",
       "    }\n",
       "\n",
       "    .dataframe thead th {\n",
       "        text-align: left;\n",
       "    }\n",
       "\n",
       "    .dataframe tbody tr th {\n",
       "        vertical-align: top;\n",
       "    }\n",
       "</style>\n",
       "<table border=\"1\" class=\"dataframe\">\n",
       "  <thead>\n",
       "    <tr style=\"text-align: right;\">\n",
       "      <th></th>\n",
       "      <th>post</th>\n",
       "      <th>tags</th>\n",
       "    </tr>\n",
       "  </thead>\n",
       "  <tbody>\n",
       "    <tr>\n",
       "      <th>0</th>\n",
       "      <td>i have table of 8x8 i want to show images or v...</td>\n",
       "      <td>java|html|sql|oracle|jsp</td>\n",
       "    </tr>\n",
       "    <tr>\n",
       "      <th>1</th>\n",
       "      <td>putting the comment on a fb page  i am using j...</td>\n",
       "      <td>javascript|facebook-graph-api|facebook-javascr...</td>\n",
       "    </tr>\n",
       "    <tr>\n",
       "      <th>2</th>\n",
       "      <td>multiple transactions in hibernate  is there a...</td>\n",
       "      <td>java|hibernate</td>\n",
       "    </tr>\n",
       "    <tr>\n",
       "      <th>3</th>\n",
       "      <td>receiving fake path while uploading  whenever ...</td>\n",
       "      <td>javascript|html|file-upload</td>\n",
       "    </tr>\n",
       "    <tr>\n",
       "      <th>4</th>\n",
       "      <td>replace the visual studio find results  i m wa...</td>\n",
       "      <td>c#|.net|visual-studio-2010|visual-studio|visua...</td>\n",
       "    </tr>\n",
       "  </tbody>\n",
       "</table>\n",
       "</div>"
      ],
      "text/plain": [
       "                                                post  \\\n",
       "0  i have table of 8x8 i want to show images or v...   \n",
       "1  putting the comment on a fb page  i am using j...   \n",
       "2  multiple transactions in hibernate  is there a...   \n",
       "3  receiving fake path while uploading  whenever ...   \n",
       "4  replace the visual studio find results  i m wa...   \n",
       "\n",
       "                                                tags  \n",
       "0                           java|html|sql|oracle|jsp  \n",
       "1  javascript|facebook-graph-api|facebook-javascr...  \n",
       "2                                     java|hibernate  \n",
       "3                        javascript|html|file-upload  \n",
       "4  c#|.net|visual-studio-2010|visual-studio|visua...  "
      ]
     },
     "execution_count": 4,
     "metadata": {},
     "output_type": "execute_result"
    }
   ],
   "source": [
    "#Preview Data\n",
    "data.head()"
   ]
  },
  {
   "cell_type": "code",
   "execution_count": 5,
   "metadata": {},
   "outputs": [
    {
     "name": "stdout",
     "output_type": "stream",
     "text": [
      "5 most common classes:\n"
     ]
    },
    {
     "data": {
      "text/plain": [
       "[('javascript', 376),\n",
       " ('java', 334),\n",
       " ('jquery', 133),\n",
       " ('c#', 100),\n",
       " ('html', 82)]"
      ]
     },
     "execution_count": 5,
     "metadata": {},
     "output_type": "execute_result"
    }
   ],
   "source": [
    "#Generate list of N most common labels\n",
    "NUM_CLASSES = 5\n",
    "labels_list = []\n",
    "\n",
    "counts = Counter('|'.join(data['tags'].tolist()).split('|'))\n",
    "classes = counts.most_common(NUM_CLASSES)\n",
    "\n",
    "for i in range(0,NUM_CLASSES):\n",
    "    labels_list.append(classes[i][0])\n",
    "    \n",
    "print (\"{} most common classes:\".format(NUM_CLASSES))\n",
    "classes"
   ]
  },
  {
   "cell_type": "code",
   "execution_count": 6,
   "metadata": {
    "collapsed": true
   },
   "outputs": [],
   "source": [
    "#utility functions to extract classes and translate between \n",
    "#human friendly (string) labels and machine friendly (array) labels\n",
    "\n",
    "#labels_list: A list of the valid classes\n",
    "#tags: A list of tags for a post\n",
    "#returns an ndarray with ones for the active classes\n",
    "def labels_to_array(tags,labels_list=labels_list):\n",
    "    array = np.zeros(len(labels_list),dtype=np.int8)\n",
    "    tags = tags.split('|') #split tags from pipe separated string into list\n",
    "    for tag in tags:\n",
    "        try:\n",
    "            array[labels_list.index(tag)] = 1\n",
    "        except ValueError: \n",
    "            None\n",
    "    return array\n",
    "\n",
    "#translate machine readable array back to human labels\n",
    "def array_to_labels(array, labels_list=labels_list, threshold = 1):\n",
    "    labels = []\n",
    "    i=0\n",
    "    for flag in array:\n",
    "        if flag >= threshold: \n",
    "            labels.append(labels_list[i])\n",
    "        i=i+1\n",
    "    return labels"
   ]
  },
  {
   "cell_type": "code",
   "execution_count": 7,
   "metadata": {},
   "outputs": [
    {
     "name": "stdout",
     "output_type": "stream",
     "text": [
      "c#|.net|visual-studio-2010|visual-studio|visual-studio-addins\n",
      "[0 0 0 1 0]\n"
     ]
    },
    {
     "data": {
      "text/plain": [
       "['c#']"
      ]
     },
     "execution_count": 7,
     "metadata": {},
     "output_type": "execute_result"
    }
   ],
   "source": [
    "#test utility functions\n",
    "print(data['tags'][4])\n",
    "array = labels_to_array(data['tags'][4])\n",
    "print(array)\n",
    "array_to_labels(array)"
   ]
  },
  {
   "cell_type": "code",
   "execution_count": 8,
   "metadata": {},
   "outputs": [
    {
     "data": {
      "image/png": "[encoded data removed]",
      "text/plain": [
       "<matplotlib.figure.Figure at 0x11bb655d0>"
      ]
     },
     "metadata": {},
     "output_type": "display_data"
    }
   ],
   "source": [
    "#Find label density\n",
    "label_counts = np.zeros(NUM_ROWS)\n",
    "for i in range(len(label_counts)):\n",
    "    label_counts[i] = labels_to_array(data['tags'][i]).sum()\n",
    "    \n",
    "plt.xlabel('Number of Labels')\n",
    "plt.ylabel('Number of Posts')\n",
    "plt.title('Sparsity of Dataset')\n",
    "plt.hist(label_counts)\n",
    "plt.show()"
   ]
  },
  {
   "cell_type": "code",
   "execution_count": 9,
   "metadata": {
    "colab": {
     "autoexec": {
      "startup": false,
      "wait_interval": 0
     },
     "output_extras": [
      {}
     ]
    },
    "colab_type": "code",
    "id": "h_SDal0khA3n",
    "outputId": "e6c311e5-c674-4cf2-f2dc-d6ceabfa6f83"
   },
   "outputs": [
    {
     "name": "stdout",
     "output_type": "stream",
     "text": [
      "Train size: 800\n",
      "Test size: 200\n"
     ]
    }
   ],
   "source": [
    "# Split data into train and test\n",
    "train_size = int(len(data) * .8)\n",
    "test_size = len(data)-train_size\n",
    "print (\"Train size: %d\" % train_size)\n",
    "print (\"Test size: %d\" % test_size)"
   ]
  },
  {
   "cell_type": "code",
   "execution_count": 10,
   "metadata": {
    "colab": {
     "autoexec": {
      "startup": false,
      "wait_interval": 0
     }
    },
    "colab_type": "code",
    "collapsed": true,
    "id": "anD38iilhA3r"
   },
   "outputs": [],
   "source": [
    "train_posts = data['post'][:train_size]\n",
    "train_tags = data['tags'][:train_size]\n",
    "\n",
    "test_posts = data['post'][train_size:]\n",
    "test_tags = data['tags'][train_size:]"
   ]
  },
  {
   "cell_type": "code",
   "execution_count": 11,
   "metadata": {
    "colab": {
     "autoexec": {
      "startup": false,
      "wait_interval": 0
     }
    },
    "colab_type": "code",
    "collapsed": true,
    "id": "z4GblctFhA3u"
   },
   "outputs": [],
   "source": [
    "max_words = 1000\n",
    "tokenize = text.Tokenizer(num_words=max_words, char_level=False)"
   ]
  },
  {
   "cell_type": "code",
   "execution_count": 12,
   "metadata": {
    "colab": {
     "autoexec": {
      "startup": false,
      "wait_interval": 0
     }
    },
    "colab_type": "code",
    "collapsed": true,
    "id": "YatMLCKXhA3x"
   },
   "outputs": [],
   "source": [
    "tokenize.fit_on_texts(train_posts) # only fit on train\n",
    "x_train = tokenize.texts_to_matrix(train_posts)\n",
    "x_test = tokenize.texts_to_matrix(test_posts)"
   ]
  },
  {
   "cell_type": "code",
   "execution_count": 13,
   "metadata": {
    "colab": {
     "autoexec": {
      "startup": false,
      "wait_interval": 0
     }
    },
    "colab_type": "code",
    "id": "8quTsErLhA3z"
   },
   "outputs": [
    {
     "data": {
      "text/plain": [
       "array([ 1.,  0.,  0.,  1.,  0.])"
      ]
     },
     "execution_count": 13,
     "metadata": {},
     "output_type": "execute_result"
    }
   ],
   "source": [
    "# generate multi-label arrays\n",
    "y_train = np.zeros([train_size,NUM_CLASSES])\n",
    "for i in range(0,train_size):\n",
    "    y_train[i] = labels_to_array(data['tags'][i])\n",
    "\n",
    "y_test = np.zeros([test_size,NUM_CLASSES])\n",
    "for i in range(0,test_size):\n",
    "    y_test[i] = labels_to_array(data['tags'][i+train_size-1])\n",
    "y_test[0]"
   ]
  },
  {
   "cell_type": "code",
   "execution_count": 14,
   "metadata": {
    "colab": {
     "autoexec": {
      "startup": false,
      "wait_interval": 0
     },
     "output_extras": [
      {}
     ]
    },
    "colab_type": "code",
    "id": "XZFsdLYVhA33",
    "outputId": "882923f3-6705-46b5-be88-3d4fec2965f2"
   },
   "outputs": [
    {
     "name": "stdout",
     "output_type": "stream",
     "text": [
      "x_train shape: (800, 1000)\n",
      "x_test shape: (200, 1000)\n",
      "y_train shape: (800, 5)\n",
      "y_test shape: (200, 5)\n"
     ]
    }
   ],
   "source": [
    "# Inspect the dimenstions of our training and test data (this is helpful to debug)\n",
    "print('x_train shape:', x_train.shape)\n",
    "print('x_test shape:', x_test.shape)\n",
    "print('y_train shape:', y_train.shape)\n",
    "print('y_test shape:', y_test.shape)"
   ]
  },
  {
   "cell_type": "code",
   "execution_count": 15,
   "metadata": {
    "colab": {
     "autoexec": {
      "startup": false,
      "wait_interval": 0
     }
    },
    "colab_type": "code",
    "collapsed": true,
    "id": "cBIkzTOZhA36"
   },
   "outputs": [],
   "source": [
    "# This model trains very quickly and 2 epochs are already more than enough\n",
    "# Training for more epochs will likely lead to overfitting on this dataset\n",
    "# You can try tweaking these hyperparamaters when using this model with your own data\n",
    "batch_size = 32\n",
    "epochs = 2"
   ]
  },
  {
   "cell_type": "code",
   "execution_count": 16,
   "metadata": {
    "colab": {
     "autoexec": {
      "startup": false,
      "wait_interval": 0
     },
     "output_extras": [
      {}
     ]
    },
    "colab_type": "code",
    "collapsed": true,
    "id": "XdrFuwx4hA39",
    "outputId": "4b002559-2f06-4681-8f02-2e76e62d7a57"
   },
   "outputs": [],
   "source": [
    "# Build the model\n",
    "model = Sequential()\n",
    "model.add(Dense(512, input_shape=(max_words,)))\n",
    "model.add(Activation('relu'))\n",
    "model.add(Dropout(0.5))\n",
    "model.add(Dense(NUM_CLASSES))\n",
    "model.add(Activation('sigmoid')) #changed from softmax\n",
    "\n",
    "model.compile(loss='binary_crossentropy',\n",
    "              optimizer='adam',\n",
    "              metrics=['accuracy']) #changed from categorical_crossentropy"
   ]
  },
  {
   "cell_type": "code",
   "execution_count": 17,
   "metadata": {
    "colab": {
     "autoexec": {
      "startup": false,
      "wait_interval": 0
     },
     "output_extras": [
      {}
     ]
    },
    "colab_type": "code",
    "id": "rzi-9GaBhA4A",
    "outputId": "9a56a130-8804-4ce0-ad47-38c4f40c81fa"
   },
   "outputs": [
    {
     "name": "stdout",
     "output_type": "stream",
     "text": [
      "Train on 720 samples, validate on 80 samples\n",
      "Epoch 1/2\n",
      "720/720 [==============================] - 0s - loss: 0.4887 - acc: 0.7903 - val_loss: 0.3751 - val_acc: 0.8725\n",
      "Epoch 2/2\n",
      "720/720 [==============================] - 0s - loss: 0.3104 - acc: 0.8936 - val_loss: 0.2944 - val_acc: 0.8900\n"
     ]
    }
   ],
   "source": [
    "# model.fit trains the model\n",
    "# The validation_split param tells Keras what % of our training data should be used in the validation set\n",
    "# You can see the validation loss decreasing slowly when you run this\n",
    "# Because val_loss is no longer decreasing we stop training to prevent overfitting\n",
    "history = model.fit(x_train, y_train,\n",
    "                    batch_size=batch_size,\n",
    "                    epochs=epochs,\n",
    "                    verbose=1,\n",
    "                    validation_split=0.1)"
   ]
  },
  {
   "cell_type": "code",
   "execution_count": 18,
   "metadata": {
    "colab": {
     "autoexec": {
      "startup": false,
      "wait_interval": 0
     },
     "output_extras": [
      {}
     ]
    },
    "colab_type": "code",
    "id": "zjwBD8qFhA4D",
    "outputId": "0dda5da5-44c4-4fbc-f2ad-01d642ca1914"
   },
   "outputs": [
    {
     "name": "stdout",
     "output_type": "stream",
     "text": [
      " 32/200 [===>..........................] - ETA: 0sTest score: 0.595152249336\n",
      "Test accuracy: 0.765000019073\n"
     ]
    }
   ],
   "source": [
    "# Evaluate the accuracy of our trained model\n",
    "score = model.evaluate(x_test, y_test,\n",
    "                       batch_size=batch_size, verbose=1)\n",
    "print('Test score:', score[0])\n",
    "print('Test accuracy:', score[1])"
   ]
  },
  {
   "cell_type": "code",
   "execution_count": 19,
   "metadata": {
    "colab": {
     "autoexec": {
      "startup": false,
      "wait_interval": 0
     },
     "output_extras": [
      {}
     ]
    },
    "colab_type": "code",
    "id": "f000lYoxhA4F",
    "outputId": "21cd198f-1979-4b40-a2fd-891a1c0248db"
   },
   "outputs": [
    {
     "name": "stdout",
     "output_type": "stream",
     "text": [
      "update single record with an array of results  a query leads to a list of results (@invoice_results - - also the name of the controller action) with two specific columns in the view (formatting remove ...\n",
      "Actual label:javascript|c#\n",
      "Predicted label: javascript\n",
      "\n",
      "jquery and mouseevents  i have a question regarding mouse events in the jquery library. i have a simple javascript function as following:   <pre><code>$(function() {     var xpos;     var ypos;     $( ...\n",
      "Actual label:\n",
      "Predicted label: javascript\n",
      "\n",
      "drag and drop using raphael.js has laggy performance with more than 10 draggable elements  i m making a simple html5 app  that will be wrapped to be used on android  ios and web browsers. in my app i  ...\n",
      "Actual label:javascript|jquery|html\n",
      "Predicted label: javascript|jquery\n",
      "\n",
      "event logging in asp.net  i am using vs2005 c# .net 2.0 and sql server 2005.    are there any websites that provide step by step instructions to implement event logging for my web application     <str ...\n",
      "Actual label:javascript\n",
      "Predicted label: \n",
      "\n",
      "why chrome maintains scrolltop from previous page  chrome maintains the <code>scrolltop</code> from previous page. eg: i am in list page and scroll down to end of the page and clicked on a record to v ...\n",
      "Actual label:c#\n",
      "Predicted label: \n",
      "\n",
      "rails to php - how to determine a logged in user  i have a rails app on a domain of <code>example.com</code> this domain runs a rails app that when you log in  would share your cookie and the apps sec ...\n",
      "Actual label:javascript|jquery\n",
      "Predicted label: \n",
      "\n",
      "why there is a local variable referencing value array in string#hashcode   what is the purpose of copying <code>value</code> reference into <code>val</code> variable  as oppose to using it directly    ...\n",
      "Actual label:\n",
      "Predicted label: java\n",
      "\n",
      "how to align highcharts datetime x-axis with data i pass to it   here is jsfiddle     <a href= https://jsfiddle.net/lp3tjpuv/  rel= nofollow >https://jsfiddle.net/lp3tjpuv/</a>    if you move your cur ...\n",
      "Actual label:java\n",
      "Predicted label: javascript\n",
      "\n",
      "optional reference in dot net  i hope it may be a advanced concept in .net <br /> my question is <br/>    <b>how to setup a program with optional reference </b>    for example: consider this case  i v ...\n",
      "Actual label:javascript\n",
      "Predicted label: \n",
      "\n",
      "displaying options selected in checkbox tree  <a href= https://i.stack.imgur.com/hxd8d.png  rel= nofollow noreferrer ><img src= https://i.stack.imgur.com/hxd8d.png  alt= i want the final output to be  ...\n",
      "Actual label:c#\n",
      "Predicted label: javascript|jquery|html\n",
      "\n"
     ]
    }
   ],
   "source": [
    "# Here's how to generate a prediction on individual examples\n",
    "for i in range(10):\n",
    "    prediction = model.predict(np.array([x_test[i]]))\n",
    "    #print(prediction[0])\n",
    "    #print(y_test[i])\n",
    "    predicted_label = array_to_labels(prediction[0],threshold=.5)\n",
    "    print(test_posts.iloc[i][:200], \"...\")\n",
    "    print('Actual label:' + '|'.join(array_to_labels(y_test[i])))\n",
    "    print(\"Predicted label: \" + '|'.join(predicted_label) + '\\n')  "
   ]
  },
  {
   "cell_type": "markdown",
   "metadata": {},
   "source": [
    "### Package for ML Engine"
   ]
  },
  {
   "cell_type": "code",
   "execution_count": 20,
   "metadata": {},
   "outputs": [
    {
     "name": "stderr",
     "output_type": "stream",
     "text": [
      "mkdir: trainer: File exists\n"
     ]
    }
   ],
   "source": [
    "%%bash\n",
    "mkdir trainer\n",
    "touch trainer/__init__.py"
   ]
  },
  {
   "cell_type": "code",
   "execution_count": 206,
   "metadata": {},
   "outputs": [
    {
     "name": "stdout",
     "output_type": "stream",
     "text": [
      "Overwriting trainer/task.py\n"
     ]
    }
   ],
   "source": [
    "%%writefile trainer/task.py\n",
    "\n",
    "from __future__ import absolute_import\n",
    "from __future__ import division\n",
    "from __future__ import print_function\n",
    "\n",
    "import itertools\n",
    "import argparse\n",
    "import json\n",
    "import os\n",
    "\n",
    "import numpy as np\n",
    "import pandas as pd\n",
    "import tensorflow as tf\n",
    "\n",
    "from sklearn.preprocessing import LabelBinarizer, LabelEncoder\n",
    "from sklearn.metrics import confusion_matrix\n",
    "\n",
    "from tensorflow.contrib.keras.python import keras\n",
    "from tensorflow.contrib.keras.python.keras.models import Sequential\n",
    "from tensorflow.contrib.keras.python.keras.layers import Dense, Activation, Dropout\n",
    "from tensorflow.contrib.keras.python.keras.preprocessing import text, sequence\n",
    "from tensorflow.contrib.keras.python.keras import utils\n",
    "\n",
    "from collections import Counter\n",
    "\n",
    "print(\"You have TensorFlow version\", tf.__version__)\n",
    "\n",
    "# Hyperparamters for tuning\n",
    "parser = argparse.ArgumentParser()\n",
    "# Input Arguments\n",
    "parser.add_argument(\n",
    "  '--train_batch_size',\n",
    "  help='Batch size for training steps',\n",
    "  type=int,\n",
    "  default=32\n",
    ")\n",
    "parser.add_argument(\n",
    "  '--epochs',\n",
    "  help='Number of epochs to train for',\n",
    "  type=int,\n",
    "  default=2\n",
    ")\n",
    "parser.add_argument(\n",
    "      '--output_dir',\n",
    "      help='GCS location to write checkpoints and export models',\n",
    "      required=True\n",
    ")\n",
    "parser.add_argument(\n",
    "        '--job-dir',\n",
    "        help='this model ignores this field, but it is required by gcloud',\n",
    "        default='junk'\n",
    ")\n",
    "args = parser.parse_args()\n",
    "\n",
    "#Download CSV\n",
    "data = pd.read_csv(\"https://storage.googleapis.com/vijay-public/text_classification/results-1000.csv\")\n",
    "NUM_ROWS = data.shape[0]\n",
    "print(\"Loaded {} rows\".format(NUM_ROWS))\n",
    "\n",
    "#Generate list of N most common labels\n",
    "NUM_CLASSES = 5\n",
    "labels_list = []\n",
    "\n",
    "counts = Counter('|'.join(data['tags'].tolist()).split('|'))\n",
    "classes = counts.most_common(NUM_CLASSES)\n",
    "\n",
    "for i in range(0,NUM_CLASSES):\n",
    "    labels_list.append(classes[i][0])\n",
    "    \n",
    "print (\"{} most common classes:\".format(NUM_CLASSES))\n",
    "print(classes)\n",
    "\n",
    "#utility functions to extract classes and translate between \n",
    "#human friendly (string) labels and machine friendly (array) labels\n",
    "\n",
    "#labels_list: A list of the valid classes\n",
    "#tags: A list of tags for a post\n",
    "#returns an ndarray with ones for the active classes\n",
    "def labels_to_array(tags,labels_list=labels_list):\n",
    "    array = np.zeros(len(labels_list),dtype=np.int8)\n",
    "    tags = tags.split('|') #split tags from pipe separated string into list\n",
    "    for tag in tags:\n",
    "        try:\n",
    "            array[labels_list.index(tag)] = 1\n",
    "        except ValueError: \n",
    "            None\n",
    "    return array\n",
    "\n",
    "#translate machine readable array back to human labels\n",
    "def array_to_labels(array, labels_list=labels_list, threshold = 1):\n",
    "    labels = []\n",
    "    i=0\n",
    "    for flag in array:\n",
    "        if flag >= threshold: \n",
    "            labels.append(labels_list[i])\n",
    "        i=i+1\n",
    "    return labels\n",
    "\n",
    "# Split data into train and test\n",
    "train_size = int(len(data) * .8)\n",
    "test_size = len(data)-train_size\n",
    "print (\"Train size: %d\" % train_size)\n",
    "print (\"Test size: %d\" % test_size)\n",
    "\n",
    "train_posts = data['post'][:train_size]\n",
    "train_tags = data['tags'][:train_size]\n",
    "\n",
    "test_posts = data['post'][train_size:]\n",
    "test_tags = data['tags'][train_size:]\n",
    "\n",
    "max_words = 1000\n",
    "tokenize = text.Tokenizer(num_words=max_words, char_level=False)\n",
    "\n",
    "tokenize.fit_on_texts(train_posts) # only fit on train\n",
    "x_train = tokenize.texts_to_matrix(train_posts)\n",
    "x_test = tokenize.texts_to_matrix(test_posts)\n",
    "\n",
    "# generate multi-label arrays\n",
    "y_train = np.zeros([train_size,NUM_CLASSES])\n",
    "for i in range(0,train_size):\n",
    "    y_train[i] = labels_to_array(data['tags'][i])\n",
    "\n",
    "y_test = np.zeros([test_size,NUM_CLASSES])\n",
    "for i in range(0,test_size):\n",
    "    y_test[i] = labels_to_array(data['tags'][i+train_size-1])\n",
    "y_test[0]\n",
    "\n",
    "# Inspect the dimenstions of our training and test data (this is helpful to debug)\n",
    "print('x_train shape:', x_train.shape)\n",
    "print('x_test shape:', x_test.shape)\n",
    "print('y_train shape:', y_train.shape)\n",
    "print('y_test shape:', y_test.shape)\n",
    "\n",
    "\n",
    "#Set hyperparameters\n",
    "batch_size = args.train_batch_size\n",
    "epochs = args.epochs\n",
    "\n",
    "\n",
    "# Build the model\n",
    "model = Sequential()\n",
    "model.add(Dense(512, input_shape=(max_words,)))\n",
    "model.add(Activation('relu'))\n",
    "model.add(Dropout(0.5))\n",
    "model.add(Dense(NUM_CLASSES))\n",
    "model.add(Activation('sigmoid')) #changed from softmax\n",
    "\n",
    "model.compile(loss='binary_crossentropy',\n",
    "              optimizer='adam',\n",
    "              metrics=['accuracy']) #changed from categorical_crossentropy\n",
    "\n",
    "# model.fit trains the model\n",
    "# The validation_split param tells Keras what % of our training data should be used in the validation set\n",
    "# You can see the validation loss decreasing slowly when you run this\n",
    "# Because val_loss is no longer decreasing we stop training to prevent overfitting\n",
    "\n",
    "\n",
    "#Enable Tensorboard logging\n",
    "Tensorboard = keras.callbacks.TensorBoard(log_dir=args.output_dir + \"/tensorboard\")\n",
    "\n",
    "history = model.fit(x_train, y_train,\n",
    "                    batch_size=batch_size,\n",
    "                    epochs=epochs,\n",
    "                    verbose=1,\n",
    "                    validation_split=0.1,\n",
    "                    callbacks=[Tensorboard]) #callback for Tensorboard\n",
    "\n",
    "# Evaluate the accuracy of our trained model\n",
    "score = model.evaluate(x_test, y_test,\n",
    "                       batch_size=batch_size, verbose=1)\n",
    "print('Test score:', score[0])\n",
    "\n",
    "\n",
    "# Here's how to generate a prediction on individual examples\n",
    "for i in range(10):\n",
    "    prediction = model.predict(np.array([x_test[i]]))\n",
    "    #print(prediction[0])\n",
    "    #print(y_test[i])\n",
    "    predicted_label = array_to_labels(prediction[0],threshold=.5)\n",
    "    print(test_posts.iloc[i][:200], \"...\")\n",
    "    print('Actual label:' + '|'.join(array_to_labels(y_test[i])))\n",
    "    print(\"Predicted label: \" + '|'.join(predicted_label) + '\\n') "
   ]
  },
  {
   "cell_type": "code",
   "execution_count": 207,
   "metadata": {
    "scrolled": false
   },
   "outputs": [
    {
     "name": "stdout",
     "output_type": "stream",
     "text": [
      "You have TensorFlow version 1.3.0\n",
      "Loaded 1000 rows\n",
      "5 most common classes:\n",
      "[('javascript', 376), ('java', 334), ('jquery', 133), ('c#', 100), ('html', 82)]\n",
      "Train size: 800\n",
      "Test size: 200\n",
      "x_train shape: (800, 1000)\n",
      "x_test shape: (200, 1000)\n",
      "y_train shape: (800, 5)\n",
      "y_test shape: (200, 5)\n",
      "Train on 720 samples, validate on 80 samples\n",
      "Epoch 1/2\n",
      "\r",
      " 32/720 [>.............................] - ETA: 0s - loss: 0.6801 - acc: 0.6187\b\b\b\b\b\b\b\b\b\b\b\b\b\b\b\b\b\b\b\b\b\b\b\b\b\b\b\b\b\b\b\b\b\b\b\b\b\b\b\b\b\b\b\b\b\b\b\b\b\b\b\b\b\b\b\b\b\b\b\b\b\b\b\b\b\b\b\b\b\b\b\b\b\b\b\b\b\b\b\r",
      "288/720 [===========>..................] - ETA: 0s - loss: 0.5346 - acc: 0.7674\b\b\b\b\b\b\b\b\b\b\b\b\b\b\b\b\b\b\b\b\b\b\b\b\b\b\b\b\b\b\b\b\b\b\b\b\b\b\b\b\b\b\b\b\b\b\b\b\b\b\b\b\b\b\b\b\b\b\b\b\b\b\b\b\b\b\b\b\b\b\b\b\b\b\b\b\b\b\b\r",
      "544/720 [=====================>........] - ETA: 0s - loss: 0.4860 - acc: 0.7956\b\b\b\b\b\b\b\b\b\b\b\b\b\b\b\b\b\b\b\b\b\b\b\b\b\b\b\b\b\b\b\b\b\b\b\b\b\b\b\b\b\b\b\b\b\b\b\b\b\b\b\b\b\b\b\b\b\b\b\b\b\b\b\b\b\b\b\b\b\b\b\b\b\b\b\b\b\b\b\r",
      "720/720 [==============================] - 0s - loss: 0.4753 - acc: 0.8058 - val_loss: 0.3592 - val_acc: 0.8700\n",
      "Epoch 2/2\n",
      "\r",
      " 32/720 [>.............................] - ETA: 0s - loss: 0.3461 - acc: 0.8813\b\b\b\b\b\b\b\b\b\b\b\b\b\b\b\b\b\b\b\b\b\b\b\b\b\b\b\b\b\b\b\b\b\b\b\b\b\b\b\b\b\b\b\b\b\b\b\b\b\b\b\b\b\b\b\b\b\b\b\b\b\b\b\b\b\b\b\b\b\b\b\b\b\b\b\b\b\b\b\r",
      "288/720 [===========>..................] - ETA: 0s - loss: 0.3238 - acc: 0.8875\b\b\b\b\b\b\b\b\b\b\b\b\b\b\b\b\b\b\b\b\b\b\b\b\b\b\b\b\b\b\b\b\b\b\b\b\b\b\b\b\b\b\b\b\b\b\b\b\b\b\b\b\b\b\b\b\b\b\b\b\b\b\b\b\b\b\b\b\b\b\b\b\b\b\b\b\b\b\b\r",
      "544/720 [=====================>........] - ETA: 0s - loss: 0.3059 - acc: 0.8904\b\b\b\b\b\b\b\b\b\b\b\b\b\b\b\b\b\b\b\b\b\b\b\b\b\b\b\b\b\b\b\b\b\b\b\b\b\b\b\b\b\b\b\b\b\b\b\b\b\b\b\b\b\b\b\b\b\b\b\b\b\b\b\b\b\b\b\b\b\b\b\b\b\b\b\b\b\b\b\r",
      "720/720 [==============================] - 0s - loss: 0.2996 - acc: 0.8922 - val_loss: 0.2909 - val_acc: 0.8975\n",
      "\r",
      " 32/200 [===>..........................] - ETA: 0sTest score: 0.611883540154\n",
      "update single record with an array of results  a query leads to a list of results (@invoice_results - - also the name of the controller action) with two specific columns in the view (formatting remove ...\n",
      "Actual label:javascript|c#\n",
      "Predicted label: javascript\n",
      "\n",
      "jquery and mouseevents  i have a question regarding mouse events in the jquery library. i have a simple javascript function as following:   <pre><code>$(function() {     var xpos;     var ypos;     $( ...\n",
      "Actual label:\n",
      "Predicted label: javascript\n",
      "\n",
      "drag and drop using raphael.js has laggy performance with more than 10 draggable elements  i m making a simple html5 app  that will be wrapped to be used on android  ios and web browsers. in my app i  ...\n",
      "Actual label:javascript|jquery|html\n",
      "Predicted label: javascript|jquery\n",
      "\n",
      "event logging in asp.net  i am using vs2005 c# .net 2.0 and sql server 2005.    are there any websites that provide step by step instructions to implement event logging for my web application     <str ...\n",
      "Actual label:javascript\n",
      "Predicted label: \n",
      "\n",
      "why chrome maintains scrolltop from previous page  chrome maintains the <code>scrolltop</code> from previous page. eg: i am in list page and scroll down to end of the page and clicked on a record to v ...\n",
      "Actual label:c#\n",
      "Predicted label: javascript\n",
      "\n",
      "rails to php - how to determine a logged in user  i have a rails app on a domain of <code>example.com</code> this domain runs a rails app that when you log in  would share your cookie and the apps sec ...\n",
      "Actual label:javascript|jquery\n",
      "Predicted label: javascript\n",
      "\n",
      "why there is a local variable referencing value array in string#hashcode   what is the purpose of copying <code>value</code> reference into <code>val</code> variable  as oppose to using it directly    ...\n",
      "Actual label:\n",
      "Predicted label: java\n",
      "\n",
      "how to align highcharts datetime x-axis with data i pass to it   here is jsfiddle     <a href= https://jsfiddle.net/lp3tjpuv/  rel= nofollow >https://jsfiddle.net/lp3tjpuv/</a>    if you move your cur ...\n",
      "Actual label:java\n",
      "Predicted label: javascript\n",
      "\n",
      "optional reference in dot net  i hope it may be a advanced concept in .net <br /> my question is <br/>    <b>how to setup a program with optional reference </b>    for example: consider this case  i v ...\n",
      "Actual label:javascript\n",
      "Predicted label: \n",
      "\n",
      "displaying options selected in checkbox tree  <a href= https://i.stack.imgur.com/hxd8d.png  rel= nofollow noreferrer ><img src= https://i.stack.imgur.com/hxd8d.png  alt= i want the final output to be  ...\n",
      "Actual label:c#\n",
      "Predicted label: javascript|jquery|html\n",
      "\n"
     ]
    },
    {
     "name": "stderr",
     "output_type": "stream",
     "text": [
      "2017-11-02 19:58:33.355251: W tensorflow/core/platform/cpu_feature_guard.cc:45] The TensorFlow library wasn't compiled to use SSE4.2 instructions, but these are available on your machine and could speed up CPU computations.\n",
      "2017-11-02 19:58:33.355267: W tensorflow/core/platform/cpu_feature_guard.cc:45] The TensorFlow library wasn't compiled to use AVX instructions, but these are available on your machine and could speed up CPU computations.\n",
      "2017-11-02 19:58:33.355271: W tensorflow/core/platform/cpu_feature_guard.cc:45] The TensorFlow library wasn't compiled to use AVX2 instructions, but these are available on your machine and could speed up CPU computations.\n",
      "2017-11-02 19:58:33.355276: W tensorflow/core/platform/cpu_feature_guard.cc:45] The TensorFlow library wasn't compiled to use FMA instructions, but these are available on your machine and could speed up CPU computations.\n"
     ]
    }
   ],
   "source": [
    "%%bash\n",
    "gcloud ml-engine local train \\\n",
    "   --module-name=trainer.task \\\n",
    "   --package-path=trainer \\\n",
    "   -- \\\n",
    "   --output_dir='./output'"
   ]
  },
  {
   "cell_type": "code",
   "execution_count": 23,
   "metadata": {
    "collapsed": true
   },
   "outputs": [],
   "source": [
    "GCS_BUCKET = 'gs://vijays-sandbox-ml' #CHANGE THIS TO YOUR BUCKET\n",
    "PROJECT = 'vijays-sandbox' #CHANGE THIS TO YOUR PROJECT ID\n",
    "REGION = 'us-central1' #OPTIONALLY CHANGE THIS"
   ]
  },
  {
   "cell_type": "code",
   "execution_count": 24,
   "metadata": {
    "collapsed": true
   },
   "outputs": [],
   "source": [
    "import os\n",
    "os.environ['GCS_BUCKET'] = GCS_BUCKET\n",
    "os.environ['PROJECT'] = PROJECT\n",
    "os.environ['REGION'] = REGION"
   ]
  },
  {
   "cell_type": "code",
   "execution_count": 202,
   "metadata": {},
   "outputs": [
    {
     "name": "stdout",
     "output_type": "stream",
     "text": [
      "Overwriting config.yaml\n"
     ]
    }
   ],
   "source": [
    "%%writefile config.yaml\n",
    "trainingInput:\n",
    "  hyperparameters:\n",
    "    goal: MAXIMIZE\n",
    "    hyperparameterMetricTag: val_acc\n",
    "    maxTrials: 4\n",
    "    maxParallelTrials: 1\n",
    "    params:\n",
    "    - parameterName: train_batch_size\n",
    "      type: INTEGER\n",
    "      minValue: 1\n",
    "      maxValue: 1000\n",
    "      scaleType: UNIT_LINEAR_SCALE"
   ]
  },
  {
   "cell_type": "code",
   "execution_count": 203,
   "metadata": {},
   "outputs": [
    {
     "name": "stdout",
     "output_type": "stream",
     "text": [
      "jobId: text_classification_171102_234927\n",
      "state: QUEUED\n"
     ]
    },
    {
     "name": "stderr",
     "output_type": "stream",
     "text": [
      "Job [text_classification_171102_234927] submitted successfully.\n",
      "Your job is still active. You may view the status of your job with the command\n",
      "\n",
      "  $ gcloud ml-engine jobs describe text_classification_171102_234927\n",
      "\n",
      "or continue streaming the logs with the command\n",
      "\n",
      "  $ gcloud ml-engine jobs stream-logs text_classification_171102_234927\n"
     ]
    }
   ],
   "source": [
    "%%bash\n",
    "JOBNAME=text_classification_$(date -u +%y%m%d_%H%M%S)\n",
    "\n",
    "gcloud ml-engine jobs submit training $JOBNAME \\\n",
    "   --region=$REGION \\\n",
    "   --runtime-version=1.2 \\\n",
    "   --module-name=trainer.task \\\n",
    "   --package-path=./trainer \\\n",
    "   --job-dir=$GCS_BUCKET/$JOBNAME/ \\\n",
    "   --config config.yaml \\\n",
    "   -- \\\n",
    "   --output_dir=$GCS_BUCKET/$JOBNAME/output"
   ]
  },
  {
   "cell_type": "code",
   "execution_count": null,
   "metadata": {
    "collapsed": true
   },
   "outputs": [],
   "source": []
  }
 ],
 "metadata": {
  "colab": {
   "default_view": {},
   "name": "josh3.ipynb",
   "provenance": [],
   "version": "0.3.2",
   "views": {}
  },
  "kernelspec": {
   "display_name": "Python 2",
   "language": "python",
   "name": "python2"
  },
  "language_info": {
   "codemirror_mode": {
    "name": "ipython",
    "version": 2
   },
   "file_extension": ".py",
   "mimetype": "text/x-python",
   "name": "python",
   "nbconvert_exporter": "python",
   "pygments_lexer": "ipython2",
   "version": "2.7.13"
  }
 },
 "nbformat": 4,
 "nbformat_minor": 1
}
