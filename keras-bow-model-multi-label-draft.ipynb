{
 "cells": [
  {
   "cell_type": "code",
   "execution_count": 1,
   "metadata": {
    "colab": {
     "autoexec": {
      "startup": false,
      "wait_interval": 0
     }
    },
    "colab_type": "code",
    "collapsed": true,
    "id": "frTMl3sShA3P"
   },
   "outputs": [],
   "source": [
    "from __future__ import absolute_import\n",
    "from __future__ import division\n",
    "from __future__ import print_function"
   ]
  },
  {
   "cell_type": "code",
   "execution_count": 406,
   "metadata": {
    "colab": {
     "autoexec": {
      "startup": false,
      "wait_interval": 0
     },
     "height": 321,
     "output_extras": [
      {
       "item_id": 1
      }
     ]
    },
    "colab_type": "code",
    "executionInfo": {
     "elapsed": 2880,
     "status": "error",
     "timestamp": 1505781339378,
     "user": {
      "displayName": "Sara Robinson",
      "photoUrl": "//lh4.googleusercontent.com/-RR9n0dvbwgI/AAAAAAAAAAI/AAAAAAAAMYM/SOr5ZExpvXE/s50-c-k-no/photo.jpg",
      "userId": "112510032804989247452"
     },
     "user_tz": 240
    },
    "id": "783h64rGhA3T",
    "outputId": "d447b2ab-e321-4ee5-abd4-de2c0116302f"
   },
   "outputs": [
    {
     "name": "stdout",
     "output_type": "stream",
     "text": [
      "You have TensorFlow version 1.3.0\n"
     ]
    }
   ],
   "source": [
    "import itertools\n",
    "import os\n",
    "\n",
    "%matplotlib inline\n",
    "import matplotlib.pyplot as plt\n",
    "import google.datalab.bigquery as bq\n",
    "import numpy as np\n",
    "import pandas as pd\n",
    "import tensorflow as tf\n",
    "\n",
    "from sklearn.preprocessing import LabelBinarizer, LabelEncoder\n",
    "from sklearn.metrics import confusion_matrix\n",
    "\n",
    "from tensorflow.contrib.keras.python import keras\n",
    "from tensorflow.contrib.keras.python.keras.models import Sequential\n",
    "from tensorflow.contrib.keras.python.keras.layers import Dense, Activation, Dropout\n",
    "from tensorflow.contrib.keras.python.keras.preprocessing import text, sequence\n",
    "from tensorflow.contrib.keras.python.keras import utils\n",
    "\n",
    "from collections import Counter\n",
    "\n",
    "# This code was tested with TensorFlow v1.3\n",
    "print(\"You have TensorFlow version\", tf.__version__)"
   ]
  },
  {
   "cell_type": "code",
   "execution_count": null,
   "metadata": {},
   "outputs": [],
   "source": [
    "#load direct from BQ\n",
    "query=\"\"\"\n",
    "SELECT tags \n",
    "FROM `bigquery-public-data.stackoverflow.posts_questions`\n",
    "LIMIT 1000\n",
    "\"\"\"\n",
    "\n",
    "df = bq.Query(query).execute().result().to_dataframe()\n",
    "df.head()"
   ]
  },
  {
   "cell_type": "code",
   "execution_count": 412,
   "metadata": {
    "colab": {
     "autoexec": {
      "startup": false,
      "wait_interval": 0
     }
    },
    "colab_type": "code",
    "id": "c7te21f7hA3V"
   },
   "outputs": [
    {
     "name": "stdout",
     "output_type": "stream",
     "text": [
      "Loaded 101187 rows\n"
     ]
    }
   ],
   "source": [
    "# The CSV was generated from this query: https://bigquery.cloud.google.com/savedquery/513927984416:c494494324be4a80b1fc55f613abb39c\n",
    "# The data is also publicly available at this Cloud Storage URL: https://storage.googleapis.com/tensorflow-workshop-examples/stack-overflow-data.csv\n",
    "\n",
    "data = pd.read_csv(\"data/1million000000000000.csv\")\n",
    "NUM_ROWS = data.shape[0]\n",
    "print(\"Loaded {} rows\".format(NUM_ROWS))"
   ]
  },
  {
   "cell_type": "code",
   "execution_count": 413,
   "metadata": {
    "colab": {
     "autoexec": {
      "startup": false,
      "wait_interval": 0
     },
     "output_extras": [
      {}
     ]
    },
    "colab_type": "code",
    "id": "chAbp3ryhA3X",
    "outputId": "3a16921d-a3be-4c43-a5e2-6012220ee13a"
   },
   "outputs": [
    {
     "data": {
      "text/html": [
       "<div>\n",
       "<style>\n",
       "    .dataframe thead tr:only-child th {\n",
       "        text-align: right;\n",
       "    }\n",
       "\n",
       "    .dataframe thead th {\n",
       "        text-align: left;\n",
       "    }\n",
       "\n",
       "    .dataframe tbody tr th {\n",
       "        vertical-align: top;\n",
       "    }\n",
       "</style>\n",
       "<table border=\"1\" class=\"dataframe\">\n",
       "  <thead>\n",
       "    <tr style=\"text-align: right;\">\n",
       "      <th></th>\n",
       "      <th>tags</th>\n",
       "      <th>post</th>\n",
       "    </tr>\n",
       "  </thead>\n",
       "  <tbody>\n",
       "    <tr>\n",
       "      <th>0</th>\n",
       "      <td>c#</td>\n",
       "      <td>custom setter but auto getter  i have an objec...</td>\n",
       "    </tr>\n",
       "    <tr>\n",
       "      <th>1</th>\n",
       "      <td>c#</td>\n",
       "      <td>how would you create a unique random number th...</td>\n",
       "    </tr>\n",
       "    <tr>\n",
       "      <th>2</th>\n",
       "      <td>c#</td>\n",
       "      <td>excluding .exe file (referenced by my app)  sa...</td>\n",
       "    </tr>\n",
       "    <tr>\n",
       "      <th>3</th>\n",
       "      <td>c#</td>\n",
       "      <td>in what way does the newly created object of a...</td>\n",
       "    </tr>\n",
       "    <tr>\n",
       "      <th>4</th>\n",
       "      <td>c#</td>\n",
       "      <td>drag and drop functionality in list box in c# ...</td>\n",
       "    </tr>\n",
       "  </tbody>\n",
       "</table>\n",
       "</div>"
      ],
      "text/plain": [
       "  tags                                               post\n",
       "0   c#  custom setter but auto getter  i have an objec...\n",
       "1   c#  how would you create a unique random number th...\n",
       "2   c#  excluding .exe file (referenced by my app)  sa...\n",
       "3   c#  in what way does the newly created object of a...\n",
       "4   c#  drag and drop functionality in list box in c# ..."
      ]
     },
     "execution_count": 413,
     "metadata": {},
     "output_type": "execute_result"
    }
   ],
   "source": [
    "#Preview Data\n",
    "data.head()"
   ]
  },
  {
   "cell_type": "code",
   "execution_count": 414,
   "metadata": {
    "scrolled": true
   },
   "outputs": [
    {
     "data": {
      "text/html": [
       "<div>\n",
       "<style>\n",
       "    .dataframe thead tr:only-child th {\n",
       "        text-align: right;\n",
       "    }\n",
       "\n",
       "    .dataframe thead th {\n",
       "        text-align: left;\n",
       "    }\n",
       "\n",
       "    .dataframe tbody tr th {\n",
       "        vertical-align: top;\n",
       "    }\n",
       "</style>\n",
       "<table border=\"1\" class=\"dataframe\">\n",
       "  <thead>\n",
       "    <tr style=\"text-align: right;\">\n",
       "      <th></th>\n",
       "      <th>tags</th>\n",
       "      <th>post</th>\n",
       "    </tr>\n",
       "  </thead>\n",
       "  <tbody>\n",
       "    <tr>\n",
       "      <th>99168</th>\n",
       "      <td>android|android-widget|android-imageview|andro...</td>\n",
       "      <td>display widget imageview based on month  i hav...</td>\n",
       "    </tr>\n",
       "    <tr>\n",
       "      <th>3290</th>\n",
       "      <td>c#|xml</td>\n",
       "      <td>c# serialise model to objectcontent  i have th...</td>\n",
       "    </tr>\n",
       "    <tr>\n",
       "      <th>8933</th>\n",
       "      <td>php|mysql</td>\n",
       "      <td>question of update data in php &lt;pre&gt;&lt;code&gt;$que...</td>\n",
       "    </tr>\n",
       "    <tr>\n",
       "      <th>36770</th>\n",
       "      <td>android|android-view</td>\n",
       "      <td>exploring the view tree in android  it s maybe...</td>\n",
       "    </tr>\n",
       "    <tr>\n",
       "      <th>62476</th>\n",
       "      <td>php|symfony|twig|symfony-2.1</td>\n",
       "      <td>symfony2 session-flash with if clause in twig ...</td>\n",
       "    </tr>\n",
       "  </tbody>\n",
       "</table>\n",
       "</div>"
      ],
      "text/plain": [
       "                                                    tags  \\\n",
       "99168  android|android-widget|android-imageview|andro...   \n",
       "3290                                              c#|xml   \n",
       "8933                                           php|mysql   \n",
       "36770                               android|android-view   \n",
       "62476                       php|symfony|twig|symfony-2.1   \n",
       "\n",
       "                                                    post  \n",
       "99168  display widget imageview based on month  i hav...  \n",
       "3290   c# serialise model to objectcontent  i have th...  \n",
       "8933   question of update data in php <pre><code>$que...  \n",
       "36770  exploring the view tree in android  it s maybe...  \n",
       "62476  symfony2 session-flash with if clause in twig ...  "
      ]
     },
     "execution_count": 414,
     "metadata": {},
     "output_type": "execute_result"
    }
   ],
   "source": [
    "data = data.sample(frac=1) #shuffle data\n",
    "data.head()"
   ]
  },
  {
   "cell_type": "code",
   "execution_count": 446,
   "metadata": {},
   "outputs": [
    {
     "name": "stdout",
     "output_type": "stream",
     "text": [
      "2 most common classes:\n"
     ]
    },
    {
     "data": {
      "text/plain": [
       "[('javascript', 21079), ('java', 18853)]"
      ]
     },
     "execution_count": 446,
     "metadata": {},
     "output_type": "execute_result"
    }
   ],
   "source": [
    "#Generate list of N most common labels\n",
    "NUM_CLASSES = 2\n",
    "labels_list = []\n",
    "\n",
    "counts = Counter('|'.join(data['tags'].tolist()).split('|'))\n",
    "classes = counts.most_common(NUM_CLASSES)\n",
    "\n",
    "for i in range(0,NUM_CLASSES):\n",
    "    labels_list.append(classes[i][0])\n",
    "    \n",
    "print (\"{} most common classes:\".format(NUM_CLASSES))\n",
    "classes"
   ]
  },
  {
   "cell_type": "code",
   "execution_count": 447,
   "metadata": {
    "collapsed": true
   },
   "outputs": [],
   "source": [
    "#utility functions to extract classes and translate between \n",
    "#human friendly (string) labels and machine friendly (array) labels\n",
    "\n",
    "#labels_list: A list of the valid classes\n",
    "#tags: A list of tags for a post\n",
    "#returns an ndarray with ones for the active classes\n",
    "def labels_to_array(tags,labels_list=labels_list):\n",
    "    array = np.zeros(len(labels_list),dtype=np.int8)\n",
    "    tags = tags.split('|') #split tags from pipe separated string into list\n",
    "    for tag in tags:\n",
    "        try:\n",
    "            array[labels_list.index(tag)] = 1\n",
    "        except ValueError: \n",
    "            None\n",
    "    return array\n",
    "\n",
    "#translate machine readable array back to human labels\n",
    "def array_to_labels(array, labels_list=labels_list, threshold = 1):\n",
    "    labels = []\n",
    "    i=0\n",
    "    for flag in array:\n",
    "        if flag >= threshold: \n",
    "            labels.append(labels_list[i])\n",
    "        i=i+1\n",
    "    return labels"
   ]
  },
  {
   "cell_type": "code",
   "execution_count": 448,
   "metadata": {},
   "outputs": [
    {
     "data": {
      "image/png": "[encoded data removed]",
      "text/plain": [
       "<matplotlib.figure.Figure at 0x130e74ad0>"
      ]
     },
     "metadata": {},
     "output_type": "display_data"
    }
   ],
   "source": [
    "#Find label density\n",
    "label_counts = np.zeros(NUM_ROWS)\n",
    "for i in range(len(label_counts)):\n",
    "    label_counts[i] = labels_to_array(data['tags'][i]).sum()\n",
    "    \n",
    "plt.xlabel('Number of Labels')\n",
    "plt.ylabel('Number of Posts')\n",
    "plt.title('Sparsity of Dataset')\n",
    "plt.hist(label_counts)\n",
    "plt.show()"
   ]
  },
  {
   "cell_type": "code",
   "execution_count": 449,
   "metadata": {},
   "outputs": [
    {
     "name": "stdout",
     "output_type": "stream",
     "text": [
      "c#\n",
      "[0 0]\n"
     ]
    },
    {
     "data": {
      "text/plain": [
       "[]"
      ]
     },
     "execution_count": 449,
     "metadata": {},
     "output_type": "execute_result"
    }
   ],
   "source": [
    "#test utility functions\n",
    "print(data['tags'][4])\n",
    "array = labels_to_array(data['tags'][4])\n",
    "print(array)\n",
    "array_to_labels(array)"
   ]
  },
  {
   "cell_type": "code",
   "execution_count": 450,
   "metadata": {
    "colab": {
     "autoexec": {
      "startup": false,
      "wait_interval": 0
     },
     "output_extras": [
      {}
     ]
    },
    "colab_type": "code",
    "id": "h_SDal0khA3n",
    "outputId": "e6c311e5-c674-4cf2-f2dc-d6ceabfa6f83"
   },
   "outputs": [
    {
     "name": "stdout",
     "output_type": "stream",
     "text": [
      "Train size: 80949\n",
      "Test size: 20238\n"
     ]
    }
   ],
   "source": [
    "# Split data into train and test\n",
    "train_size = int(len(data) * .8)\n",
    "test_size = len(data)-train_size\n",
    "print (\"Train size: %d\" % train_size)\n",
    "print (\"Test size: %d\" % test_size)"
   ]
  },
  {
   "cell_type": "code",
   "execution_count": 451,
   "metadata": {
    "colab": {
     "autoexec": {
      "startup": false,
      "wait_interval": 0
     }
    },
    "colab_type": "code",
    "collapsed": true,
    "id": "anD38iilhA3r"
   },
   "outputs": [],
   "source": [
    "train_posts = data['post'][:train_size]\n",
    "train_tags = data['tags'][:train_size]\n",
    "\n",
    "test_posts = data['post'][train_size:]\n",
    "test_tags = data['tags'][train_size:]"
   ]
  },
  {
   "cell_type": "code",
   "execution_count": 452,
   "metadata": {
    "colab": {
     "autoexec": {
      "startup": false,
      "wait_interval": 0
     }
    },
    "colab_type": "code",
    "collapsed": true,
    "id": "z4GblctFhA3u"
   },
   "outputs": [],
   "source": [
    "max_words = 1000\n",
    "tokenize = text.Tokenizer(num_words=max_words, char_level=False)"
   ]
  },
  {
   "cell_type": "code",
   "execution_count": 453,
   "metadata": {
    "colab": {
     "autoexec": {
      "startup": false,
      "wait_interval": 0
     }
    },
    "colab_type": "code",
    "collapsed": true,
    "id": "YatMLCKXhA3x"
   },
   "outputs": [],
   "source": [
    "tokenize.fit_on_texts(train_posts) # only fit on train\n",
    "x_train = tokenize.texts_to_matrix(train_posts)\n",
    "x_test = tokenize.texts_to_matrix(test_posts)"
   ]
  },
  {
   "cell_type": "code",
   "execution_count": 454,
   "metadata": {
    "colab": {
     "autoexec": {
      "startup": false,
      "wait_interval": 0
     }
    },
    "colab_type": "code",
    "id": "8quTsErLhA3z"
   },
   "outputs": [
    {
     "data": {
      "text/plain": [
       "array([ 0.,  0.])"
      ]
     },
     "execution_count": 454,
     "metadata": {},
     "output_type": "execute_result"
    }
   ],
   "source": [
    "# generate multi-label arrays\n",
    "y_train = np.zeros([train_size,NUM_CLASSES])\n",
    "for i in range(0,train_size):\n",
    "    y_train[i] = labels_to_array(data['tags'][i])\n",
    "\n",
    "y_test = np.zeros([test_size,NUM_CLASSES])\n",
    "for i in range(0,test_size):\n",
    "    y_test[i] = labels_to_array(data['tags'][i+train_size-1])\n",
    "y_test[0]"
   ]
  },
  {
   "cell_type": "code",
   "execution_count": 455,
   "metadata": {
    "colab": {
     "autoexec": {
      "startup": false,
      "wait_interval": 0
     },
     "output_extras": [
      {}
     ]
    },
    "colab_type": "code",
    "id": "XZFsdLYVhA33",
    "outputId": "882923f3-6705-46b5-be88-3d4fec2965f2"
   },
   "outputs": [
    {
     "name": "stdout",
     "output_type": "stream",
     "text": [
      "x_train shape: (80949, 1000)\n",
      "x_test shape: (20238, 1000)\n",
      "y_train shape: (80949, 2)\n",
      "y_test shape: (20238, 2)\n"
     ]
    }
   ],
   "source": [
    "# Inspect the dimenstions of our training and test data (this is helpful to debug)\n",
    "print('x_train shape:', x_train.shape)\n",
    "print('x_test shape:', x_test.shape)\n",
    "print('y_train shape:', y_train.shape)\n",
    "print('y_test shape:', y_test.shape)"
   ]
  },
  {
   "cell_type": "code",
   "execution_count": 457,
   "metadata": {
    "colab": {
     "autoexec": {
      "startup": false,
      "wait_interval": 0
     }
    },
    "colab_type": "code",
    "collapsed": true,
    "id": "cBIkzTOZhA36"
   },
   "outputs": [],
   "source": [
    "# This model trains very quickly and 2 epochs are already more than enough\n",
    "# Training for more epochs will likely lead to overfitting on this dataset\n",
    "# You can try tweaking these hyperparamaters when using this model with your own data\n",
    "batch_size = 100\n",
    "epochs = 1"
   ]
  },
  {
   "cell_type": "code",
   "execution_count": 458,
   "metadata": {
    "colab": {
     "autoexec": {
      "startup": false,
      "wait_interval": 0
     },
     "output_extras": [
      {}
     ]
    },
    "colab_type": "code",
    "collapsed": true,
    "id": "XdrFuwx4hA39",
    "outputId": "4b002559-2f06-4681-8f02-2e76e62d7a57"
   },
   "outputs": [],
   "source": [
    "# Build the model\n",
    "model = Sequential()\n",
    "model.add(Dense(512, input_shape=(max_words,)))\n",
    "model.add(Activation('relu'))\n",
    "model.add(Dropout(0.5))\n",
    "model.add(Dense(NUM_CLASSES))\n",
    "model.add(Activation('sigmoid')) #changed from softmax\n",
    "\n",
    "model.compile(loss='binary_crossentropy',\n",
    "              optimizer='adam',\n",
    "              metrics=['accuracy']) #changed from categorical_crossentropy"
   ]
  },
  {
   "cell_type": "code",
   "execution_count": 461,
   "metadata": {
    "colab": {
     "autoexec": {
      "startup": false,
      "wait_interval": 0
     },
     "output_extras": [
      {}
     ]
    },
    "colab_type": "code",
    "id": "rzi-9GaBhA4A",
    "outputId": "9a56a130-8804-4ce0-ad47-38c4f40c81fa"
   },
   "outputs": [
    {
     "name": "stdout",
     "output_type": "stream",
     "text": [
      "Train on 72854 samples, validate on 8095 samples\n",
      "Epoch 1/1\n",
      "72854/72854 [==============================] - 7s - loss: 0.4803 - acc: 0.8138 - val_loss: 0.5633 - val_acc: 0.7642\n"
     ]
    }
   ],
   "source": [
    "# model.fit trains the model\n",
    "# The validation_split param tells Keras what % of our training data should be used in the validation set\n",
    "# You can see the validation loss decreasing slowly when you run this\n",
    "# Because val_loss is no longer decreasing we stop training to prevent overfitting\n",
    "history = model.fit(x_train, y_train,\n",
    "                    batch_size=batch_size,\n",
    "                    epochs=epochs,\n",
    "                    verbose=1,\n",
    "                    validation_split=0.1)"
   ]
  },
  {
   "cell_type": "code",
   "execution_count": 462,
   "metadata": {
    "colab": {
     "autoexec": {
      "startup": false,
      "wait_interval": 0
     },
     "output_extras": [
      {}
     ]
    },
    "colab_type": "code",
    "id": "zjwBD8qFhA4D",
    "outputId": "0dda5da5-44c4-4fbc-f2ad-01d642ca1914"
   },
   "outputs": [
    {
     "name": "stdout",
     "output_type": "stream",
     "text": [
      "19800/20238 [============================>.] - ETA: 0sTest score: 0.544197173599\n",
      "Test accuracy: 0.77789307414\n"
     ]
    }
   ],
   "source": [
    "# Evaluate the accuracy of our trained model\n",
    "score = model.evaluate(x_test, y_test,\n",
    "                       batch_size=batch_size, verbose=1)\n",
    "print('Test score:', score[0])\n",
    "print('Test accuracy:', score[1])"
   ]
  },
  {
   "cell_type": "code",
   "execution_count": 464,
   "metadata": {
    "colab": {
     "autoexec": {
      "startup": false,
      "wait_interval": 0
     },
     "output_extras": [
      {}
     ]
    },
    "colab_type": "code",
    "id": "f000lYoxhA4F",
    "outputId": "21cd198f-1979-4b40-a2fd-891a1c0248db"
   },
   "outputs": [
    {
     "name": "stdout",
     "output_type": "stream",
     "text": [
      "[ 0.11088554  0.12836155]\n",
      "[ 0.  0.]\n",
      "error when click on the listview android  im still new in android development.. i face a problem to develop searching function on my apps.. im using the code from this website  <a href= http://www.mys ...\n",
      "Actual label:\n",
      "Predicted label: \n",
      "\n",
      "[ 0.15573704  0.1757793 ]\n",
      "[ 0.  0.]\n",
      "how to open a file in memory   i have see this term branded around but i don t really understand how you open a file in memory.    i have the files written to disk in a temp location but this needs cl ...\n",
      "Actual label:\n",
      "Predicted label: \n",
      "\n",
      "[ 0.1917156   0.21255441]\n",
      "[ 0.  0.]\n",
      "timestamp php to jquery format  im looking for the function in jquery  that giveme the same format of time  like this.   <pre><code>date(  y-m-d\\th:i:sp ); //the output is like this. 2013-10-30t18:10: ...\n",
      "Actual label:\n",
      "Predicted label: \n",
      "\n",
      "[ 0.19112061  0.21598065]\n",
      "[ 0.  0.]\n",
      "c# button with multiple events  i am trying to overwrite a content in an label several times by always clicking the same button. unfortunately  i only know how to override it once. the problem i am fa ...\n",
      "Actual label:\n",
      "Predicted label: \n",
      "\n",
      "[ 0.1224535   0.14828552]\n",
      "[ 0.  0.]\n",
      "how to select block of text from file between 2 tags with php  i am trying to parse text file and fetch few blocks between tags #start and #stop like:   <pre><code>$content =   #start lorem ipsum #sto ...\n",
      "Actual label:\n",
      "Predicted label: \n",
      "\n",
      "[ 0.20884567  0.20356189]\n",
      "[ 0.  0.]\n",
      "how to put user account on hold in android   can you teach me how to put a user on hold in my activity in android  just like uber apps. i verify user credential(background check) before i allow him to ...\n",
      "Actual label:\n",
      "Predicted label: \n",
      "\n",
      "[ 0.16965939  0.16944218]\n",
      "[ 0.  0.]\n",
      "how do i identify multiple variables as one variable py  ok so i want to conserve space and not write out all my variables and a command.  i want to do something like this   <pre><code>a = 1 b = 1 def ...\n",
      "Actual label:\n",
      "Predicted label: \n",
      "\n",
      "[ 0.20086764  0.21146183]\n",
      "[ 0.  0.]\n",
      "radio button show div  so  i m making a site for a project. i have 2 radio buttons  if the radio button:  yes  is checked a div has to be shown on the same page at the moment when the radio button is  ...\n",
      "Actual label:\n",
      "Predicted label: \n",
      "\n",
      "[ 0.21797456  0.21457055]\n",
      "[ 0.  0.]\n",
      "working with codeigniter routes   i think this is a route issue but i m not sure. i have a page with this url:   <blockquote>    siteurl.com/kowmanger/titles/titles/edit/$id  </blockquote>   i m tryin ...\n",
      "Actual label:\n",
      "Predicted label: \n",
      "\n",
      "[ 0.18580317  0.17064954]\n",
      "[ 0.  0.]\n",
      "reversing first and last names using jquery  trying to take this table and take the names  when i click one radio button it changes the names from something like: tom hanks to hanks  tom. here is the  ...\n",
      "Actual label:\n",
      "Predicted label: \n",
      "\n",
      "[ 0.15030272  0.16616468]\n",
      "[ 0.  0.]\n",
      "how to set only date in datatable column of type datetime web  <img src= https://i.stack.imgur.com/k6rvf.png  alt= enter image description here >hi all     my question is simple but please keep in min ...\n",
      "Actual label:\n",
      "Predicted label: \n",
      "\n",
      "[ 0.18113714  0.15181337]\n",
      "[ 0.  0.]\n",
      "does anybody know why i get a java.lang.string on stripe payment  i have stripe payment implemented on my android app everything is working fine.but i get an error when it comes to creating a token th ...\n",
      "Actual label:\n",
      "Predicted label: \n",
      "\n",
      "[ 0.1164108   0.14861964]\n",
      "[ 0.  0.]\n",
      "how to get row_number is pyspark dataframe  in order to rank  i need to get the row_number is a pyspark dataframe. i saw that there is row_number function in the windows function of pyspark but this i ...\n",
      "Actual label:\n",
      "Predicted label: \n",
      "\n",
      "[ 0.13348596  0.1608582 ]\n",
      "[ 0.  0.]\n",
      "adding post data to xml string  i collect data from a form like this :   <pre><code>$title = $_post[ title ]; $fname = $_post[ first_name ]; $surname = $_post[ surname ]; </code></pre>   i want tot bu ...\n",
      "Actual label:\n",
      "Predicted label: \n",
      "\n",
      "[ 0.17407037  0.22756192]\n",
      "[ 0.  0.]\n",
      "android: how to wait until locationservice sets globalvars before getting location  i have a <code>locationservice</code> class (extends <code>service</code> implements <code>locationlistener</code>)  ...\n",
      "Actual label:\n",
      "Predicted label: \n",
      "\n",
      "[ 0.19823898  0.2403319 ]\n",
      "[ 0.  0.]\n",
      "check array element when push element  i am using js array   <pre><code>var fruits = [[ 5   7 ] [ 10   20 ] [ 20   30 ]];  function myfunction() {     // want to check here     fruits.push([ 30    40  ...\n",
      "Actual label:\n",
      "Predicted label: \n",
      "\n",
      "[ 0.21674202  0.20578679]\n",
      "[ 0.  0.]\n",
      "jquery tools tooltip  position with absolute & margin  i m using the jquery plugin: <a href= http://flowplayer.org/tools/tooltip/index.html  rel= nofollow noreferrer >tools.tooltip()</a> seems like th ...\n",
      "Actual label:\n",
      "Predicted label: \n",
      "\n",
      "[ 0.18870321  0.22592676]\n",
      "[ 0.  0.]\n",
      "php artisan not responding after upgrading laravel 5.1 to 5.2  <code>php artisan</code> not responding after upgrading laravel 5.1 to 5.2.     i followed the upgrade guide here <a href= https://larave ...\n",
      "Actual label:\n",
      "Predicted label: \n",
      "\n",
      "[ 0.19056493  0.16814139]\n",
      "[ 0.  0.]\n",
      "overriding behavior in bootstrap.js for dropdowns  we re using bootstrap 3 for ui components. in bootstrap.js  there s a <code>dropdown.prototype.keydown</code> function (see <a href= http://netdna.bo ...\n",
      "Actual label:\n",
      "Predicted label: \n",
      "\n",
      "[ 0.13830036  0.1610349 ]\n",
      "[ 0.  0.]\n",
      "how can i rotate object smooth without stop   this is the script i m using now:   <pre><code> using system.collections;  using system.collections.generic;  using unityengine;   public class spinobject ...\n",
      "Actual label:\n",
      "Predicted label: \n",
      "\n",
      "[ 0.12053781  0.15288612]\n",
      "[ 0.  0.]\n",
      "permission denied while running startup.sh in linux  i am trying to run tomcat 6 in linux when i invoke startup.sh i see this error in catalina.out   <pre><code>/home/***/apache-tomcat-6.0.29/bin/cata ...\n",
      "Actual label:\n",
      "Predicted label: \n",
      "\n",
      "[ 0.17886214  0.20475301]\n",
      "[ 0.  0.]\n",
      "when sending multiple xmlhttprequests only the last request returns success  i have a page that dynamically creates (using jquery) input boxes for the user. the user can then enter values in each inpu ...\n",
      "Actual label:\n",
      "Predicted label: \n",
      "\n",
      "[ 0.12402471  0.14460512]\n",
      "[ 0.  0.]\n",
      "how to turn on and turn off (enable and disable) location services programatically in ics   i d like to know if it possible to enable and disable location services programatically in android 4.0     i ...\n",
      "Actual label:\n",
      "Predicted label: \n",
      "\n",
      "[ 0.1419141   0.15461878]\n",
      "[ 0.  0.]\n",
      "spring mvc - no declaration can be found for element  mvc:annotation-drive   hi i am getting the following error.   <pre><code>cvc-complex-type.2.4.c: the matching wildcard is strict  but no declarati ...\n",
      "Actual label:\n",
      "Predicted label: \n",
      "\n",
      "[ 0.15842156  0.16891825]\n",
      "[ 0.  0.]\n",
      "sort information from database into a table  i am trying to sort all of this information into a small table which i looked up on a tutorial  however i am having problems :/    i had this originally:   ...\n",
      "Actual label:\n",
      "Predicted label: \n",
      "\n",
      "[ 0.18848844  0.24210329]\n",
      "[ 0.  0.]\n",
      "fabric js canvas init error  i created my first js app with canvas and it doesn t work. code was coppied from <a href= http://fabricjs.com/  rel= nofollow >http://fabricjs.com/</a> and just wrapped in ...\n",
      "Actual label:\n",
      "Predicted label: \n",
      "\n",
      "[ 0.244231    0.25672805]\n",
      "[ 0.  0.]\n",
      "string thread safety because of immutability   hi was reading about that a string is thread safe because it is immutable.    for example i do:   <pre><code>string a =  test ; </code></pre>   one threa ...\n",
      "Actual label:\n",
      "Predicted label: \n",
      "\n",
      "[ 0.19629507  0.26503575]\n",
      "[ 0.  0.]\n",
      "is it possible to do a request via the settingsapi without asking for google s location service   the <a href= https://developers.google.com/android/reference/com/google/android/gms/location/settingsa ...\n",
      "Actual label:\n",
      "Predicted label: \n",
      "\n",
      "[ 0.19352046  0.197138  ]\n",
      "[ 0.  0.]\n",
      "set url as variable of input in parent document  i have a piece of code (curl) from which i can extract data like this:     <pre><code>  &lt; php     $url =  http://www.nu.nl/ ;      $ch = curl_init($ ...\n",
      "Actual label:\n",
      "Predicted label: \n",
      "\n",
      "[ 0.21966414  0.2378014 ]\n",
      "[ 0.  0.]\n",
      "accessible way to click both listview row and button in row   it s easy to make a row in a listview do something when it is clicked. but add something else in the row--such as a button or other contro ...\n",
      "Actual label:\n",
      "Predicted label: \n",
      "\n",
      "[ 0.20508726  0.17445944]\n",
      "[ 0.  0.]\n",
      "can you use document.writeln inside an html object tag   i m trying to pass a parameter via url to a webpage that displays a rtsp video stream in a vlc object.  the parameter is set as the  src  of th ...\n",
      "Actual label:\n",
      "Predicted label: \n",
      "\n",
      "[ 0.18956535  0.22433417]\n",
      "[ 0.  0.]\n",
      "ionic css animation not working on device  i ve got a todo-list style ionic app with an <code>&lt;ion-list&gt;</code> and <code>&lt;ion-item ng-repeat&gt;</code>.    the <code>&lt;ion-items&gt;</code> ...\n",
      "Actual label:\n",
      "Predicted label: \n",
      "\n",
      "[ 0.19059537  0.19867536]\n",
      "[ 0.  0.]\n",
      "css javascript pseudo-perspective background motion on side scroll for game  so here is the idea  creating a sidescrolling game from js  and working on the enviroment. the foreground element is set to ...\n",
      "Actual label:\n",
      "Predicted label: \n",
      "\n",
      "[ 0.13276534  0.16394421]\n",
      "[ 0.  0.]\n",
      "how can i validate ext.form.datefield using min/maxvalue  without using time   i m having the following problem: i want to validate a datefield so that it has a value between the minvalue / maxvalue r ...\n",
      "Actual label:\n",
      "Predicted label: \n",
      "\n",
      "[ 0.20673148  0.24106182]\n",
      "[ 0.  0.]\n",
      "ie9 in quirks mode.. what could be causing issues with this code   i m using the following code:    (abridged javascript)   <pre><code>input = {}; input.url =  http://my.script.location/script.php ;   ...\n",
      "Actual label:\n",
      "Predicted label: \n",
      "\n",
      "[ 0.15638034  0.17722544]\n",
      "[ 0.  0.]\n",
      "uidai adhaar api in php <pre><code>$curl = curl_init(); $xml_data =  &lt; xml version= 1.0  encoding= utf-8  standalone= yes  &gt;   &lt;auth uid=”999999990019” tid=”public” ac=”public” sa ...\n",
      "Actual label:\n",
      "Predicted label: \n",
      "\n",
      "[ 0.14453459  0.12721916]\n",
      "[ 0.  0.]\n",
      "programatically save music to the zune hub in windows phone  is it possible to programmatically save (music) files to the zune hub in windows phone 7     for instance  i ve created a recording app and ...\n",
      "Actual label:\n",
      "Predicted label: \n",
      "\n",
      "[ 0.15421203  0.20430866]\n",
      "[ 0.  0.]\n",
      "merge two files in python pandas   i have two files from where i need to fetch information for <code>data analysis</code>. i am using <strong><code>python pandas</code></strong> for this. any help on  ...\n",
      "Actual label:\n",
      "Predicted label: \n",
      "\n",
      "[ 0.1700882   0.21450694]\n",
      "[ 0.  0.]\n",
      "json dynamic data doesn t work from jquery response  this is the code working here <a href= http://jsfiddle.net/gr2y4/  rel= nofollow >http://jsfiddle.net/gr2y4/</a>    but when i try this doesn t wor ...\n",
      "Actual label:\n",
      "Predicted label: \n",
      "\n",
      "[ 0.14210242  0.15849684]\n",
      "[ 0.  0.]\n",
      "how can i resolve this custom error redirect in asp.net  i want to redirect all url errors    the url i want to cath is ~/bla/foo    it should redirect to ~/error404.aspx    bla exists as a folder. fo ...\n",
      "Actual label:\n",
      "Predicted label: \n",
      "\n",
      "[ 0.23559596  0.25421974]\n",
      "[ 0.  0.]\n",
      "i m trying to print an array with random integers  but for some reason whenever i run the program it only prints out zeros. what am i doing wrong   when i run this program  only zeros are printed out  ...\n",
      "Actual label:\n",
      "Predicted label: \n",
      "\n",
      "[ 0.19256669  0.20439827]\n",
      "[ 0.  0.]\n",
      "regex to parse ftp server list c#  i m using regex list to parse ftp server listing. i m not good with regex at all  this is list of regex i collected online to parse various server ftp outputs:   <pr ...\n",
      "Actual label:\n",
      "Predicted label: \n",
      "\n",
      "[ 0.14280859  0.19227646]\n",
      "[ 0.  0.]\n",
      "send http post from android  i have a server made in python that reads the querystring-message and stores it in a sqlite database  and then displays the content.     now i want to send the message fro ...\n",
      "Actual label:\n",
      "Predicted label: \n",
      "\n",
      "[ 0.20737848  0.22020008]\n",
      "[ 0.  0.]\n",
      "new to python and instantly confused  i m taking a python course on codecademy at the moment and decided to try run a simple program on my computer from the terminal.     i created a basic program bas ...\n",
      "Actual label:\n",
      "Predicted label: \n",
      "\n",
      "[ 0.17500459  0.14631017]\n",
      "[ 0.  0.]\n",
      "how can i make a changing numerical value for a taskbar icon in c#   i m trying to make a program in c# that monitors the processor time of an application. i d like to have a feature in this program w ...\n",
      "Actual label:\n",
      "Predicted label: \n",
      "\n",
      "[ 0.2122412   0.19407141]\n",
      "[ 0.  0.]\n",
      "python - making a shape with two lines and three asterisks in the middle  i m supposed to ask the user for a number and print out the following shapes:    user input = 1 (1 unit tall and 1 unit in bet ...\n",
      "Actual label:\n",
      "Predicted label: \n",
      "\n",
      "[ 0.1603501   0.24171004]\n",
      "[ 0.  0.]\n",
      "d3.js - json data array is binding the same array element to everything  i am loading a geojson data file that contains an array of objects  each object containing the vector information for a differe ...\n",
      "Actual label:\n",
      "Predicted label: \n",
      "\n",
      "[ 0.17432956  0.19417611]\n",
      "[ 0.  0.]\n",
      "angular rest call. handle fetched array  i am fetching array via angular s factory and i am able to display the correctly on page. i am however unable to get any object from that array and get  undefi ...\n",
      "Actual label:\n",
      "Predicted label: \n",
      "\n",
      "[ 0.16039377  0.18371648]\n",
      "[ 0.  0.]\n",
      "undeliverableexception differences in combinelatest  i have two rx compositions that i would expect to behave the same way:     using <code>observable.combinelatest(iterable  function)</code>:    <pre ...\n",
      "Actual label:\n",
      "Predicted label: \n",
      "\n",
      "[ 0.16979852  0.18349941]\n",
      "[ 0.  0.]\n",
      "randomly use a comparison operator   i have an array with a list of comparison operators.  how can i randomly select one to use   i tried the following but failed.    <pre><code>from random import cho ...\n",
      "Actual label:\n",
      "Predicted label: \n",
      "\n",
      "[ 0.20491022  0.18393148]\n",
      "[ 0.  0.]\n",
      "how from one fragment start method in another   in fragment a i have functionality to retrivive url in fragment b i have functionality to proceed and display url.    how fragment a can tell to fragmen ...\n",
      "Actual label:\n",
      "Predicted label: \n",
      "\n",
      "[ 0.16302477  0.22346339]\n",
      "[ 0.  0.]\n",
      "how to insert an xml element in xmlserializer  i am preparing an xml element called artist which has albums as sub elements. the album elements are prepared in a seperate function. in the following co ...\n",
      "Actual label:\n",
      "Predicted label: \n",
      "\n",
      "[ 0.07865137  0.16949305]\n",
      "[ 0.  0.]\n",
      "dynamically setting datagridviewcomboboxcell s datasource to filtered dataview based off of other cell selection  i have been looking high and low for a way to do the following  but to no avail. i cam ...\n",
      "Actual label:\n",
      "Predicted label: \n",
      "\n",
      "[ 0.17543063  0.11953562]\n",
      "[ 0.  0.]\n",
      "python nested list comprehensions to create a matrix  i m new to list comprehensions and would like to replicate the following code below in for loops into a nested list comprehension.   <pre><code> m ...\n",
      "Actual label:\n",
      "Predicted label: \n",
      "\n",
      "[ 0.16926993  0.15876147]\n",
      "[ 0.  0.]\n",
      "actionbarsherlock theming crash reports  i m getting a few crash reports as below   <pre><code>java.lang.illegalstateexception: you must use theme.sherlock  theme.sherlock.light  theme.sherlock.light. ...\n",
      "Actual label:\n",
      "Predicted label: \n",
      "\n",
      "[ 0.13078257  0.13737839]\n",
      "[ 0.  0.]\n",
      "location permission doesn t switch on the service ionic cordova  in my ionic 1 app i implemented geolocation service by following  <a href= https://www.joshmorony.com/integrating-google-maps-with-an-i ...\n",
      "Actual label:\n",
      "Predicted label: \n",
      "\n",
      "[ 0.13296631  0.20779468]\n",
      "[ 0.  0.]\n",
      "how can i concatenate multiple fields into 1 result   we ve got a table in sql server that has values that are to appear in a couple of textboxes  if those textboxes are initially empty. then the user ...\n",
      "Actual label:\n",
      "Predicted label: \n",
      "\n",
      "[ 0.17382826  0.20842499]\n",
      "[ 0.  0.]\n",
      "how to find the length of a list in python without using len()  i want to write a function which will find out the length of a list based on user input. i don t want to use the in-built function len() ...\n",
      "Actual label:\n",
      "Predicted label: \n",
      "\n",
      "[ 0.18289337  0.17727447]\n",
      "[ 0.  0.]\n",
      "ipywidgets: avoid flickering when using interact  i made a figure with four subplots of a histogram based on random normal  gamma  exponential  and uniform distributions respectively. i made it using  ...\n",
      "Actual label:\n",
      "Predicted label: \n",
      "\n",
      "[ 0.22299272  0.27149594]\n",
      "[ 0.  0.]\n",
      "select custom attribute from nested li  i have a menu item that looks like the below  now in this case i have a parent with a <code>groupid=5</code> which is analytics. now what i am trying to-do is w ...\n",
      "Actual label:\n",
      "Predicted label: \n",
      "\n",
      "[ 0.17832746  0.19955608]\n",
      "[ 0.  0.]\n",
      "microsoft graph. driveitem id format   looks like  in microsoft graph and onedrive <code>id</code> for <a href= https://graph.microsoft.io/en-us/docs/api-reference/v1.0/resources/drive  rel= nofollow  ...\n",
      "Actual label:\n",
      "Predicted label: \n",
      "\n",
      "[ 0.15511224  0.14698499]\n",
      "[ 0.  0.]\n",
      "encrypt in string characters only using cipher encryption in java  i have a piece of code that works fine when encrypting  encryption works but i don t like the characters used in the encrypted string ...\n",
      "Actual label:\n",
      "Predicted label: \n",
      "\n",
      "[ 0.14487155  0.21962345]\n",
      "[ 0.  0.]\n",
      "could there be any performance difference between writing the same code (for the layout) in xml or java file   i know that there are differences in what you can and can not do in xml and a java file   ...\n",
      "Actual label:\n",
      "Predicted label: \n",
      "\n",
      "[ 0.1615358   0.16664556]\n",
      "[ 0.  0.]\n",
      "xamarin forms localization and mvvm  i m receiving data from the server and i should localize it and put it in viewmodel.    i serialize data from responce in json format to .net object.    for exampl ...\n",
      "Actual label:\n",
      "Predicted label: \n",
      "\n",
      "[ 0.11460526  0.14858525]\n",
      "[ 0.  0.]\n",
      "how do you translate this regular-expression idiom from perl into python   i switched from perl to python about a year ago and haven t looked back.  there is only <i>one</i> idiom that i ve ever found ...\n",
      "Actual label:\n",
      "Predicted label: \n",
      "\n",
      "[ 0.18625417  0.2703186 ]\n",
      "[ 0.  0.]\n",
      "why doesn t this string[] work in java   ok  this fails:   <pre><code>public class myloginbean extends org.apache.struts.action.actionform {      private string[] roles;      public myloginbean() {    ...\n",
      "Actual label:\n",
      "Predicted label: \n",
      "\n",
      "[ 0.227651   0.2639772]\n",
      "[ 0.  0.]\n",
      "the life of static methods in php  i have a class in which i implement an array attribute. i want to set a couple of objects into that attribute. it will be done during the request flow many times  so ...\n",
      "Actual label:\n",
      "Predicted label: \n",
      "\n",
      "[ 0.13684817  0.18792811]\n",
      "[ 0.  0.]\n",
      "how do i write this code in non-conditional expression  <pre><code>def filt(lst n):     if len(lst) == 0:         return []     return ([lst[0]] if lst[0] &gt;= n else []) + filt(lst[1:] n) </code></p ...\n",
      "Actual label:\n",
      "Predicted label: \n",
      "\n",
      "[ 0.12890242  0.19577694]\n",
      "[ 0.  0.]\n",
      "python code doesn t execute on first run  using spyder python 3.6 this code does not execute  says that the method ispal is not defined. however when i run it and put in an integer first (say my strin ...\n",
      "Actual label:\n",
      "Predicted label: \n",
      "\n",
      "[ 0.21533218  0.18112564]\n",
      "[ 0.  0.]\n",
      "python elasticsearch query for boolean  i have the following query:    <pre><code>bool(must=[terms(avail_req=[ available ]  boost=2.0)  terms(boost=2.0  sale_rent=[ sale ])  nested(path= listings   qu ...\n",
      "Actual label:\n",
      "Predicted label: \n",
      "\n",
      "[ 0.1652281   0.19858956]\n",
      "[ 0.  0.]\n",
      "how to display a default image in case the source does not exists in mvc view  i have following code in loginpartial.cshtml file<br> can anyone advice if there is a way to display a default image if t ...\n",
      "Actual label:\n",
      "Predicted label: \n",
      "\n",
      "[ 0.1178175   0.11522441]\n",
      "[ 0.  0.]\n",
      "iis 7.5 application pool recycle not letting method finish  i have 2 methods:   <pre><code>public void stop(bool immediate) {     logger.log(loglevel.debug   shutdown detected. immediate:   + immediat ...\n",
      "Actual label:\n",
      "Predicted label: \n",
      "\n",
      "[ 0.13842781  0.17550863]\n",
      "[ 0.  0.]\n",
      "pkg_resources throwing versionconflict for package with  dev  in name  in my <code>requirements.txt</code> i have:    <code>-e git://github.com/mitsuhiko/flask-sqlalchemy.git@[somecommit]#egg=flask_sq ...\n",
      "Actual label:\n",
      "Predicted label: \n",
      "\n",
      "[ 0.20447043  0.23872784]\n",
      "[ 0.  0.]\n",
      "how to measure time between a start of an activity and stop   i thought maybe it could work with startactivityforresult  but no idea how..  after the measure i want this time to show up on another act ...\n",
      "Actual label:\n",
      "Predicted label: \n",
      "\n",
      "[ 0.13735656  0.2541306 ]\n",
      "[ 0.  0.]\n",
      "android transaction image between two fragment  i have two fragment(<code>fragmenta  fragmentb</code>)  in the first fragment i have a <code>recycler view</code>   and <code>recycler view</code> conta ...\n",
      "Actual label:\n",
      "Predicted label: \n",
      "\n",
      "[ 0.09668495  0.17044076]\n",
      "[ 0.  0.]\n",
      "project build error in maven while creating webstart project  i am getting following error while creating java webstart project using maven in eclipse    <pre><code>project build error: non-resolvable ...\n",
      "Actual label:\n",
      "Predicted label: \n",
      "\n",
      "[ 0.14757876  0.15357701]\n",
      "[ 0.  0.]\n",
      "unable to share text on facebook  i have an edittext and a submit button in my android app. when i write something in my edittext and then click the submit button  it opens the facebook dialog  but th ...\n",
      "Actual label:\n",
      "Predicted label: \n",
      "\n",
      "[ 0.16143149  0.21193434]\n",
      "[ 0.  0.]\n",
      "laravel validation checkbox  i am using the laravel register function to register a user. i added a checkbox where the user needs to accept the terms and conditions. i only want to user to register wh ...\n",
      "Actual label:\n",
      "Predicted label: \n",
      "\n",
      "[ 0.17137438  0.19942425]\n",
      "[ 0.  0.]\n",
      "servlet spring-servlet is not available (spring+blazeds integration)  i m trying to setup a flex project using the spring + blazeds integration by working through the refcard kindly posted by james wa ...\n",
      "Actual label:\n",
      "Predicted label: \n",
      "\n",
      "[ 0.18368287  0.2422199 ]\n",
      "[ 0.  0.]\n",
      "masonry images stacked on first load  i m using masonry to display an image grid; <a href= http://aandagtvooru.nl/grid  rel= nofollow >http://aandagtvooru.nl/grid</a>    but on the first load  all ima ...\n",
      "Actual label:\n",
      "Predicted label: \n",
      "\n",
      "[ 0.09885741  0.14756341]\n",
      "[ 0.  0.]\n",
      "unable to open html file with chinese character  everyone  i run into a trouble when trying to open a html file containing chinese characters  here is the code   <pre><code>#problem with chinese chara ...\n",
      "Actual label:\n",
      "Predicted label: \n",
      "\n",
      "[ 0.20784761  0.20251445]\n",
      "[ 0.  0.]\n",
      "saving the  view  of a jtable  imagine an application where some data is displayed in a jtable. the application developer have set a default layout for the jtable  that the user might not be happy wit ...\n",
      "Actual label:\n",
      "Predicted label: \n",
      "\n",
      "[ 0.1354561   0.20184937]\n",
      "[ 0.  0.]\n",
      "avoid race condition at row deletion in custom datagridview  <em>i know the code below is c++-cli  but it refers to c# in the same way</em>    when i wanted to  combine  multiple rows in a <code>datag ...\n",
      "Actual label:\n",
      "Predicted label: \n",
      "\n",
      "[ 0.23503867  0.22611867]\n",
      "[ 0.  0.]\n",
      "php executes only one ajax call at time  i have ajax calls to server  that returns processed json data. to speed things up i need them to be executed at the same time.    <strong>problem:</strong> i g ...\n",
      "Actual label:\n",
      "Predicted label: \n",
      "\n",
      "[ 0.21876845  0.21840443]\n",
      "[ 0.  0.]\n",
      "will minifying the html portion of a php file have an effect on performance and bandwidth   say i had  for example:   <pre><code>&lt;body&gt;     &lt;h1&gt;title&lt;/h1&gt;     &lt;article&gt;         ...\n",
      "Actual label:\n",
      "Predicted label: \n",
      "\n",
      "[ 0.12618566  0.14582355]\n",
      "[ 0.  0.]\n",
      "auto-size zoom on google maps in java  (depending android screen resolution)  i ve got 2 geopoints given to show them on the map with markers.    how can i get the optimum zoom level for the mapcontro ...\n",
      "Actual label:\n",
      "Predicted label: \n",
      "\n",
      "[ 0.16252136  0.22647743]\n",
      "[ 0.  0.]\n",
      "facebook php-sdk + jquery ajax  im creating a facebook app using php-sdk.    in order to find a user s uid i do:    <code>index.php</code> file   <pre><code>$user_id = $facebook-&gt;getuser(); if($use ...\n",
      "Actual label:\n",
      "Predicted label: \n",
      "\n",
      "[ 0.19961043  0.16051601]\n",
      "[ 0.  0.]\n",
      "how to publish post on facebook page wall as admin using facebook php sdk v4 and graph api 2.x  how to publish post on facebook page wall as page admin user using facebook php sdk v4 and graph api 2.x ...\n",
      "Actual label:\n",
      "Predicted label: \n",
      "\n",
      "[ 0.18034622  0.18055667]\n",
      "[ 0.  0.]\n",
      "stopping timer after it have runned one time  in the game that i am making i have a <code>timer</code> that i have set to <code>10_000</code> (that s every 10 seconds  right ).    i use this <code>tim ...\n",
      "Actual label:\n",
      "Predicted label: \n",
      "\n",
      "[ 0.16786283  0.18502949]\n",
      "[ 0.  0.]\n",
      "is it possible to view json data posted from python api to ruby on rails   i have two projects on python and ruby on rails.    i want to send a random data from python as json data through api post no ...\n",
      "Actual label:\n",
      "Predicted label: \n",
      "\n",
      "[ 0.17456226  0.19598527]\n",
      "[ 0.  0.]\n",
      "can somebody link me to some code where there is a fantastic or a nice use of inheritance  i strongly believe that  reading code and reading good code is key to great programming. if not one of the ma ...\n",
      "Actual label:\n",
      "Predicted label: \n",
      "\n",
      "[ 0.17706276  0.1831042 ]\n",
      "[ 0.  0.]\n",
      "change switch state without animation  in my android project  i have a <code>listview</code> with rows containing <code>switchcompat</code> items (appcompat for <code>switch</code> widget).    my prob ...\n",
      "Actual label:\n",
      "Predicted label: \n",
      "\n",
      "[ 0.22183938  0.26435912]\n",
      "[ 0.  0.]\n",
      "how to use open emm to send transaction emails  i want to use open emm to send transaction emails to users.    presently i am using open emm to send newsletter .    i want to send emails to users with ...\n",
      "Actual label:\n",
      "Predicted label: \n",
      "\n",
      "[ 0.18203191  0.24358091]\n",
      "[ 0.  0.]\n",
      "jersey jax-rs webexception is not thrown  instead status 404 is returned. why   i have a jax rs method that looks like this:    <a href= https://i.stack.imgur.com/8wvru.png  rel= nofollow noreferrer > ...\n",
      "Actual label:\n",
      "Predicted label: \n",
      "\n",
      "[ 0.15988891  0.18787391]\n",
      "[ 0.  0.]\n",
      "supplying angularjs controller data  assuming a controller is there to manipulate some data on the scope  what is the best practice to supply the controller with that data     for example  if i have a ...\n",
      "Actual label:\n",
      "Predicted label: \n",
      "\n",
      "[ 0.18470763  0.15153004]\n",
      "[ 0.  0.]\n",
      "releasing application in android market  i want to release an android application to android market. different versions of this application should run on different android platforms  i.e. 1.5  1.6  2. ...\n",
      "Actual label:\n",
      "Predicted label: \n",
      "\n",
      "[ 0.1982127   0.16776332]\n",
      "[ 0.  0.]\n",
      "ignore option of jquery validate crashes my bootstrap wizard  this is my first question  so please be patient with me.    im using a combination of jquery-validate and bootstrap wizard. everything wor ...\n",
      "Actual label:\n",
      "Predicted label: \n",
      "\n",
      "[ 0.19020461  0.2532821 ]\n",
      "[ 0.  0.]\n",
      "authorized app prompting with wrong app by google oauth login  i am trying to use oauth for google+ login in my app  the flow working perfectly but the issue facing is very strange.    native app crea ...\n",
      "Actual label:\n",
      "Predicted label: \n",
      "\n",
      "[ 0.14499848  0.25886303]\n",
      "[ 0.  0.]\n",
      "how to remove character escaping from a string in c#  i have some code that takes input from and excel spreadsheet and imports it into a sql server database. i am having some trouble dealing with stri ...\n",
      "Actual label:\n",
      "Predicted label: \n",
      "\n",
      "[ 0.17690681  0.16535747]\n",
      "[ 0.  0.]\n",
      "on click event won t fire after ajax filter manipulates the dom  i am working on an e-commerce site that have ajax filter that manipulates the dom based on each product attributes.     i am writing an ...\n",
      "Actual label:\n",
      "Predicted label: \n",
      "\n"
     ]
    }
   ],
   "source": [
    "# Here's how to generate a prediction on individual examples\n",
    "for i in range(100):\n",
    "    prediction = model.predict(np.array([x_test[i]]))\n",
    "    print(prediction[0])\n",
    "    print(y_test[i])\n",
    "    predicted_label = array_to_labels(prediction[0],threshold=.5)\n",
    "    print(test_posts.iloc[i][:200], \"...\")\n",
    "    print('Actual label:' + '|'.join(array_to_labels(y_test[i])))\n",
    "    print(\"Predicted label: \" + '|'.join(predicted_label) + '\\n')  "
   ]
  },
  {
   "cell_type": "code",
   "execution_count": 20,
   "metadata": {
    "colab": {
     "autoexec": {
      "startup": false,
      "wait_interval": 0
     },
     "output_extras": [
      {},
      {},
      {}
     ]
    },
    "colab_type": "code",
    "id": "8nWz6EFqhA4L",
    "outputId": "9d7fa550-66f8-4b4d-bc11-2cee0cd96ace"
   },
   "outputs": [
    {
     "ename": "NameError",
     "evalue": "name 'y_test_1d' is not defined",
     "output_type": "error",
     "traceback": [
      "\u001b[0;31m---------------------------------------------------------------------------\u001b[0m",
      "\u001b[0;31mNameError\u001b[0m                                 Traceback (most recent call last)",
      "\u001b[0;32m<ipython-input-20-18faac22df8c>\u001b[0m in \u001b[0;36m<module>\u001b[0;34m()\u001b[0m\n\u001b[0;32m----> 1\u001b[0;31m \u001b[0mcnf_matrix\u001b[0m \u001b[0;34m=\u001b[0m \u001b[0mconfusion_matrix\u001b[0m\u001b[0;34m(\u001b[0m\u001b[0my_test_1d\u001b[0m\u001b[0;34m,\u001b[0m \u001b[0my_pred_1d\u001b[0m\u001b[0;34m)\u001b[0m\u001b[0;34m\u001b[0m\u001b[0m\n\u001b[0m\u001b[1;32m      2\u001b[0m \u001b[0mplt\u001b[0m\u001b[0;34m.\u001b[0m\u001b[0mfigure\u001b[0m\u001b[0;34m(\u001b[0m\u001b[0mfigsize\u001b[0m\u001b[0;34m=\u001b[0m\u001b[0;34m(\u001b[0m\u001b[0;36m24\u001b[0m\u001b[0;34m,\u001b[0m\u001b[0;36m20\u001b[0m\u001b[0;34m)\u001b[0m\u001b[0;34m)\u001b[0m\u001b[0;34m\u001b[0m\u001b[0m\n\u001b[1;32m      3\u001b[0m \u001b[0mplot_confusion_matrix\u001b[0m\u001b[0;34m(\u001b[0m\u001b[0mcnf_matrix\u001b[0m\u001b[0;34m,\u001b[0m \u001b[0mclasses\u001b[0m\u001b[0;34m=\u001b[0m\u001b[0mlabels_list\u001b[0m\u001b[0;34m,\u001b[0m \u001b[0mtitle\u001b[0m\u001b[0;34m=\u001b[0m\u001b[0;34m\"Confusion matrix\"\u001b[0m\u001b[0;34m)\u001b[0m\u001b[0;34m\u001b[0m\u001b[0m\n\u001b[1;32m      4\u001b[0m \u001b[0mplt\u001b[0m\u001b[0;34m.\u001b[0m\u001b[0mshow\u001b[0m\u001b[0;34m(\u001b[0m\u001b[0;34m)\u001b[0m\u001b[0;34m\u001b[0m\u001b[0m\n",
      "\u001b[0;31mNameError\u001b[0m: name 'y_test_1d' is not defined"
     ]
    }
   ],
   "source": [
    "cnf_matrix = confusion_matrix(y_test_1d, y_pred_1d)\n",
    "plt.figure(figsize=(24,20))\n",
    "plot_confusion_matrix(cnf_matrix, classes=labels_list, title=\"Confusion matrix\")\n",
    "plt.show()"
   ]
  },
  {
   "cell_type": "code",
   "execution_count": null,
   "metadata": {
    "colab": {
     "autoexec": {
      "startup": false,
      "wait_interval": 0
     }
    },
    "colab_type": "code",
    "collapsed": true,
    "id": "rqqIG5KnhA4K"
   },
   "outputs": [],
   "source": [
    "# This utility function is from the sklearn docs: http://scikit-learn.org/stable/auto_examples/model_selection/plot_confusion_matrix.html\n",
    "def plot_confusion_matrix(cm, classes,\n",
    "                          title='Confusion matrix',\n",
    "                          cmap=plt.cm.Blues):\n",
    "    \"\"\"\n",
    "    This function prints and plots the confusion matrix.\n",
    "    Normalization can be applied by setting `normalize=True`.\n",
    "    \"\"\"\n",
    "\n",
    "    cm = cm.astype('float') / cm.sum(axis=1)[:, np.newaxis]\n",
    "\n",
    "    plt.imshow(cm, interpolation='nearest', cmap=cmap)\n",
    "    plt.title(title, fontsize=30)\n",
    "    plt.colorbar()\n",
    "    tick_marks = np.arange(len(classes))\n",
    "    plt.xticks(tick_marks, classes, rotation=45, fontsize=22)\n",
    "    plt.yticks(tick_marks, classes, fontsize=22)\n",
    "\n",
    "    fmt = '.2f'\n",
    "    thresh = cm.max() / 2.\n",
    "    for i, j in itertools.product(range(cm.shape[0]), range(cm.shape[1])):\n",
    "        plt.text(j, i, format(cm[i, j], fmt),\n",
    "                 horizontalalignment=\"center\",\n",
    "                 color=\"white\" if cm[i, j] > thresh else \"black\")\n",
    "\n",
    "    plt.ylabel('True label', fontsize=25)\n",
    "    plt.xlabel('Predicted label', fontsize=25)"
   ]
  },
  {
   "cell_type": "code",
   "execution_count": null,
   "metadata": {
    "colab": {
     "autoexec": {
      "startup": false,
      "wait_interval": 0
     }
    },
    "colab_type": "code",
    "collapsed": true,
    "id": "HKUgUHLAhA4I"
   },
   "outputs": [],
   "source": [
    "y_softmax = model.predict(x_test)\n",
    "\n",
    "y_test_1d = []\n",
    "y_pred_1d = []\n",
    "\n",
    "for i in range(len(y_test)):\n",
    "    probs = y_test[i]\n",
    "    index_arr = np.nonzero(probs)\n",
    "    one_hot_index = index_arr[0].item(0)\n",
    "    y_test_1d.append(one_hot_index)\n",
    "\n",
    "for i in range(0, len(y_softmax)):\n",
    "    probs = y_softmax[i]\n",
    "    predicted_index = np.argmax(probs)\n",
    "    y_pred_1d.append(predicted_index)"
   ]
  },
  {
   "cell_type": "code",
   "execution_count": null,
   "metadata": {
    "collapsed": true
   },
   "outputs": [],
   "source": [
    "#cross entropy function\n",
    "\n",
    "def cross_entropy(y_target,y_pred):\n",
    "    loss_sum = 0\n",
    "    for i in range(len(y_target)):\n",
    "        if y_target[i]==1: loss_sum += -np.log(y_pred[i])\n",
    "        else: loss_sum += -np.log(1-y_pred[i])\n",
    "    return loss_sum/len(y_target)"
   ]
  }
 ],
 "metadata": {
  "colab": {
   "default_view": {},
   "name": "josh3.ipynb",
   "provenance": [],
   "version": "0.3.2",
   "views": {}
  },
  "kernelspec": {
   "display_name": "Python 2",
   "language": "python",
   "name": "python2"
  },
  "language_info": {
   "codemirror_mode": {
    "name": "ipython",
    "version": 2
   },
   "file_extension": ".py",
   "mimetype": "text/x-python",
   "name": "python",
   "nbconvert_exporter": "python",
   "pygments_lexer": "ipython2",
   "version": "2.7.13"
  }
 },
 "nbformat": 4,
 "nbformat_minor": 1
}
